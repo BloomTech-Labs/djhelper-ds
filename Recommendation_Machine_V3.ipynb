{
  "nbformat": 4,
  "nbformat_minor": 0,
  "metadata": {
    "colab": {
      "name": "Recommendation Machine V3.ipynb",
      "provenance": [],
      "machine_shape": "hm"
    },
    "kernelspec": {
      "name": "python3",
      "display_name": "Python 3"
    }
  },
  "cells": [
    {
      "cell_type": "code",
      "metadata": {
        "id": "fqty5cBHOq4p",
        "colab_type": "code",
        "outputId": "952fa915-d1d7-436a-bbcc-8601b8ba1369",
        "colab": {
          "base_uri": "https://localhost:8080/",
          "height": 185
        }
      },
      "source": [
        "!pip install spotipy"
      ],
      "execution_count": 1,
      "outputs": [
        {
          "output_type": "stream",
          "text": [
            "Collecting spotipy\n",
            "  Downloading https://files.pythonhosted.org/packages/d5/da/f6f71a33c99af2a22b3f885d290116d0e963afa095bf77aba4226f88a876/spotipy-2.9.0-py3-none-any.whl\n",
            "Requirement already satisfied: six>=1.10.0 in /usr/local/lib/python3.6/dist-packages (from spotipy) (1.12.0)\n",
            "Requirement already satisfied: requests>=2.20.0 in /usr/local/lib/python3.6/dist-packages (from spotipy) (2.21.0)\n",
            "Requirement already satisfied: certifi>=2017.4.17 in /usr/local/lib/python3.6/dist-packages (from requests>=2.20.0->spotipy) (2019.11.28)\n",
            "Requirement already satisfied: urllib3<1.25,>=1.21.1 in /usr/local/lib/python3.6/dist-packages (from requests>=2.20.0->spotipy) (1.24.3)\n",
            "Requirement already satisfied: chardet<3.1.0,>=3.0.2 in /usr/local/lib/python3.6/dist-packages (from requests>=2.20.0->spotipy) (3.0.4)\n",
            "Requirement already satisfied: idna<2.9,>=2.5 in /usr/local/lib/python3.6/dist-packages (from requests>=2.20.0->spotipy) (2.8)\n",
            "Installing collected packages: spotipy\n",
            "Successfully installed spotipy-2.9.0\n"
          ],
          "name": "stdout"
        }
      ]
    },
    {
      "cell_type": "code",
      "metadata": {
        "id": "qufelSPjqe40",
        "colab_type": "code",
        "colab": {}
      },
      "source": [
        "# Import libraries\n",
        "\n",
        "import pandas as pd\n",
        "from sklearn.preprocessing import StandardScaler\n",
        "from sklearn.neighbors import NearestNeighbors\n",
        "import spotipy\n",
        "from spotipy.oauth2 import SpotifyClientCredentials"
      ],
      "execution_count": 0,
      "outputs": []
    },
    {
      "cell_type": "code",
      "metadata": {
        "id": "QG9oaJTyOuuU",
        "colab_type": "code",
        "colab": {}
      },
      "source": [
        "# Setup credentials \n",
        "\n",
        "client_id = '055ab63103814554b2aa174b1e3de7af'\n",
        "client_secret = 'd5309d21a07746de8a363dc7c053b75d'\n",
        "redirect_uri = 'http://localhost/'"
      ],
      "execution_count": 0,
      "outputs": []
    },
    {
      "cell_type": "code",
      "metadata": {
        "id": "oV8altAiPO2t",
        "colab_type": "code",
        "colab": {}
      },
      "source": [
        "client_credentials_manager = SpotifyClientCredentials(client_id=client_id, client_secret=client_secret)\n",
        "sp = spotipy.Spotify(client_credentials_manager=client_credentials_manager)\n",
        "sp.trace = False"
      ],
      "execution_count": 0,
      "outputs": []
    },
    {
      "cell_type": "code",
      "metadata": {
        "id": "hWfnemNAd0U7",
        "colab_type": "code",
        "colab": {}
      },
      "source": [
        "# Function for finding similar songs\n",
        "\n",
        "def dj_rec(track_id, max_distance=6.5, neighbors=3):\n",
        "    \"\"\"\n",
        "    Prints the ids of relevant songs, along with their distance from the input song.\n",
        "\n",
        "    Parameters:\n",
        "    track_id (string): Spotify track id.\n",
        "    max_distance (float): maximum euclidean distance a song can be \n",
        "                          from the input song for it to be returned.\n",
        "    neighbors (int): number of song recommendations returned.\n",
        "    \"\"\"\n",
        "\n",
        "    rel_artists = sp.artist_related_artists(sp.track(track_id=track_id)['artists'][0]['id'])['artists']\n",
        "    artist_log = []\n",
        "    for a in rel_artists:\n",
        "        artist_log.append(a['id'])\n",
        "    feat_log = []\n",
        "    for artist in artist_log:\n",
        "        for track in sp.artist_top_tracks(artist)['tracks']:\n",
        "            feat_log.append(sp.audio_features(track['id'])[0])\n",
        "    \n",
        "    catalog = pd.DataFrame.from_dict(feat_log)\n",
        "    \n",
        "    root = pd.DataFrame.from_dict(sp.audio_features(tracks=[track_id]))\n",
        "\n",
        "    merged_df = root.append(catalog, ignore_index=True)\n",
        "    \n",
        "    dropped_df = merged_df.drop(columns=['uri', 'track_href', 'id', 'duration_ms', 'time_signature', 'mode', 'loudness', 'type', 'analysis_url'])\n",
        "    scaled_df = StandardScaler().fit_transform(dropped_df)\n",
        "    trans_array = scaled_df.copy()\n",
        "    trans_array[:,0] = [u*2.4 for u in trans_array[:,0]] # acousticness\n",
        "    trans_array[:,1] = [((u*u)**0.5)*u for u in trans_array[:,1]] # danceability\n",
        "    trans_array[:,2] = [u*1.7 for u in trans_array[:,2]] # energy\n",
        "    trans_array[:,3] = [u*1.4 for u in trans_array[:,3]] # instrumentalness\n",
        "    trans_array[:,4] = [u*0.9 for u in trans_array[:,4]] # key\n",
        "    trans_array[:,5] = [u*1.0 for u in trans_array[:,5]] # liveness\n",
        "    trans_array[:,6] = [u*1.0 for u in trans_array[:,6]] # speechiness\n",
        "    trans_array[:,7] = [u*1.1 for u in trans_array[:,7]] # tempo\n",
        "    trans_array[:,8] = [u*2.5 for u in trans_array[:,8]] # valence\n",
        "\n",
        "    knn = NearestNeighbors()\n",
        "    knn.fit(trans_array)\n",
        "\n",
        "    rec = knn.kneighbors(trans_array[[0]], n_neighbors=neighbors+1)\n",
        "\n",
        "    print('Seed')\n",
        "    print('ID:     ', root.loc[0,'id'], '\\n')\n",
        "    print('\\nRecommendations')\n",
        "\n",
        "    for n in range(1,neighbors+1):\n",
        "        if rec[0][0][n] <= max_distance:\n",
        "            print('ID:      ', merged_df.loc[rec[1][0][n],'id'])\n",
        "            print('Distance:', rec[0][0][n], '\\n')\n",
        "\n",
        "    if rec[0][0][1] > max_distance:\n",
        "        print('No matches in catalog')"
      ],
      "execution_count": 0,
      "outputs": []
    },
    {
      "cell_type": "code",
      "metadata": {
        "id": "ChaOkSzDf9at",
        "colab_type": "code",
        "outputId": "3575945b-3812-4dbb-f2d1-4b35e97f9196",
        "colab": {
          "base_uri": "https://localhost:8080/",
          "height": 286
        }
      },
      "source": [
        "# Example\n",
        "\n",
        "dj_rec('35B5N7Re78hqgqc2cmt6Zs', max_distance=10.0, neighbors=3)"
      ],
      "execution_count": 8,
      "outputs": [
        {
          "output_type": "stream",
          "text": [
            "retrying ...6secs\n",
            "retrying ...8secs\n",
            "Seed\n",
            "ID:      35B5N7Re78hqgqc2cmt6Zs \n",
            "\n",
            "\n",
            "Recommendations\n",
            "ID:       0yraRKfP8x2JvzauMrMg5x\n",
            "Distance: 2.1396135876233973 \n",
            "\n",
            "ID:       2a3OvofOcwGIqUuTddaOhm\n",
            "Distance: 2.388325393922539 \n",
            "\n",
            "ID:       2RRqwGxtHGbBVtOpvpUCge\n",
            "Distance: 2.615545411402499 \n",
            "\n"
          ],
          "name": "stdout"
        }
      ]
    },
    {
      "cell_type": "code",
      "metadata": {
        "id": "v1A8oUOfKuf4",
        "colab_type": "code",
        "colab": {
          "base_uri": "https://localhost:8080/",
          "height": 34
        },
        "outputId": "23c37bb3-7d5e-4dfa-f445-e90b70b51c39"
      },
      "source": [
        "# Find song name from track id\n",
        "\n",
        "sp.track('35B5N7Re78hqgqc2cmt6Zs')['name']"
      ],
      "execution_count": 12,
      "outputs": [
        {
          "output_type": "execute_result",
          "data": {
            "text/plain": [
              "'Moon Two'"
            ]
          },
          "metadata": {
            "tags": []
          },
          "execution_count": 12
        }
      ]
    },
    {
      "cell_type": "code",
      "metadata": {
        "id": "2PUIC_7sK0H1",
        "colab_type": "code",
        "colab": {
          "base_uri": "https://localhost:8080/",
          "height": 118
        },
        "outputId": "44718682-1818-4920-f961-79a3fb5a8c8b"
      },
      "source": [
        "# Find artist name from track id\n",
        "\n",
        "sp.track('35B5N7Re78hqgqc2cmt6Zs')['artists']"
      ],
      "execution_count": 11,
      "outputs": [
        {
          "output_type": "execute_result",
          "data": {
            "text/plain": [
              "[{'external_urls': {'spotify': 'https://open.spotify.com/artist/4Fw9V88d2NoplsZBOkBWaS'},\n",
              "  'href': 'https://api.spotify.com/v1/artists/4Fw9V88d2NoplsZBOkBWaS',\n",
              "  'id': '4Fw9V88d2NoplsZBOkBWaS',\n",
              "  'name': 'Chris Carter',\n",
              "  'type': 'artist',\n",
              "  'uri': 'spotify:artist:4Fw9V88d2NoplsZBOkBWaS'}]"
            ]
          },
          "metadata": {
            "tags": []
          },
          "execution_count": 11
        }
      ]
    }
  ]
}