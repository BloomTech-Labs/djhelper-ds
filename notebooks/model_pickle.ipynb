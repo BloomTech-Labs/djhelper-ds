{
 "cells": [
  {
   "cell_type": "markdown",
   "metadata": {},
   "source": [
    "## Load Libriries"
   ]
  },
  {
   "cell_type": "code",
   "execution_count": 30,
   "metadata": {},
   "outputs": [],
   "source": [
    "import pandas as pd\n",
    "import numpy as np\n",
    "from joblib import dump, load\n",
    "from sklearn.preprocessing import StandardScaler\n",
    "from sklearn.neighbors import KDTree\n",
    "\n",
    "import os\n",
    "import sys"
   ]
  },
  {
   "cell_type": "markdown",
   "metadata": {},
   "source": [
    "### Load dataset"
   ]
  },
  {
   "cell_type": "code",
   "execution_count": 16,
   "metadata": {},
   "outputs": [],
   "source": [
    "df = pd.read_csv('data/df_prepare.csv')"
   ]
  },
  {
   "cell_type": "code",
   "execution_count": 17,
   "metadata": {},
   "outputs": [
    {
     "data": {
      "text/html": [
       "<div>\n",
       "<style scoped>\n",
       "    .dataframe tbody tr th:only-of-type {\n",
       "        vertical-align: middle;\n",
       "    }\n",
       "\n",
       "    .dataframe tbody tr th {\n",
       "        vertical-align: top;\n",
       "    }\n",
       "\n",
       "    .dataframe thead th {\n",
       "        text-align: right;\n",
       "    }\n",
       "</style>\n",
       "<table border=\"1\" class=\"dataframe\">\n",
       "  <thead>\n",
       "    <tr style=\"text-align: right;\">\n",
       "      <th></th>\n",
       "      <th>artist_name</th>\n",
       "      <th>track_name</th>\n",
       "      <th>track_id</th>\n",
       "      <th>popularity</th>\n",
       "      <th>acousticness</th>\n",
       "      <th>danceability</th>\n",
       "      <th>duration_ms</th>\n",
       "      <th>energy</th>\n",
       "      <th>instrumentalness</th>\n",
       "      <th>key</th>\n",
       "      <th>liveness</th>\n",
       "      <th>loudness</th>\n",
       "      <th>mode</th>\n",
       "      <th>speechiness</th>\n",
       "      <th>tempo</th>\n",
       "      <th>time_signature</th>\n",
       "      <th>valence</th>\n",
       "    </tr>\n",
       "  </thead>\n",
       "  <tbody>\n",
       "    <tr>\n",
       "      <th>0</th>\n",
       "      <td>Henri Salvador</td>\n",
       "      <td>C'est beau de faire un Show</td>\n",
       "      <td>0BRjO6ga9RKCKjfDqeFgWV</td>\n",
       "      <td>0</td>\n",
       "      <td>0.611</td>\n",
       "      <td>0.389</td>\n",
       "      <td>99373</td>\n",
       "      <td>0.910</td>\n",
       "      <td>0.000</td>\n",
       "      <td>2</td>\n",
       "      <td>0.3460</td>\n",
       "      <td>-1.828</td>\n",
       "      <td>1</td>\n",
       "      <td>0.0525</td>\n",
       "      <td>166.969</td>\n",
       "      <td>4</td>\n",
       "      <td>0.814</td>\n",
       "    </tr>\n",
       "    <tr>\n",
       "      <th>1</th>\n",
       "      <td>Martin &amp; les fées</td>\n",
       "      <td>Perdu d'avance (par Gad Elmaleh)</td>\n",
       "      <td>0BjC1NfoEOOusryehmNudP</td>\n",
       "      <td>1</td>\n",
       "      <td>0.246</td>\n",
       "      <td>0.590</td>\n",
       "      <td>137373</td>\n",
       "      <td>0.737</td>\n",
       "      <td>0.000</td>\n",
       "      <td>5</td>\n",
       "      <td>0.1510</td>\n",
       "      <td>-5.559</td>\n",
       "      <td>0</td>\n",
       "      <td>0.0868</td>\n",
       "      <td>174.003</td>\n",
       "      <td>4</td>\n",
       "      <td>0.816</td>\n",
       "    </tr>\n",
       "    <tr>\n",
       "      <th>2</th>\n",
       "      <td>Joseph Williams</td>\n",
       "      <td>Don't Let Me Be Lonely Tonight</td>\n",
       "      <td>0CoSDzoNIKCRs124s9uTVy</td>\n",
       "      <td>3</td>\n",
       "      <td>0.952</td>\n",
       "      <td>0.663</td>\n",
       "      <td>170267</td>\n",
       "      <td>0.131</td>\n",
       "      <td>0.000</td>\n",
       "      <td>2</td>\n",
       "      <td>0.1030</td>\n",
       "      <td>-13.879</td>\n",
       "      <td>0</td>\n",
       "      <td>0.0362</td>\n",
       "      <td>99.488</td>\n",
       "      <td>5</td>\n",
       "      <td>0.368</td>\n",
       "    </tr>\n",
       "    <tr>\n",
       "      <th>3</th>\n",
       "      <td>Henri Salvador</td>\n",
       "      <td>Dis-moi Monsieur Gordon Cooper</td>\n",
       "      <td>0Gc6TVm52BwZD07Ki6tIvf</td>\n",
       "      <td>0</td>\n",
       "      <td>0.703</td>\n",
       "      <td>0.240</td>\n",
       "      <td>152427</td>\n",
       "      <td>0.326</td>\n",
       "      <td>0.000</td>\n",
       "      <td>2</td>\n",
       "      <td>0.0985</td>\n",
       "      <td>-12.178</td>\n",
       "      <td>1</td>\n",
       "      <td>0.0395</td>\n",
       "      <td>171.758</td>\n",
       "      <td>4</td>\n",
       "      <td>0.227</td>\n",
       "    </tr>\n",
       "    <tr>\n",
       "      <th>4</th>\n",
       "      <td>Fabien Nataf</td>\n",
       "      <td>Ouverture</td>\n",
       "      <td>0IuslXpMROHdEPvSl1fTQK</td>\n",
       "      <td>4</td>\n",
       "      <td>0.950</td>\n",
       "      <td>0.331</td>\n",
       "      <td>82625</td>\n",
       "      <td>0.225</td>\n",
       "      <td>0.123</td>\n",
       "      <td>5</td>\n",
       "      <td>0.2020</td>\n",
       "      <td>-21.150</td>\n",
       "      <td>1</td>\n",
       "      <td>0.0456</td>\n",
       "      <td>140.576</td>\n",
       "      <td>4</td>\n",
       "      <td>0.390</td>\n",
       "    </tr>\n",
       "  </tbody>\n",
       "</table>\n",
       "</div>"
      ],
      "text/plain": [
       "         artist_name                        track_name  \\\n",
       "0     Henri Salvador       C'est beau de faire un Show   \n",
       "1  Martin & les fées  Perdu d'avance (par Gad Elmaleh)   \n",
       "2    Joseph Williams    Don't Let Me Be Lonely Tonight   \n",
       "3     Henri Salvador    Dis-moi Monsieur Gordon Cooper   \n",
       "4       Fabien Nataf                         Ouverture   \n",
       "\n",
       "                 track_id  popularity  acousticness  danceability  \\\n",
       "0  0BRjO6ga9RKCKjfDqeFgWV           0         0.611         0.389   \n",
       "1  0BjC1NfoEOOusryehmNudP           1         0.246         0.590   \n",
       "2  0CoSDzoNIKCRs124s9uTVy           3         0.952         0.663   \n",
       "3  0Gc6TVm52BwZD07Ki6tIvf           0         0.703         0.240   \n",
       "4  0IuslXpMROHdEPvSl1fTQK           4         0.950         0.331   \n",
       "\n",
       "   duration_ms  energy  instrumentalness  key  liveness  loudness  mode  \\\n",
       "0        99373   0.910             0.000    2    0.3460    -1.828     1   \n",
       "1       137373   0.737             0.000    5    0.1510    -5.559     0   \n",
       "2       170267   0.131             0.000    2    0.1030   -13.879     0   \n",
       "3       152427   0.326             0.000    2    0.0985   -12.178     1   \n",
       "4        82625   0.225             0.123    5    0.2020   -21.150     1   \n",
       "\n",
       "   speechiness    tempo  time_signature  valence  \n",
       "0       0.0525  166.969               4    0.814  \n",
       "1       0.0868  174.003               4    0.816  \n",
       "2       0.0362   99.488               5    0.368  \n",
       "3       0.0395  171.758               4    0.227  \n",
       "4       0.0456  140.576               4    0.390  "
      ]
     },
     "execution_count": 17,
     "metadata": {},
     "output_type": "execute_result"
    }
   ],
   "source": [
    "df.head()"
   ]
  },
  {
   "cell_type": "code",
   "execution_count": 78,
   "metadata": {},
   "outputs": [
    {
     "data": {
      "text/plain": [
       "Giuseppe Verdi             1312\n",
       "Giacomo Puccini            1095\n",
       "Kimbo Children's Music      971\n",
       "Wolfgang Amadeus Mozart     800\n",
       "Richard Wagner              778\n",
       "Nobuo Uematsu               773\n",
       "Juice Music                 684\n",
       "Georges Bizet               677\n",
       "Randy Newman                667\n",
       "Johann Sebastian Bach       646\n",
       "Name: artist_name, dtype: int64"
      ]
     },
     "execution_count": 78,
     "metadata": {},
     "output_type": "execute_result"
    }
   ],
   "source": [
    "df.artist_name.value_counts()[:10]"
   ]
  },
  {
   "cell_type": "code",
   "execution_count": 77,
   "metadata": {},
   "outputs": [
    {
     "data": {
      "text/plain": [
       "artist_name          object\n",
       "track_name           object\n",
       "track_id             object\n",
       "popularity             int8\n",
       "acousticness        float16\n",
       "danceability        float16\n",
       "duration_ms           int32\n",
       "energy              float16\n",
       "instrumentalness    float16\n",
       "key                    int8\n",
       "liveness            float16\n",
       "loudness            float16\n",
       "mode                   int8\n",
       "speechiness         float16\n",
       "tempo               float16\n",
       "time_signature         int8\n",
       "valence             float16\n",
       "dtype: object"
      ]
     },
     "execution_count": 77,
     "metadata": {},
     "output_type": "execute_result"
    }
   ],
   "source": [
    "df.dtypes"
   ]
  },
  {
   "cell_type": "code",
   "execution_count": 95,
   "metadata": {},
   "outputs": [
    {
     "data": {
      "text/plain": [
       "514.0"
      ]
     },
     "execution_count": 95,
     "metadata": {},
     "output_type": "execute_result"
    }
   ],
   "source": [
    "df['danceability'].unique().sum()"
   ]
  },
  {
   "cell_type": "markdown",
   "metadata": {},
   "source": [
    "### Create reduce memory function"
   ]
  },
  {
   "cell_type": "code",
   "execution_count": 18,
   "metadata": {},
   "outputs": [],
   "source": [
    "def reduce_mem_usage(df, verbose=True):\n",
    "    \"\"\" Function iterates through all the columns of a dataframe and modify the data type\n",
    "        to reduce memory usage.\n",
    "        Credit to: https://www.kaggle.com/gemartin/load-data-reduce-memory-usage\n",
    "        Parameters\n",
    "        ----------\n",
    "        df : Pandas DataFrame\n",
    "        verbose: (True) by default, prints out before and after memory usage\n",
    "        Returns\n",
    "        -------\n",
    "        df : Reduced Memory Pandas DataFrame\n",
    "    \"\"\"\n",
    "\n",
    "    if verbose:\n",
    "        start_mem = df.memory_usage().sum() / 1024**2\n",
    "        print('Memory usage of dataframe is {:.2f} MB'.format(start_mem))\n",
    "\n",
    "    for col in df.columns:\n",
    "        col_type = df[col].dtype\n",
    "\n",
    "        if col_type != object:\n",
    "            c_min = df[col].min()\n",
    "            c_max = df[col].max()\n",
    "            if str(col_type)[:3] == 'int':\n",
    "                if c_min > np.iinfo(np.int8).min and c_max < np.iinfo(np.int8).max:\n",
    "                    df[col] = df[col].astype(np.int8)\n",
    "                elif c_min > np.iinfo(np.int16).min and c_max < np.iinfo(np.int16).max:\n",
    "                    df[col] = df[col].astype(np.int16)\n",
    "                elif c_min > np.iinfo(np.int32).min and c_max < np.iinfo(np.int32).max:\n",
    "                    df[col] = df[col].astype(np.int32)\n",
    "                elif c_min > np.iinfo(np.int64).min and c_max < np.iinfo(np.int64).max:\n",
    "                    df[col] = df[col].astype(np.int64)\n",
    "            else:\n",
    "                if c_min > np.finfo(np.float16).min and c_max < np.finfo(np.float16).max:\n",
    "                    df[col] = df[col].astype(np.float16)\n",
    "                elif c_min > np.finfo(np.float32).min and c_max < np.finfo(np.float32).max:\n",
    "                    df[col] = df[col].astype(np.float32)\n",
    "                else:\n",
    "                    df[col] = df[col].astype(np.float64)\n",
    "    if verbose:\n",
    "        end_mem = df.memory_usage().sum() / 1024**2\n",
    "        print('Memory usage after optimization is: {:.2f} MB'.format(end_mem))\n",
    "        print('Decreased by {:.1f}%'.format(\n",
    "            100 * (start_mem - end_mem) / start_mem))\n",
    "\n",
    "    return df"
   ]
  },
  {
   "cell_type": "markdown",
   "metadata": {},
   "source": [
    "### Reduce memory"
   ]
  },
  {
   "cell_type": "code",
   "execution_count": 19,
   "metadata": {},
   "outputs": [
    {
     "name": "stdout",
     "output_type": "stream",
     "text": [
      "Memory usage of dataframe is 24.75 MB\n",
      "Memory usage after optimization is: 9.97 MB\n",
      "Decreased by 59.7%\n"
     ]
    }
   ],
   "source": [
    "df = reduce_mem_usage(df)  # Reduces Memory Usage"
   ]
  },
  {
   "cell_type": "code",
   "execution_count": 20,
   "metadata": {},
   "outputs": [
    {
     "data": {
      "text/html": [
       "<div>\n",
       "<style scoped>\n",
       "    .dataframe tbody tr th:only-of-type {\n",
       "        vertical-align: middle;\n",
       "    }\n",
       "\n",
       "    .dataframe tbody tr th {\n",
       "        vertical-align: top;\n",
       "    }\n",
       "\n",
       "    .dataframe thead th {\n",
       "        text-align: right;\n",
       "    }\n",
       "</style>\n",
       "<table border=\"1\" class=\"dataframe\">\n",
       "  <thead>\n",
       "    <tr style=\"text-align: right;\">\n",
       "      <th></th>\n",
       "      <th>artist_name</th>\n",
       "      <th>track_name</th>\n",
       "      <th>track_id</th>\n",
       "      <th>popularity</th>\n",
       "      <th>acousticness</th>\n",
       "      <th>danceability</th>\n",
       "      <th>duration_ms</th>\n",
       "      <th>energy</th>\n",
       "      <th>instrumentalness</th>\n",
       "      <th>key</th>\n",
       "      <th>liveness</th>\n",
       "      <th>loudness</th>\n",
       "      <th>mode</th>\n",
       "      <th>speechiness</th>\n",
       "      <th>tempo</th>\n",
       "      <th>time_signature</th>\n",
       "      <th>valence</th>\n",
       "    </tr>\n",
       "  </thead>\n",
       "  <tbody>\n",
       "    <tr>\n",
       "      <th>0</th>\n",
       "      <td>Henri Salvador</td>\n",
       "      <td>C'est beau de faire un Show</td>\n",
       "      <td>0BRjO6ga9RKCKjfDqeFgWV</td>\n",
       "      <td>0</td>\n",
       "      <td>0.610840</td>\n",
       "      <td>0.388916</td>\n",
       "      <td>99373</td>\n",
       "      <td>0.910156</td>\n",
       "      <td>0.000000</td>\n",
       "      <td>2</td>\n",
       "      <td>0.345947</td>\n",
       "      <td>-1.828125</td>\n",
       "      <td>1</td>\n",
       "      <td>0.052490</td>\n",
       "      <td>167.000</td>\n",
       "      <td>4</td>\n",
       "      <td>0.813965</td>\n",
       "    </tr>\n",
       "    <tr>\n",
       "      <th>1</th>\n",
       "      <td>Martin &amp; les fées</td>\n",
       "      <td>Perdu d'avance (par Gad Elmaleh)</td>\n",
       "      <td>0BjC1NfoEOOusryehmNudP</td>\n",
       "      <td>1</td>\n",
       "      <td>0.245972</td>\n",
       "      <td>0.589844</td>\n",
       "      <td>137373</td>\n",
       "      <td>0.736816</td>\n",
       "      <td>0.000000</td>\n",
       "      <td>5</td>\n",
       "      <td>0.151001</td>\n",
       "      <td>-5.558594</td>\n",
       "      <td>0</td>\n",
       "      <td>0.086792</td>\n",
       "      <td>174.000</td>\n",
       "      <td>4</td>\n",
       "      <td>0.815918</td>\n",
       "    </tr>\n",
       "    <tr>\n",
       "      <th>2</th>\n",
       "      <td>Joseph Williams</td>\n",
       "      <td>Don't Let Me Be Lonely Tonight</td>\n",
       "      <td>0CoSDzoNIKCRs124s9uTVy</td>\n",
       "      <td>3</td>\n",
       "      <td>0.952148</td>\n",
       "      <td>0.663086</td>\n",
       "      <td>170267</td>\n",
       "      <td>0.130981</td>\n",
       "      <td>0.000000</td>\n",
       "      <td>2</td>\n",
       "      <td>0.103027</td>\n",
       "      <td>-13.882812</td>\n",
       "      <td>0</td>\n",
       "      <td>0.036194</td>\n",
       "      <td>99.500</td>\n",
       "      <td>5</td>\n",
       "      <td>0.367920</td>\n",
       "    </tr>\n",
       "    <tr>\n",
       "      <th>3</th>\n",
       "      <td>Henri Salvador</td>\n",
       "      <td>Dis-moi Monsieur Gordon Cooper</td>\n",
       "      <td>0Gc6TVm52BwZD07Ki6tIvf</td>\n",
       "      <td>0</td>\n",
       "      <td>0.703125</td>\n",
       "      <td>0.239990</td>\n",
       "      <td>152427</td>\n",
       "      <td>0.325928</td>\n",
       "      <td>0.000000</td>\n",
       "      <td>2</td>\n",
       "      <td>0.098511</td>\n",
       "      <td>-12.179688</td>\n",
       "      <td>1</td>\n",
       "      <td>0.039490</td>\n",
       "      <td>171.750</td>\n",
       "      <td>4</td>\n",
       "      <td>0.227051</td>\n",
       "    </tr>\n",
       "    <tr>\n",
       "      <th>4</th>\n",
       "      <td>Fabien Nataf</td>\n",
       "      <td>Ouverture</td>\n",
       "      <td>0IuslXpMROHdEPvSl1fTQK</td>\n",
       "      <td>4</td>\n",
       "      <td>0.950195</td>\n",
       "      <td>0.331055</td>\n",
       "      <td>82625</td>\n",
       "      <td>0.224976</td>\n",
       "      <td>0.122986</td>\n",
       "      <td>5</td>\n",
       "      <td>0.202026</td>\n",
       "      <td>-21.156250</td>\n",
       "      <td>1</td>\n",
       "      <td>0.045593</td>\n",
       "      <td>140.625</td>\n",
       "      <td>4</td>\n",
       "      <td>0.389893</td>\n",
       "    </tr>\n",
       "  </tbody>\n",
       "</table>\n",
       "</div>"
      ],
      "text/plain": [
       "         artist_name                        track_name  \\\n",
       "0     Henri Salvador       C'est beau de faire un Show   \n",
       "1  Martin & les fées  Perdu d'avance (par Gad Elmaleh)   \n",
       "2    Joseph Williams    Don't Let Me Be Lonely Tonight   \n",
       "3     Henri Salvador    Dis-moi Monsieur Gordon Cooper   \n",
       "4       Fabien Nataf                         Ouverture   \n",
       "\n",
       "                 track_id  popularity  acousticness  danceability  \\\n",
       "0  0BRjO6ga9RKCKjfDqeFgWV           0      0.610840      0.388916   \n",
       "1  0BjC1NfoEOOusryehmNudP           1      0.245972      0.589844   \n",
       "2  0CoSDzoNIKCRs124s9uTVy           3      0.952148      0.663086   \n",
       "3  0Gc6TVm52BwZD07Ki6tIvf           0      0.703125      0.239990   \n",
       "4  0IuslXpMROHdEPvSl1fTQK           4      0.950195      0.331055   \n",
       "\n",
       "   duration_ms    energy  instrumentalness  key  liveness   loudness  mode  \\\n",
       "0        99373  0.910156          0.000000    2  0.345947  -1.828125     1   \n",
       "1       137373  0.736816          0.000000    5  0.151001  -5.558594     0   \n",
       "2       170267  0.130981          0.000000    2  0.103027 -13.882812     0   \n",
       "3       152427  0.325928          0.000000    2  0.098511 -12.179688     1   \n",
       "4        82625  0.224976          0.122986    5  0.202026 -21.156250     1   \n",
       "\n",
       "   speechiness    tempo  time_signature   valence  \n",
       "0     0.052490  167.000               4  0.813965  \n",
       "1     0.086792  174.000               4  0.815918  \n",
       "2     0.036194   99.500               5  0.367920  \n",
       "3     0.039490  171.750               4  0.227051  \n",
       "4     0.045593  140.625               4  0.389893  "
      ]
     },
     "execution_count": 20,
     "metadata": {},
     "output_type": "execute_result"
    }
   ],
   "source": [
    "df.head()"
   ]
  },
  {
   "cell_type": "markdown",
   "metadata": {},
   "source": [
    "### Wrangle the data"
   ]
  },
  {
   "cell_type": "code",
   "execution_count": 21,
   "metadata": {},
   "outputs": [],
   "source": [
    "def wrangle(df):\n",
    "\n",
    "    # Set to avoid SettingWithCopyWarning\n",
    "    df = df.copy()\n",
    "    \n",
    "    # Drop Duplicates\n",
    "    df = df.drop_duplicates(keep='first')\n",
    "    \n",
    "    # isolating values with a high level of 'speechiness' as they are generally not music but other types of recordings.\n",
    "    # converting unwanted values to null then removing those rows\n",
    "    df['speechiness'] = df['speechiness'].where(df['speechiness'] < .66)\n",
    "    \n",
    "    # Drop missing values\n",
    "    df = df.dropna()\n",
    "\n",
    "    return df"
   ]
  },
  {
   "cell_type": "code",
   "execution_count": 22,
   "metadata": {},
   "outputs": [
    {
     "data": {
      "text/plain": [
       "(180223, 17)"
      ]
     },
     "execution_count": 22,
     "metadata": {},
     "output_type": "execute_result"
    }
   ],
   "source": [
    "df.shape"
   ]
  },
  {
   "cell_type": "markdown",
   "metadata": {},
   "source": [
    "## Create Model"
   ]
  },
  {
   "cell_type": "code",
   "execution_count": 23,
   "metadata": {},
   "outputs": [],
   "source": [
    "# wrangle data\n",
    "wrangled = wrangle(df)"
   ]
  },
  {
   "cell_type": "code",
   "execution_count": 26,
   "metadata": {},
   "outputs": [
    {
     "data": {
      "text/plain": [
       "(170867, 17)"
      ]
     },
     "execution_count": 26,
     "metadata": {},
     "output_type": "execute_result"
    }
   ],
   "source": [
    "# print data shape after wrangling\n",
    "wrangled.shape"
   ]
  },
  {
   "cell_type": "code",
   "execution_count": 27,
   "metadata": {},
   "outputs": [
    {
     "data": {
      "text/html": [
       "<div>\n",
       "<style scoped>\n",
       "    .dataframe tbody tr th:only-of-type {\n",
       "        vertical-align: middle;\n",
       "    }\n",
       "\n",
       "    .dataframe tbody tr th {\n",
       "        vertical-align: top;\n",
       "    }\n",
       "\n",
       "    .dataframe thead th {\n",
       "        text-align: right;\n",
       "    }\n",
       "</style>\n",
       "<table border=\"1\" class=\"dataframe\">\n",
       "  <thead>\n",
       "    <tr style=\"text-align: right;\">\n",
       "      <th></th>\n",
       "      <th>artist_name</th>\n",
       "      <th>track_name</th>\n",
       "      <th>track_id</th>\n",
       "      <th>popularity</th>\n",
       "      <th>acousticness</th>\n",
       "      <th>danceability</th>\n",
       "      <th>duration_ms</th>\n",
       "      <th>energy</th>\n",
       "      <th>instrumentalness</th>\n",
       "      <th>key</th>\n",
       "      <th>liveness</th>\n",
       "      <th>loudness</th>\n",
       "      <th>mode</th>\n",
       "      <th>speechiness</th>\n",
       "      <th>tempo</th>\n",
       "      <th>time_signature</th>\n",
       "      <th>valence</th>\n",
       "    </tr>\n",
       "  </thead>\n",
       "  <tbody>\n",
       "    <tr>\n",
       "      <th>0</th>\n",
       "      <td>Henri Salvador</td>\n",
       "      <td>C'est beau de faire un Show</td>\n",
       "      <td>0BRjO6ga9RKCKjfDqeFgWV</td>\n",
       "      <td>0</td>\n",
       "      <td>0.610840</td>\n",
       "      <td>0.388916</td>\n",
       "      <td>99373</td>\n",
       "      <td>0.910156</td>\n",
       "      <td>0.000000</td>\n",
       "      <td>2</td>\n",
       "      <td>0.345947</td>\n",
       "      <td>-1.828125</td>\n",
       "      <td>1</td>\n",
       "      <td>0.052490</td>\n",
       "      <td>167.000</td>\n",
       "      <td>4</td>\n",
       "      <td>0.813965</td>\n",
       "    </tr>\n",
       "    <tr>\n",
       "      <th>1</th>\n",
       "      <td>Martin &amp; les fées</td>\n",
       "      <td>Perdu d'avance (par Gad Elmaleh)</td>\n",
       "      <td>0BjC1NfoEOOusryehmNudP</td>\n",
       "      <td>1</td>\n",
       "      <td>0.245972</td>\n",
       "      <td>0.589844</td>\n",
       "      <td>137373</td>\n",
       "      <td>0.736816</td>\n",
       "      <td>0.000000</td>\n",
       "      <td>5</td>\n",
       "      <td>0.151001</td>\n",
       "      <td>-5.558594</td>\n",
       "      <td>0</td>\n",
       "      <td>0.086792</td>\n",
       "      <td>174.000</td>\n",
       "      <td>4</td>\n",
       "      <td>0.815918</td>\n",
       "    </tr>\n",
       "    <tr>\n",
       "      <th>2</th>\n",
       "      <td>Joseph Williams</td>\n",
       "      <td>Don't Let Me Be Lonely Tonight</td>\n",
       "      <td>0CoSDzoNIKCRs124s9uTVy</td>\n",
       "      <td>3</td>\n",
       "      <td>0.952148</td>\n",
       "      <td>0.663086</td>\n",
       "      <td>170267</td>\n",
       "      <td>0.130981</td>\n",
       "      <td>0.000000</td>\n",
       "      <td>2</td>\n",
       "      <td>0.103027</td>\n",
       "      <td>-13.882812</td>\n",
       "      <td>0</td>\n",
       "      <td>0.036194</td>\n",
       "      <td>99.500</td>\n",
       "      <td>5</td>\n",
       "      <td>0.367920</td>\n",
       "    </tr>\n",
       "    <tr>\n",
       "      <th>3</th>\n",
       "      <td>Henri Salvador</td>\n",
       "      <td>Dis-moi Monsieur Gordon Cooper</td>\n",
       "      <td>0Gc6TVm52BwZD07Ki6tIvf</td>\n",
       "      <td>0</td>\n",
       "      <td>0.703125</td>\n",
       "      <td>0.239990</td>\n",
       "      <td>152427</td>\n",
       "      <td>0.325928</td>\n",
       "      <td>0.000000</td>\n",
       "      <td>2</td>\n",
       "      <td>0.098511</td>\n",
       "      <td>-12.179688</td>\n",
       "      <td>1</td>\n",
       "      <td>0.039490</td>\n",
       "      <td>171.750</td>\n",
       "      <td>4</td>\n",
       "      <td>0.227051</td>\n",
       "    </tr>\n",
       "    <tr>\n",
       "      <th>4</th>\n",
       "      <td>Fabien Nataf</td>\n",
       "      <td>Ouverture</td>\n",
       "      <td>0IuslXpMROHdEPvSl1fTQK</td>\n",
       "      <td>4</td>\n",
       "      <td>0.950195</td>\n",
       "      <td>0.331055</td>\n",
       "      <td>82625</td>\n",
       "      <td>0.224976</td>\n",
       "      <td>0.122986</td>\n",
       "      <td>5</td>\n",
       "      <td>0.202026</td>\n",
       "      <td>-21.156250</td>\n",
       "      <td>1</td>\n",
       "      <td>0.045593</td>\n",
       "      <td>140.625</td>\n",
       "      <td>4</td>\n",
       "      <td>0.389893</td>\n",
       "    </tr>\n",
       "  </tbody>\n",
       "</table>\n",
       "</div>"
      ],
      "text/plain": [
       "         artist_name                        track_name  \\\n",
       "0     Henri Salvador       C'est beau de faire un Show   \n",
       "1  Martin & les fées  Perdu d'avance (par Gad Elmaleh)   \n",
       "2    Joseph Williams    Don't Let Me Be Lonely Tonight   \n",
       "3     Henri Salvador    Dis-moi Monsieur Gordon Cooper   \n",
       "4       Fabien Nataf                         Ouverture   \n",
       "\n",
       "                 track_id  popularity  acousticness  danceability  \\\n",
       "0  0BRjO6ga9RKCKjfDqeFgWV           0      0.610840      0.388916   \n",
       "1  0BjC1NfoEOOusryehmNudP           1      0.245972      0.589844   \n",
       "2  0CoSDzoNIKCRs124s9uTVy           3      0.952148      0.663086   \n",
       "3  0Gc6TVm52BwZD07Ki6tIvf           0      0.703125      0.239990   \n",
       "4  0IuslXpMROHdEPvSl1fTQK           4      0.950195      0.331055   \n",
       "\n",
       "   duration_ms    energy  instrumentalness  key  liveness   loudness  mode  \\\n",
       "0        99373  0.910156          0.000000    2  0.345947  -1.828125     1   \n",
       "1       137373  0.736816          0.000000    5  0.151001  -5.558594     0   \n",
       "2       170267  0.130981          0.000000    2  0.103027 -13.882812     0   \n",
       "3       152427  0.325928          0.000000    2  0.098511 -12.179688     1   \n",
       "4        82625  0.224976          0.122986    5  0.202026 -21.156250     1   \n",
       "\n",
       "   speechiness    tempo  time_signature   valence  \n",
       "0     0.052490  167.000               4  0.813965  \n",
       "1     0.086792  174.000               4  0.815918  \n",
       "2     0.036194   99.500               5  0.367920  \n",
       "3     0.039490  171.750               4  0.227051  \n",
       "4     0.045593  140.625               4  0.389893  "
      ]
     },
     "execution_count": 27,
     "metadata": {},
     "output_type": "execute_result"
    }
   ],
   "source": [
    "wrangled.head()"
   ]
  },
  {
   "cell_type": "code",
   "execution_count": 28,
   "metadata": {},
   "outputs": [],
   "source": [
    "# select numerical features, drop string columns\n",
    "wrangled_numeric = wrangled.drop(columns= ['artist_name', 'track_name', 'track_id'])"
   ]
  },
  {
   "cell_type": "code",
   "execution_count": 31,
   "metadata": {},
   "outputs": [],
   "source": [
    "# Apply Standard Scaler\n",
    "# Create a numpy array where the numerical features are scaled to a mean of 0 and a standard deviation of 1.\n",
    "wrangled_scaled = StandardScaler().fit_transform(wrangled_numeric)"
   ]
  },
  {
   "cell_type": "code",
   "execution_count": 32,
   "metadata": {},
   "outputs": [],
   "source": [
    "# Apply the model\n",
    "tree_model = KDTree(wrangled_scaled)"
   ]
  },
  {
   "cell_type": "markdown",
   "metadata": {},
   "source": [
    "## Pickle Model"
   ]
  },
  {
   "cell_type": "code",
   "execution_count": 35,
   "metadata": {},
   "outputs": [],
   "source": [
    "model_path = 'models/kdtree_model.joblib'"
   ]
  },
  {
   "cell_type": "code",
   "execution_count": 36,
   "metadata": {},
   "outputs": [
    {
     "data": {
      "text/plain": [
       "['models/kdtree_model.joblib']"
      ]
     },
     "execution_count": 36,
     "metadata": {},
     "output_type": "execute_result"
    }
   ],
   "source": [
    "dump(tree_model, model_path)"
   ]
  },
  {
   "cell_type": "markdown",
   "metadata": {},
   "source": [
    "### Get nearest neighbors distance and indices"
   ]
  },
  {
   "cell_type": "code",
   "execution_count": 37,
   "metadata": {},
   "outputs": [],
   "source": [
    "# Query the KDTree model for k nearest neighbors.\n",
    "# (Alternatively) we can use query_radius\n",
    "# Check sklearn docs \n",
    "# https://scikit-learn.org/stable/modules/generated/\n",
    "# sklearn.neighbors.KDTree.html#sklearn.neighbors.KDTree\n",
    "num_of_songs=5\n",
    "dist, indx = tree_model.query(wrangled_scaled, k=num_of_songs+1)"
   ]
  },
  {
   "cell_type": "markdown",
   "metadata": {},
   "source": [
    "### Check distance of k=5 similar songs"
   ]
  },
  {
   "cell_type": "code",
   "execution_count": 38,
   "metadata": {},
   "outputs": [
    {
     "name": "stdout",
     "output_type": "stream",
     "text": [
      "df.shape = (170867, 6)\n"
     ]
    },
    {
     "data": {
      "text/html": [
       "<div>\n",
       "<style scoped>\n",
       "    .dataframe tbody tr th:only-of-type {\n",
       "        vertical-align: middle;\n",
       "    }\n",
       "\n",
       "    .dataframe tbody tr th {\n",
       "        vertical-align: top;\n",
       "    }\n",
       "\n",
       "    .dataframe thead th {\n",
       "        text-align: right;\n",
       "    }\n",
       "</style>\n",
       "<table border=\"1\" class=\"dataframe\">\n",
       "  <thead>\n",
       "    <tr style=\"text-align: right;\">\n",
       "      <th></th>\n",
       "      <th>Searched_Song</th>\n",
       "      <th>Nearest_Song_1</th>\n",
       "      <th>Nearest_Song_2</th>\n",
       "      <th>Nearest_Song_3</th>\n",
       "      <th>Nearest_Song_4</th>\n",
       "      <th>Nearest_Song_5</th>\n",
       "    </tr>\n",
       "  </thead>\n",
       "  <tbody>\n",
       "    <tr>\n",
       "      <th>0</th>\n",
       "      <td>0BRjO6ga9RKCKjfDqeFgWV</td>\n",
       "      <td>83.8</td>\n",
       "      <td>83.7</td>\n",
       "      <td>83.6</td>\n",
       "      <td>83.4</td>\n",
       "      <td>83.2</td>\n",
       "    </tr>\n",
       "    <tr>\n",
       "      <th>1</th>\n",
       "      <td>0BjC1NfoEOOusryehmNudP</td>\n",
       "      <td>90.2</td>\n",
       "      <td>88.3</td>\n",
       "      <td>87.0</td>\n",
       "      <td>86.1</td>\n",
       "      <td>86.1</td>\n",
       "    </tr>\n",
       "    <tr>\n",
       "      <th>2</th>\n",
       "      <td>0CoSDzoNIKCRs124s9uTVy</td>\n",
       "      <td>84.5</td>\n",
       "      <td>84.2</td>\n",
       "      <td>82.7</td>\n",
       "      <td>82.0</td>\n",
       "      <td>81.1</td>\n",
       "    </tr>\n",
       "    <tr>\n",
       "      <th>3</th>\n",
       "      <td>0Gc6TVm52BwZD07Ki6tIvf</td>\n",
       "      <td>89.5</td>\n",
       "      <td>88.8</td>\n",
       "      <td>88.7</td>\n",
       "      <td>88.6</td>\n",
       "      <td>88.5</td>\n",
       "    </tr>\n",
       "    <tr>\n",
       "      <th>4</th>\n",
       "      <td>0IuslXpMROHdEPvSl1fTQK</td>\n",
       "      <td>91.9</td>\n",
       "      <td>91.3</td>\n",
       "      <td>89.2</td>\n",
       "      <td>88.5</td>\n",
       "      <td>88.2</td>\n",
       "    </tr>\n",
       "  </tbody>\n",
       "</table>\n",
       "</div>"
      ],
      "text/plain": [
       "            Searched_Song  Nearest_Song_1  Nearest_Song_2  Nearest_Song_3  \\\n",
       "0  0BRjO6ga9RKCKjfDqeFgWV            83.8            83.7            83.6   \n",
       "1  0BjC1NfoEOOusryehmNudP            90.2            88.3            87.0   \n",
       "2  0CoSDzoNIKCRs124s9uTVy            84.5            84.2            82.7   \n",
       "3  0Gc6TVm52BwZD07Ki6tIvf            89.5            88.8            88.7   \n",
       "4  0IuslXpMROHdEPvSl1fTQK            91.9            91.3            89.2   \n",
       "\n",
       "   Nearest_Song_4  Nearest_Song_5  \n",
       "0            83.4            83.2  \n",
       "1            86.1            86.1  \n",
       "2            82.0            81.1  \n",
       "3            88.6            88.5  \n",
       "4            88.5            88.2  "
      ]
     },
     "execution_count": 38,
     "metadata": {},
     "output_type": "execute_result"
    }
   ],
   "source": [
    "# Create column names first\n",
    "column_names = ['Searched_Song']\n",
    "for i in range(1, num_of_songs+1):\n",
    "    column_names.append(f'Nearest_Song_{i}')\n",
    "    \n",
    "# Calculate scores from distances\n",
    "scores = (1 - ((dist - dist.min()) / (dist.max() - dist.min()))) * 100\n",
    "dist_df = pd.DataFrame(scores.tolist(), columns=column_names)\n",
    "\n",
    "# Limit decimal place output to 1\n",
    "dist_df = dist_df.round(decimals=1)\n",
    "\n",
    "# Replace Searched Song score with the track_id\n",
    "dist_df['Searched_Song'] = df.track_id\n",
    "\n",
    "# Print the shape of the dataframe\n",
    "print(f'df.shape = {dist_df.shape}')\n",
    "\n",
    "# Check distances of similar top 10 nearest songs\n",
    "dist_df.head()"
   ]
  },
  {
   "cell_type": "markdown",
   "metadata": {},
   "source": [
    "### Save Similar Songs"
   ]
  },
  {
   "cell_type": "code",
   "execution_count": 40,
   "metadata": {},
   "outputs": [
    {
     "data": {
      "text/html": [
       "<div>\n",
       "<style scoped>\n",
       "    .dataframe tbody tr th:only-of-type {\n",
       "        vertical-align: middle;\n",
       "    }\n",
       "\n",
       "    .dataframe tbody tr th {\n",
       "        vertical-align: top;\n",
       "    }\n",
       "\n",
       "    .dataframe thead th {\n",
       "        text-align: right;\n",
       "    }\n",
       "</style>\n",
       "<table border=\"1\" class=\"dataframe\">\n",
       "  <thead>\n",
       "    <tr style=\"text-align: right;\">\n",
       "      <th></th>\n",
       "      <th>Searched_Song</th>\n",
       "      <th>Nearest_Song_1</th>\n",
       "      <th>Nearest_Song_2</th>\n",
       "      <th>Nearest_Song_3</th>\n",
       "      <th>Nearest_Song_4</th>\n",
       "      <th>Nearest_Song_5</th>\n",
       "    </tr>\n",
       "  </thead>\n",
       "  <tbody>\n",
       "    <tr>\n",
       "      <th>0</th>\n",
       "      <td>0BRjO6ga9RKCKjfDqeFgWV</td>\n",
       "      <td>0E5vyUbKoQzGtYVUSSLTNY</td>\n",
       "      <td>5vnuEyEfl4mEJO0Gc0n0Oz</td>\n",
       "      <td>1HeBGMouZrkglUFdtLwGuN</td>\n",
       "      <td>1mz9ZrRYu3EPVg9ZHFtjjf</td>\n",
       "      <td>5DEoPzI4ZzHVbMJwPR9VKF</td>\n",
       "    </tr>\n",
       "    <tr>\n",
       "      <th>1</th>\n",
       "      <td>0BjC1NfoEOOusryehmNudP</td>\n",
       "      <td>6BgDdlr4mdML2ws4DUE7ao</td>\n",
       "      <td>3l44IqBPrUx2KNv09bqumH</td>\n",
       "      <td>7m7Ubq8L3QGK5bRFfdmoqf</td>\n",
       "      <td>5CXBgDA0UEIpgXUxEtuLcA</td>\n",
       "      <td>2kM3ckYysOoQJ37vpHLe9H</td>\n",
       "    </tr>\n",
       "    <tr>\n",
       "      <th>2</th>\n",
       "      <td>0CoSDzoNIKCRs124s9uTVy</td>\n",
       "      <td>1GBgNFmIOCFvCvx3vCK107</td>\n",
       "      <td>2EophOpSBiQkq8tKm5Mva0</td>\n",
       "      <td>3fEk4Tw7LWo3TMR8KnJqnI</td>\n",
       "      <td>2PphKjc6zTMqkGBZ6YFAbQ</td>\n",
       "      <td>37RAmgIV3dMKQL5sgBykq3</td>\n",
       "    </tr>\n",
       "    <tr>\n",
       "      <th>3</th>\n",
       "      <td>0Gc6TVm52BwZD07Ki6tIvf</td>\n",
       "      <td>6OpiPBmgBTTzxVwLyTrmiV</td>\n",
       "      <td>06HhlTB8s3dTVAGYxgQqIC</td>\n",
       "      <td>6Xxn6VjtGKrPyOOJVqGKPk</td>\n",
       "      <td>3g77KoEs1P5WurlrMWGIV6</td>\n",
       "      <td>4KtHxcTlIXEKinToSNzPPO</td>\n",
       "    </tr>\n",
       "    <tr>\n",
       "      <th>4</th>\n",
       "      <td>0IuslXpMROHdEPvSl1fTQK</td>\n",
       "      <td>76XU74fn8ePn7Qqb2yelfA</td>\n",
       "      <td>5CQHU35O0vIjjIragKMXSz</td>\n",
       "      <td>3uFGK2sp47ltsVXQsGItkX</td>\n",
       "      <td>1bywY09aQZ61pz8bTBBl2F</td>\n",
       "      <td>5Ku5VjYhM5G4Oybf0vdzMm</td>\n",
       "    </tr>\n",
       "  </tbody>\n",
       "</table>\n",
       "</div>"
      ],
      "text/plain": [
       "            Searched_Song          Nearest_Song_1          Nearest_Song_2  \\\n",
       "0  0BRjO6ga9RKCKjfDqeFgWV  0E5vyUbKoQzGtYVUSSLTNY  5vnuEyEfl4mEJO0Gc0n0Oz   \n",
       "1  0BjC1NfoEOOusryehmNudP  6BgDdlr4mdML2ws4DUE7ao  3l44IqBPrUx2KNv09bqumH   \n",
       "2  0CoSDzoNIKCRs124s9uTVy  1GBgNFmIOCFvCvx3vCK107  2EophOpSBiQkq8tKm5Mva0   \n",
       "3  0Gc6TVm52BwZD07Ki6tIvf  6OpiPBmgBTTzxVwLyTrmiV  06HhlTB8s3dTVAGYxgQqIC   \n",
       "4  0IuslXpMROHdEPvSl1fTQK  76XU74fn8ePn7Qqb2yelfA  5CQHU35O0vIjjIragKMXSz   \n",
       "\n",
       "           Nearest_Song_3          Nearest_Song_4          Nearest_Song_5  \n",
       "0  1HeBGMouZrkglUFdtLwGuN  1mz9ZrRYu3EPVg9ZHFtjjf  5DEoPzI4ZzHVbMJwPR9VKF  \n",
       "1  7m7Ubq8L3QGK5bRFfdmoqf  5CXBgDA0UEIpgXUxEtuLcA  2kM3ckYysOoQJ37vpHLe9H  \n",
       "2  3fEk4Tw7LWo3TMR8KnJqnI  2PphKjc6zTMqkGBZ6YFAbQ  37RAmgIV3dMKQL5sgBykq3  \n",
       "3  6Xxn6VjtGKrPyOOJVqGKPk  3g77KoEs1P5WurlrMWGIV6  4KtHxcTlIXEKinToSNzPPO  \n",
       "4  3uFGK2sp47ltsVXQsGItkX  1bywY09aQZ61pz8bTBBl2F  5Ku5VjYhM5G4Oybf0vdzMm  "
      ]
     },
     "execution_count": 40,
     "metadata": {},
     "output_type": "execute_result"
    }
   ],
   "source": [
    "# Making an array of the Track IDs\n",
    "track_ids = np.array(df.track_id)\n",
    "\n",
    "# A function that creates list of the each song with its nearest neighbors\n",
    "def find_similars(track_ids, indxs):\n",
    "    \"\"\"For each track in the dataset find similar songs\"\"\"\n",
    "    similars = []\n",
    "    for row in indx:\n",
    "        ids = [track_ids[i] for i in row]\n",
    "        similars.append(ids)\n",
    "    return similars\n",
    "\n",
    "# The first item in each row is a song in the original database.  \n",
    "# The next 5 rows are its closest neighbors in the KDTree.\n",
    "nearest_neighbors = find_similars(track_ids, indx)\n",
    "\n",
    "# Convert it to dataframe\n",
    "nearest_neighbors_df = pd.DataFrame(nearest_neighbors, columns=column_names)\n",
    "nearest_neighbors_df.head()"
   ]
  },
  {
   "cell_type": "code",
   "execution_count": 41,
   "metadata": {},
   "outputs": [
    {
     "data": {
      "text/plain": [
       "(170867, 6)"
      ]
     },
     "execution_count": 41,
     "metadata": {},
     "output_type": "execute_result"
    }
   ],
   "source": [
    "nearest_neighbors_df.shape"
   ]
  },
  {
   "cell_type": "markdown",
   "metadata": {},
   "source": [
    "### Drop duplicates"
   ]
  },
  {
   "cell_type": "code",
   "execution_count": 42,
   "metadata": {},
   "outputs": [
    {
     "data": {
      "text/html": [
       "<div>\n",
       "<style scoped>\n",
       "    .dataframe tbody tr th:only-of-type {\n",
       "        vertical-align: middle;\n",
       "    }\n",
       "\n",
       "    .dataframe tbody tr th {\n",
       "        vertical-align: top;\n",
       "    }\n",
       "\n",
       "    .dataframe thead th {\n",
       "        text-align: right;\n",
       "    }\n",
       "</style>\n",
       "<table border=\"1\" class=\"dataframe\">\n",
       "  <thead>\n",
       "    <tr style=\"text-align: right;\">\n",
       "      <th></th>\n",
       "      <th>Searched_Song</th>\n",
       "      <th>Nearest_Song_1</th>\n",
       "      <th>Nearest_Song_2</th>\n",
       "      <th>Nearest_Song_3</th>\n",
       "      <th>Nearest_Song_4</th>\n",
       "      <th>Nearest_Song_5</th>\n",
       "    </tr>\n",
       "  </thead>\n",
       "  <tbody>\n",
       "    <tr>\n",
       "      <th>70786</th>\n",
       "      <td>632gDlnZ9q07F41jDQmHJ7</td>\n",
       "      <td>6lUY6MoqGgPnA27PHYxem5</td>\n",
       "      <td>5UfJ752VKXn9B6r4fVSQb9</td>\n",
       "      <td>5p3NP9mQblDsVJLdfNZJ3I</td>\n",
       "      <td>5jsDxDkJ1PqyYUWhDMr86B</td>\n",
       "      <td>6o2g1BJvtYQssH84kBYs7y</td>\n",
       "    </tr>\n",
       "  </tbody>\n",
       "</table>\n",
       "</div>"
      ],
      "text/plain": [
       "                Searched_Song          Nearest_Song_1          Nearest_Song_2  \\\n",
       "70786  632gDlnZ9q07F41jDQmHJ7  6lUY6MoqGgPnA27PHYxem5  5UfJ752VKXn9B6r4fVSQb9   \n",
       "\n",
       "               Nearest_Song_3          Nearest_Song_4          Nearest_Song_5  \n",
       "70786  5p3NP9mQblDsVJLdfNZJ3I  5jsDxDkJ1PqyYUWhDMr86B  6o2g1BJvtYQssH84kBYs7y  "
      ]
     },
     "execution_count": 42,
     "metadata": {},
     "output_type": "execute_result"
    }
   ],
   "source": [
    "nearest_neighbors_df[nearest_neighbors_df.duplicated()].sample(1, random_state=42)"
   ]
  },
  {
   "cell_type": "code",
   "execution_count": 43,
   "metadata": {},
   "outputs": [
    {
     "data": {
      "text/html": [
       "<div>\n",
       "<style scoped>\n",
       "    .dataframe tbody tr th:only-of-type {\n",
       "        vertical-align: middle;\n",
       "    }\n",
       "\n",
       "    .dataframe tbody tr th {\n",
       "        vertical-align: top;\n",
       "    }\n",
       "\n",
       "    .dataframe thead th {\n",
       "        text-align: right;\n",
       "    }\n",
       "</style>\n",
       "<table border=\"1\" class=\"dataframe\">\n",
       "  <thead>\n",
       "    <tr style=\"text-align: right;\">\n",
       "      <th></th>\n",
       "      <th>Searched_Song</th>\n",
       "      <th>Nearest_Song_1</th>\n",
       "      <th>Nearest_Song_2</th>\n",
       "      <th>Nearest_Song_3</th>\n",
       "      <th>Nearest_Song_4</th>\n",
       "      <th>Nearest_Song_5</th>\n",
       "    </tr>\n",
       "  </thead>\n",
       "  <tbody>\n",
       "    <tr>\n",
       "      <th>1434</th>\n",
       "      <td>632gDlnZ9q07F41jDQmHJ7</td>\n",
       "      <td>6lUY6MoqGgPnA27PHYxem5</td>\n",
       "      <td>5UfJ752VKXn9B6r4fVSQb9</td>\n",
       "      <td>5p3NP9mQblDsVJLdfNZJ3I</td>\n",
       "      <td>5jsDxDkJ1PqyYUWhDMr86B</td>\n",
       "      <td>6o2g1BJvtYQssH84kBYs7y</td>\n",
       "    </tr>\n",
       "    <tr>\n",
       "      <th>70786</th>\n",
       "      <td>632gDlnZ9q07F41jDQmHJ7</td>\n",
       "      <td>6lUY6MoqGgPnA27PHYxem5</td>\n",
       "      <td>5UfJ752VKXn9B6r4fVSQb9</td>\n",
       "      <td>5p3NP9mQblDsVJLdfNZJ3I</td>\n",
       "      <td>5jsDxDkJ1PqyYUWhDMr86B</td>\n",
       "      <td>6o2g1BJvtYQssH84kBYs7y</td>\n",
       "    </tr>\n",
       "  </tbody>\n",
       "</table>\n",
       "</div>"
      ],
      "text/plain": [
       "                Searched_Song          Nearest_Song_1          Nearest_Song_2  \\\n",
       "1434   632gDlnZ9q07F41jDQmHJ7  6lUY6MoqGgPnA27PHYxem5  5UfJ752VKXn9B6r4fVSQb9   \n",
       "70786  632gDlnZ9q07F41jDQmHJ7  6lUY6MoqGgPnA27PHYxem5  5UfJ752VKXn9B6r4fVSQb9   \n",
       "\n",
       "               Nearest_Song_3          Nearest_Song_4          Nearest_Song_5  \n",
       "1434   5p3NP9mQblDsVJLdfNZJ3I  5jsDxDkJ1PqyYUWhDMr86B  6o2g1BJvtYQssH84kBYs7y  \n",
       "70786  5p3NP9mQblDsVJLdfNZJ3I  5jsDxDkJ1PqyYUWhDMr86B  6o2g1BJvtYQssH84kBYs7y  "
      ]
     },
     "execution_count": 43,
     "metadata": {},
     "output_type": "execute_result"
    }
   ],
   "source": [
    "nearest_neighbors_df.query('Searched_Song == \"632gDlnZ9q07F41jDQmHJ7\"')"
   ]
  },
  {
   "cell_type": "code",
   "execution_count": 44,
   "metadata": {},
   "outputs": [
    {
     "data": {
      "text/plain": [
       "(170780, 6)"
      ]
     },
     "execution_count": 44,
     "metadata": {},
     "output_type": "execute_result"
    }
   ],
   "source": [
    "final_nearest_neighbors_df = nearest_neighbors_df.drop_duplicates(subset=['Searched_Song'], keep='first')\n",
    "final_nearest_neighbors_df.shape"
   ]
  },
  {
   "cell_type": "markdown",
   "metadata": {},
   "source": [
    "### Save it as csv file"
   ]
  },
  {
   "cell_type": "code",
   "execution_count": 45,
   "metadata": {},
   "outputs": [],
   "source": [
    "def save_data_frame_as_csv(df=None, filename=None):\n",
    "    \"\"\"\n",
    "    Saves data frame to csv format\n",
    "    \n",
    "    Parameters\n",
    "    ----------\n",
    "    df: Pandas DataFrame\n",
    "    filename: File path or name\n",
    "    \n",
    "    Returns\n",
    "    -------\n",
    "    csv file\n",
    "    \"\"\"\n",
    "    try:\n",
    "        if not filename.endswith('.csv'):\n",
    "            filename += '.csv'\n",
    "        df.to_csv(filename, index=False)\n",
    "        print(f\"Data Frame saved @:{filename}\")\n",
    "    except Exception as e:\n",
    "        print(\"Data Frame couldn't be saved: \", sys.exc_info()[0])\n",
    "        raise"
   ]
  },
  {
   "cell_type": "code",
   "execution_count": 47,
   "metadata": {},
   "outputs": [
    {
     "name": "stdout",
     "output_type": "stream",
     "text": [
      "Data Frame saved @:data/spotify_dataset_recommendations.csv\n"
     ]
    }
   ],
   "source": [
    "save_data_frame_as_csv(final_nearest_neighbors_df, 'data/spotify_dataset_recommendations.csv')"
   ]
  },
  {
   "cell_type": "markdown",
   "metadata": {},
   "source": [
    "### Save it as JSON file"
   ]
  },
  {
   "cell_type": "code",
   "execution_count": 49,
   "metadata": {},
   "outputs": [],
   "source": [
    "def save_data_frame_as_json(df=None, filename=None, orient=\"records\"):\n",
    "    \"\"\"\n",
    "    Saves data frame to JSON format\n",
    "    \n",
    "    Parameters\n",
    "    ----------\n",
    "    df: Pandas DataFrame\n",
    "    filename: File path or name\n",
    "    \n",
    "    Returns\n",
    "    -------\n",
    "    JSON file\n",
    "    \"\"\"\n",
    "    try:\n",
    "        if not filename.endswith('.json'):\n",
    "            filename += '.json'\n",
    "        df.to_json(filename, orient=orient)\n",
    "        print(f\"Data Frame saved @:{filename}\")\n",
    "    except Exception as e:\n",
    "        print(\"Data Frame couldn't be saved: \", sys.exc_info()[0])\n",
    "        raise"
   ]
  },
  {
   "cell_type": "code",
   "execution_count": 50,
   "metadata": {},
   "outputs": [
    {
     "name": "stdout",
     "output_type": "stream",
     "text": [
      "Data Frame saved @:data/spotify_dataset_recommendations.json\n"
     ]
    }
   ],
   "source": [
    "save_data_frame_as_json(final_nearest_neighbors_df, 'data/spotify_dataset_recommendations.json')"
   ]
  },
  {
   "cell_type": "code",
   "execution_count": 51,
   "metadata": {},
   "outputs": [
    {
     "data": {
      "text/html": [
       "<div>\n",
       "<style scoped>\n",
       "    .dataframe tbody tr th:only-of-type {\n",
       "        vertical-align: middle;\n",
       "    }\n",
       "\n",
       "    .dataframe tbody tr th {\n",
       "        vertical-align: top;\n",
       "    }\n",
       "\n",
       "    .dataframe thead th {\n",
       "        text-align: right;\n",
       "    }\n",
       "</style>\n",
       "<table border=\"1\" class=\"dataframe\">\n",
       "  <thead>\n",
       "    <tr style=\"text-align: right;\">\n",
       "      <th></th>\n",
       "      <th>Searched_Song</th>\n",
       "      <th>Nearest_Song_1</th>\n",
       "      <th>Nearest_Song_2</th>\n",
       "      <th>Nearest_Song_3</th>\n",
       "      <th>Nearest_Song_4</th>\n",
       "      <th>Nearest_Song_5</th>\n",
       "    </tr>\n",
       "  </thead>\n",
       "  <tbody>\n",
       "    <tr>\n",
       "      <th>0</th>\n",
       "      <td>0BRjO6ga9RKCKjfDqeFgWV</td>\n",
       "      <td>0E5vyUbKoQzGtYVUSSLTNY</td>\n",
       "      <td>5vnuEyEfl4mEJO0Gc0n0Oz</td>\n",
       "      <td>1HeBGMouZrkglUFdtLwGuN</td>\n",
       "      <td>1mz9ZrRYu3EPVg9ZHFtjjf</td>\n",
       "      <td>5DEoPzI4ZzHVbMJwPR9VKF</td>\n",
       "    </tr>\n",
       "    <tr>\n",
       "      <th>1</th>\n",
       "      <td>0BjC1NfoEOOusryehmNudP</td>\n",
       "      <td>6BgDdlr4mdML2ws4DUE7ao</td>\n",
       "      <td>3l44IqBPrUx2KNv09bqumH</td>\n",
       "      <td>7m7Ubq8L3QGK5bRFfdmoqf</td>\n",
       "      <td>5CXBgDA0UEIpgXUxEtuLcA</td>\n",
       "      <td>2kM3ckYysOoQJ37vpHLe9H</td>\n",
       "    </tr>\n",
       "    <tr>\n",
       "      <th>2</th>\n",
       "      <td>0CoSDzoNIKCRs124s9uTVy</td>\n",
       "      <td>1GBgNFmIOCFvCvx3vCK107</td>\n",
       "      <td>2EophOpSBiQkq8tKm5Mva0</td>\n",
       "      <td>3fEk4Tw7LWo3TMR8KnJqnI</td>\n",
       "      <td>2PphKjc6zTMqkGBZ6YFAbQ</td>\n",
       "      <td>37RAmgIV3dMKQL5sgBykq3</td>\n",
       "    </tr>\n",
       "    <tr>\n",
       "      <th>3</th>\n",
       "      <td>0Gc6TVm52BwZD07Ki6tIvf</td>\n",
       "      <td>6OpiPBmgBTTzxVwLyTrmiV</td>\n",
       "      <td>06HhlTB8s3dTVAGYxgQqIC</td>\n",
       "      <td>6Xxn6VjtGKrPyOOJVqGKPk</td>\n",
       "      <td>3g77KoEs1P5WurlrMWGIV6</td>\n",
       "      <td>4KtHxcTlIXEKinToSNzPPO</td>\n",
       "    </tr>\n",
       "    <tr>\n",
       "      <th>4</th>\n",
       "      <td>0IuslXpMROHdEPvSl1fTQK</td>\n",
       "      <td>76XU74fn8ePn7Qqb2yelfA</td>\n",
       "      <td>5CQHU35O0vIjjIragKMXSz</td>\n",
       "      <td>3uFGK2sp47ltsVXQsGItkX</td>\n",
       "      <td>1bywY09aQZ61pz8bTBBl2F</td>\n",
       "      <td>5Ku5VjYhM5G4Oybf0vdzMm</td>\n",
       "    </tr>\n",
       "  </tbody>\n",
       "</table>\n",
       "</div>"
      ],
      "text/plain": [
       "            Searched_Song          Nearest_Song_1          Nearest_Song_2  \\\n",
       "0  0BRjO6ga9RKCKjfDqeFgWV  0E5vyUbKoQzGtYVUSSLTNY  5vnuEyEfl4mEJO0Gc0n0Oz   \n",
       "1  0BjC1NfoEOOusryehmNudP  6BgDdlr4mdML2ws4DUE7ao  3l44IqBPrUx2KNv09bqumH   \n",
       "2  0CoSDzoNIKCRs124s9uTVy  1GBgNFmIOCFvCvx3vCK107  2EophOpSBiQkq8tKm5Mva0   \n",
       "3  0Gc6TVm52BwZD07Ki6tIvf  6OpiPBmgBTTzxVwLyTrmiV  06HhlTB8s3dTVAGYxgQqIC   \n",
       "4  0IuslXpMROHdEPvSl1fTQK  76XU74fn8ePn7Qqb2yelfA  5CQHU35O0vIjjIragKMXSz   \n",
       "\n",
       "           Nearest_Song_3          Nearest_Song_4          Nearest_Song_5  \n",
       "0  1HeBGMouZrkglUFdtLwGuN  1mz9ZrRYu3EPVg9ZHFtjjf  5DEoPzI4ZzHVbMJwPR9VKF  \n",
       "1  7m7Ubq8L3QGK5bRFfdmoqf  5CXBgDA0UEIpgXUxEtuLcA  2kM3ckYysOoQJ37vpHLe9H  \n",
       "2  3fEk4Tw7LWo3TMR8KnJqnI  2PphKjc6zTMqkGBZ6YFAbQ  37RAmgIV3dMKQL5sgBykq3  \n",
       "3  6Xxn6VjtGKrPyOOJVqGKPk  3g77KoEs1P5WurlrMWGIV6  4KtHxcTlIXEKinToSNzPPO  \n",
       "4  3uFGK2sp47ltsVXQsGItkX  1bywY09aQZ61pz8bTBBl2F  5Ku5VjYhM5G4Oybf0vdzMm  "
      ]
     },
     "execution_count": 51,
     "metadata": {},
     "output_type": "execute_result"
    }
   ],
   "source": [
    "json_df = pd.read_json('data/spotify_dataset_recommendations.json')\n",
    "json_df.head()"
   ]
  },
  {
   "cell_type": "code",
   "execution_count": 52,
   "metadata": {},
   "outputs": [],
   "source": [
    "def save_data_as_sqlite_database(df, sql_uri, table_name, index=True, index_label=None, verbose=True):\n",
    "    \"\"\"\n",
    "    Saves data frame to SQLite database\n",
    "    \n",
    "    Parameters\n",
    "    ----------\n",
    "    df: Pandas DataFrame\n",
    "    filename: File path or name\n",
    "    \n",
    "    Returns\n",
    "    -------\n",
    "    db.sqlite3\n",
    "    \"\"\"\n",
    "    try:\n",
    "        if not sql_uri.endswith('.sqlite3'):\n",
    "            sql_uri += '.sqlite3'\n",
    "        if not sql_uri.startswith('sqlite:///'):\n",
    "            raise ValueError('Database URL should start with \"sqlite:///\"')\n",
    "        \n",
    "        from sqlalchemy import create_engine\n",
    "        engine = create_engine(sql_uri)\n",
    "        print(f\"Data Frame saved @:{sql_uri[10:]}\")\n",
    "        df.to_sql(table_name, con=engine, index=index, index_label=index_label, if_exists='replace')\n",
    "        \n",
    "        if verbose:\n",
    "            sql = f\"SELECT * FROM {table_name} LIMIT 10;\"\n",
    "            print(pd.read_sql(sql, con=engine))\n",
    "    except Exception as e:\n",
    "        print(\"Data Frame couldn't be saved: \", sys.exc_info()[0])\n",
    "        raise"
   ]
  },
  {
   "cell_type": "code",
   "execution_count": 55,
   "metadata": {},
   "outputs": [
    {
     "name": "stdout",
     "output_type": "stream",
     "text": [
      "Data Frame saved @:data/db.sqlite3\n",
      "   index           Searched_Song          Nearest_Song_1  \\\n",
      "0      0  0BRjO6ga9RKCKjfDqeFgWV  0E5vyUbKoQzGtYVUSSLTNY   \n",
      "1      1  0BjC1NfoEOOusryehmNudP  6BgDdlr4mdML2ws4DUE7ao   \n",
      "2      2  0CoSDzoNIKCRs124s9uTVy  1GBgNFmIOCFvCvx3vCK107   \n",
      "3      3  0Gc6TVm52BwZD07Ki6tIvf  6OpiPBmgBTTzxVwLyTrmiV   \n",
      "4      4  0IuslXpMROHdEPvSl1fTQK  76XU74fn8ePn7Qqb2yelfA   \n",
      "5      5  0Mf1jKa8eNAf1a4PwTbizj  4FlNoh0omZYXNyTLPdsw5J   \n",
      "6      6  0NUiKYRd6jt1LKMYGkUdnZ  2TMRrRWVDRKN7IRUEJb1IC   \n",
      "7      7  0PbIF9YVD505GutwotpB5C  2PBeZKKVTlEWXoP7Cqas2I   \n",
      "8      8  0ST6uPfvaPpJLtQwhE6KfC  3ieKPhI7eEOtIeVJshRCvD   \n",
      "9      9  0VSqZ3KStsjcfERGdcWpFO  3Knohqfb9jeYzL6wMZiWLM   \n",
      "\n",
      "           Nearest_Song_2          Nearest_Song_3          Nearest_Song_4  \\\n",
      "0  5vnuEyEfl4mEJO0Gc0n0Oz  1HeBGMouZrkglUFdtLwGuN  1mz9ZrRYu3EPVg9ZHFtjjf   \n",
      "1  3l44IqBPrUx2KNv09bqumH  7m7Ubq8L3QGK5bRFfdmoqf  5CXBgDA0UEIpgXUxEtuLcA   \n",
      "2  2EophOpSBiQkq8tKm5Mva0  3fEk4Tw7LWo3TMR8KnJqnI  2PphKjc6zTMqkGBZ6YFAbQ   \n",
      "3  06HhlTB8s3dTVAGYxgQqIC  6Xxn6VjtGKrPyOOJVqGKPk  3g77KoEs1P5WurlrMWGIV6   \n",
      "4  5CQHU35O0vIjjIragKMXSz  3uFGK2sp47ltsVXQsGItkX  1bywY09aQZ61pz8bTBBl2F   \n",
      "5  4LoNN2lchMBPNBCQOIkeh8  0KRmAuMXIM0ureo52km1wd  2dHdMUUmGnJIUHZdKTknEB   \n",
      "6  4w4tMxPEtbfzIvRQ6X1LoW  3ZdrlIIC8vuo0dKQ8emgZZ  33pgY0vezKpyTEU5MYQDZk   \n",
      "7  15HFIN7lhwjK9g0wbtRcUC  0MhhdN7HZnRMJocscmOBPX  6z5USjeVFgp0Ek0qOijvOG   \n",
      "8  6wSHhKnJOpy3HZ39PPAr7h  0FT7K2vchKMhjwFpRi0Sjx  2hbPAwwQ3gIXVG5KghgsYF   \n",
      "9  1xTnxlhuya4HVoF7vjqZPu  0VPeqzSPv8u5JVJ4djjLqB  4RoC6FClYV9JOgYmbHGCWL   \n",
      "\n",
      "           Nearest_Song_5  \n",
      "0  5DEoPzI4ZzHVbMJwPR9VKF  \n",
      "1  2kM3ckYysOoQJ37vpHLe9H  \n",
      "2  37RAmgIV3dMKQL5sgBykq3  \n",
      "3  4KtHxcTlIXEKinToSNzPPO  \n",
      "4  5Ku5VjYhM5G4Oybf0vdzMm  \n",
      "5  3ae45rUeaIQPhG7LWdICnR  \n",
      "6  1iT4hwLG8wlMdT0GI78ytl  \n",
      "7  0c9DOQSLK0SJiNmmbntRp7  \n",
      "8  6d83pCGgsYX5e04z4Ej8VP  \n",
      "9  2YWM7FYspCbkM6xfo1v6gO  \n"
     ]
    }
   ],
   "source": [
    "sql_uri = \"sqlite:///data/db.sqlite3\"\n",
    "table_name = \"recommendations\"\n",
    "save_data_as_sqlite_database(final_nearest_neighbors_df, sql_uri, table_name, index=True, index_label=None, verbose=True)"
   ]
  }
 ],
 "metadata": {
  "kernelspec": {
   "display_name": "U4-S1-NLP (Python3)",
   "language": "python",
   "name": "u4-s1-nlp"
  },
  "language_info": {
   "codemirror_mode": {
    "name": "ipython",
    "version": 3
   },
   "file_extension": ".py",
   "mimetype": "text/x-python",
   "name": "python",
   "nbconvert_exporter": "python",
   "pygments_lexer": "ipython3",
   "version": "3.7.0"
  }
 },
 "nbformat": 4,
 "nbformat_minor": 2
}
