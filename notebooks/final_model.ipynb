{
 "cells": [
  {
   "cell_type": "markdown",
   "metadata": {},
   "source": [
    "## Create a model to find similar songs"
   ]
  },
  {
   "cell_type": "markdown",
   "metadata": {},
   "source": [
    "### Load Libraries"
   ]
  },
  {
   "cell_type": "code",
   "execution_count": 1,
   "metadata": {},
   "outputs": [],
   "source": [
    "import spotipy\n",
    "import spotipy.util as util\n",
    "import sys\n",
    "import requests\n",
    "from dotenv import load_dotenv\n",
    "import os"
   ]
  },
  {
   "cell_type": "code",
   "execution_count": 2,
   "metadata": {},
   "outputs": [],
   "source": [
    "from spotipy.oauth2 import SpotifyClientCredentials"
   ]
  },
  {
   "cell_type": "code",
   "execution_count": 3,
   "metadata": {},
   "outputs": [],
   "source": [
    "import pandas as pd\n",
    "import json"
   ]
  },
  {
   "cell_type": "code",
   "execution_count": 4,
   "metadata": {},
   "outputs": [],
   "source": [
    "from flask import jsonify"
   ]
  },
  {
   "cell_type": "code",
   "execution_count": 5,
   "metadata": {},
   "outputs": [],
   "source": [
    "from sklearn.preprocessing import StandardScaler\n",
    "from sklearn.neighbors import KDTree\n",
    "from sklearn.neighbors import NearestNeighbors"
   ]
  },
  {
   "cell_type": "code",
   "execution_count": 6,
   "metadata": {},
   "outputs": [
    {
     "data": {
      "text/plain": [
       "True"
      ]
     },
     "execution_count": 6,
     "metadata": {},
     "output_type": "execute_result"
    }
   ],
   "source": [
    "load_dotenv() # load environment variables"
   ]
  },
  {
   "cell_type": "markdown",
   "metadata": {},
   "source": [
    "### Load Spotify variables"
   ]
  },
  {
   "cell_type": "code",
   "execution_count": 7,
   "metadata": {},
   "outputs": [],
   "source": [
    "client_credentials_manager = SpotifyClientCredentials()\n",
    "sp = spotipy.Spotify(client_credentials_manager=client_credentials_manager)"
   ]
  },
  {
   "cell_type": "markdown",
   "metadata": {},
   "source": [
    "### Create model to get 4 nearest neighbours"
   ]
  },
  {
   "cell_type": "code",
   "execution_count": 8,
   "metadata": {},
   "outputs": [],
   "source": [
    "# Assign any track ID\n",
    "track_id = '0Gc6TVm52BwZD07Ki6tIvf'"
   ]
  },
  {
   "cell_type": "raw",
   "metadata": {},
   "source": [
    "\"\"\"\n",
    "Prints the ids of relevant songs, along with their distance from the input song.\n",
    "\n",
    "Parameters:\n",
    "track_id (string): Spotify track id.\n",
    "max_distance (float): maximum euclidean distance a song can be \n",
    "                    from the input song for it to be returned.\n",
    "neighbors (int): number of song recommendations returned.\n",
    "\"\"\""
   ]
  },
  {
   "cell_type": "code",
   "execution_count": 9,
   "metadata": {},
   "outputs": [],
   "source": [
    "neighbors=4        # you can change the number\n",
    "max_distance=5.0   # you can change the number\n",
    "\n",
    "rel_artists = sp.artist_related_artists(sp.track(track_id=track_id)['artists'][0]['id'])['artists']\n",
    "artist_log = []\n",
    "for a in rel_artists:\n",
    "    artist_log.append(a['id'])\n",
    "feat_log = []\n",
    "for artist in artist_log:\n",
    "    for track in sp.artist_top_tracks(artist)['tracks']:\n",
    "        feat_log.append(sp.audio_features(track['id'])[0])\n",
    "            \n",
    "catalog = pd.DataFrame.from_dict(feat_log)\n",
    "    \n",
    "root = pd.DataFrame.from_dict(sp.audio_features(tracks=[track_id]))\n",
    "\n",
    "merged_df = root.append(catalog, ignore_index=True)\n",
    "    \n",
    "dropped_df = merged_df.drop(columns=['uri', 'track_href', 'id', 'duration_ms', 'time_signature', 'mode', 'loudness', 'type', 'analysis_url'])\n",
    "scaled_df = StandardScaler().fit_transform(dropped_df)\n",
    "trans_array = scaled_df.copy()\n",
    "trans_array[:,0] = [u*2.4 for u in trans_array[:,0]] # acousticness\n",
    "trans_array[:,1] = [((u*u)**0.5)*u for u in trans_array[:,1]] # danceability\n",
    "trans_array[:,2] = [u*1.7 for u in trans_array[:,2]] # energy\n",
    "trans_array[:,3] = [u*1.4 for u in trans_array[:,3]] # instrumentalness\n",
    "trans_array[:,4] = [u*0.9 for u in trans_array[:,4]] # key\n",
    "trans_array[:,5] = [u*1.0 for u in trans_array[:,5]] # liveness\n",
    "trans_array[:,6] = [u*1.0 for u in trans_array[:,6]] # speechiness\n",
    "trans_array[:,7] = [u*1.1 for u in trans_array[:,7]] # tempo\n",
    "trans_array[:,8] = [u*2.5 for u in trans_array[:,8]] # valence\n",
    "\n",
    "knn = NearestNeighbors()\n",
    "knn.fit(trans_array)\n",
    "\n",
    "rec = knn.kneighbors(trans_array[[0]], n_neighbors=neighbors+1)"
   ]
  },
  {
   "cell_type": "code",
   "execution_count": 10,
   "metadata": {},
   "outputs": [
    {
     "name": "stdout",
     "output_type": "stream",
     "text": [
      "Original song: 0Gc6TVm52BwZD07Ki6tIvf\n"
     ]
    }
   ],
   "source": [
    "print('Original song:', root.loc[0,'id'])"
   ]
  },
  {
   "cell_type": "markdown",
   "metadata": {},
   "source": [
    "### We need to print out and save the response "
   ]
  },
  {
   "cell_type": "code",
   "execution_count": 11,
   "metadata": {},
   "outputs": [],
   "source": [
    "predict_response = []\n",
    "for n in range(1,neighbors+1):\n",
    "    if rec[0][0][n] <= max_distance:\n",
    "        pred_dict = (merged_df.loc[rec[1][0][n],'id'], rec[0][0][n])\n",
    "    predict_response.append(pred_dict)"
   ]
  },
  {
   "cell_type": "code",
   "execution_count": 12,
   "metadata": {},
   "outputs": [],
   "source": [
    "pred = pd.DataFrame(predict_response, columns=['recommendation', 'distance'])"
   ]
  },
  {
   "cell_type": "markdown",
   "metadata": {},
   "source": [
    "### Here we can see the Nearest Neighbours ID's and the distances from Original song"
   ]
  },
  {
   "cell_type": "code",
   "execution_count": 13,
   "metadata": {},
   "outputs": [
    {
     "data": {
      "text/html": [
       "<div>\n",
       "<style scoped>\n",
       "    .dataframe tbody tr th:only-of-type {\n",
       "        vertical-align: middle;\n",
       "    }\n",
       "\n",
       "    .dataframe tbody tr th {\n",
       "        vertical-align: top;\n",
       "    }\n",
       "\n",
       "    .dataframe thead th {\n",
       "        text-align: right;\n",
       "    }\n",
       "</style>\n",
       "<table border=\"1\" class=\"dataframe\">\n",
       "  <thead>\n",
       "    <tr style=\"text-align: right;\">\n",
       "      <th></th>\n",
       "      <th>recommendation</th>\n",
       "      <th>distance</th>\n",
       "    </tr>\n",
       "  </thead>\n",
       "  <tbody>\n",
       "    <tr>\n",
       "      <th>0</th>\n",
       "      <td>758VqyHhAhzX6vmQ8h0exw</td>\n",
       "      <td>3.470148</td>\n",
       "    </tr>\n",
       "    <tr>\n",
       "      <th>1</th>\n",
       "      <td>4yKTDPH6iRBHmA44AipmIk</td>\n",
       "      <td>3.775737</td>\n",
       "    </tr>\n",
       "    <tr>\n",
       "      <th>2</th>\n",
       "      <td>1EGjgdJadGF3q0aJ8RAHeV</td>\n",
       "      <td>4.314166</td>\n",
       "    </tr>\n",
       "    <tr>\n",
       "      <th>3</th>\n",
       "      <td>0klbnFP6UwMYpUuKjhleKT</td>\n",
       "      <td>4.439575</td>\n",
       "    </tr>\n",
       "  </tbody>\n",
       "</table>\n",
       "</div>"
      ],
      "text/plain": [
       "           recommendation  distance\n",
       "0  758VqyHhAhzX6vmQ8h0exw  3.470148\n",
       "1  4yKTDPH6iRBHmA44AipmIk  3.775737\n",
       "2  1EGjgdJadGF3q0aJ8RAHeV  4.314166\n",
       "3  0klbnFP6UwMYpUuKjhleKT  4.439575"
      ]
     },
     "execution_count": 13,
     "metadata": {},
     "output_type": "execute_result"
    }
   ],
   "source": [
    "pred"
   ]
  },
  {
   "cell_type": "markdown",
   "metadata": {},
   "source": [
    "### Now we need to decode the ID's for easy read"
   ]
  },
  {
   "cell_type": "markdown",
   "metadata": {},
   "source": [
    "#### We want to see the 'artist name', 'song name', 'direct link to the song' and if the song is explicit or not."
   ]
  },
  {
   "cell_type": "code",
   "execution_count": 14,
   "metadata": {},
   "outputs": [
    {
     "data": {
      "text/plain": [
       "'Georges Moustaki'"
      ]
     },
     "execution_count": 14,
     "metadata": {},
     "output_type": "execute_result"
    }
   ],
   "source": [
    "# This gives us the artist name\n",
    "sp.track('758VqyHhAhzX6vmQ8h0exw')['artists'][0]['name']"
   ]
  },
  {
   "cell_type": "code",
   "execution_count": 15,
   "metadata": {},
   "outputs": [
    {
     "data": {
      "text/plain": [
       "'Le facteur'"
      ]
     },
     "execution_count": 15,
     "metadata": {},
     "output_type": "execute_result"
    }
   ],
   "source": [
    "# Song (track) name\n",
    "sp.track('758VqyHhAhzX6vmQ8h0exw')['name']"
   ]
  },
  {
   "cell_type": "code",
   "execution_count": 16,
   "metadata": {},
   "outputs": [
    {
     "data": {
      "text/plain": [
       "'758VqyHhAhzX6vmQ8h0exw'"
      ]
     },
     "execution_count": 16,
     "metadata": {},
     "output_type": "execute_result"
    }
   ],
   "source": [
    "sp.track('758VqyHhAhzX6vmQ8h0exw')['id']"
   ]
  },
  {
   "cell_type": "code",
   "execution_count": 17,
   "metadata": {},
   "outputs": [
    {
     "data": {
      "text/plain": [
       "'https://open.spotify.com/track/758VqyHhAhzX6vmQ8h0exw'"
      ]
     },
     "execution_count": 17,
     "metadata": {},
     "output_type": "execute_result"
    }
   ],
   "source": [
    "# Direct link\n",
    "sp.track('758VqyHhAhzX6vmQ8h0exw')['external_urls']['spotify']"
   ]
  },
  {
   "cell_type": "code",
   "execution_count": 18,
   "metadata": {},
   "outputs": [
    {
     "data": {
      "text/plain": [
       "False"
      ]
     },
     "execution_count": 18,
     "metadata": {},
     "output_type": "execute_result"
    }
   ],
   "source": [
    "# Explicit 'True' or 'False'\n",
    "sp.track('758VqyHhAhzX6vmQ8h0exw')['explicit']"
   ]
  },
  {
   "cell_type": "code",
   "execution_count": 19,
   "metadata": {},
   "outputs": [
    {
     "data": {
      "text/plain": [
       "'https://i.scdn.co/image/ab67616d00001e02480094ab52afdba5b0a93a65'"
      ]
     },
     "execution_count": 19,
     "metadata": {},
     "output_type": "execute_result"
    }
   ],
   "source": [
    "# Track image\n",
    "sp.track('758VqyHhAhzX6vmQ8h0exw')['album']['images'][1]['url']"
   ]
  },
  {
   "cell_type": "code",
   "execution_count": 20,
   "metadata": {},
   "outputs": [
    {
     "data": {
      "text/plain": [
       "'https://p.scdn.co/mp3-preview/dcad19ab187c730cb3ad678695db21baf0137ac2?cid=1544e44f656f402894c4b6b4c0efdf9b'"
      ]
     },
     "execution_count": 20,
     "metadata": {},
     "output_type": "execute_result"
    }
   ],
   "source": [
    "# Preview track url. Not all of the tracks have previews!\n",
    "sp.track('24upABZ8A0sAepfu91sEYr')['preview_url']"
   ]
  },
  {
   "cell_type": "markdown",
   "metadata": {},
   "source": [
    "### Let's have it all in one place"
   ]
  },
  {
   "cell_type": "code",
   "execution_count": 21,
   "metadata": {},
   "outputs": [],
   "source": [
    "df_predict_tracks = pd.DataFrame() # create dataframe\n",
    "\n",
    "feat_search_artist = []\n",
    "feat_search_song = []\n",
    "feat_search_id = []\n",
    "feat_search_url = []\n",
    "feat_search_explicit = []\n",
    "feat_search_preview = []\n",
    "feat_search_image = []\n",
    "\n",
    "for ii in pred['recommendation']:\n",
    "    artist_name = sp.track(ii)['artists'][0]['name']\n",
    "    song_name = sp.track(ii)['name']\n",
    "    song_id = sp.track(ii)['id']\n",
    "    url_link = sp.track(ii)['external_urls']['spotify']\n",
    "    explicit = sp.track(ii)['explicit']\n",
    "    preview = sp.track(ii)['preview_url']\n",
    "    image = sp.track(ii)['album']['images'][1]['url']\n",
    "    feat_search_artist.append(artist_name)\n",
    "    feat_search_song.append(song_name)\n",
    "    feat_search_id.append(song_id)\n",
    "    feat_search_url.append(url_link)\n",
    "    feat_search_explicit.append(explicit)\n",
    "    feat_search_preview.append(preview)\n",
    "    feat_search_image.append(image)\n",
    "    \n",
    "\n",
    "# Save the results\n",
    "df_predict_tracks['artist_name'] = feat_search_artist\n",
    "df_predict_tracks['song_name'] = feat_search_song\n",
    "df_predict_tracks['song_id'] = feat_search_id\n",
    "df_predict_tracks['url'] = feat_search_url\n",
    "df_predict_tracks['explicit'] = feat_search_explicit\n",
    "df_predict_tracks['preview'] = feat_search_preview\n",
    "df_predict_tracks['image'] = feat_search_image"
   ]
  },
  {
   "cell_type": "code",
   "execution_count": 22,
   "metadata": {},
   "outputs": [],
   "source": [
    "# Replace the None velue for the missing preview with the url desired\n",
    "def get_rid_of_nulls(value):\n",
    "        if pd.isnull(value):\n",
    "            return 'http://bit.ly/2nXRRfX'\n",
    "        else:\n",
    "            return value"
   ]
  },
  {
   "cell_type": "code",
   "execution_count": 23,
   "metadata": {},
   "outputs": [],
   "source": [
    "# Apply the function\n",
    "df_predict_tracks['preview'] = df_predict_tracks['preview'].apply(get_rid_of_nulls)"
   ]
  },
  {
   "cell_type": "code",
   "execution_count": 24,
   "metadata": {},
   "outputs": [],
   "source": [
    "# Change the index count from 0 to 1\n",
    "df_predict_tracks.index +=1"
   ]
  },
  {
   "cell_type": "code",
   "execution_count": 25,
   "metadata": {},
   "outputs": [
    {
     "data": {
      "text/html": [
       "<div>\n",
       "<style scoped>\n",
       "    .dataframe tbody tr th:only-of-type {\n",
       "        vertical-align: middle;\n",
       "    }\n",
       "\n",
       "    .dataframe tbody tr th {\n",
       "        vertical-align: top;\n",
       "    }\n",
       "\n",
       "    .dataframe thead th {\n",
       "        text-align: right;\n",
       "    }\n",
       "</style>\n",
       "<table border=\"1\" class=\"dataframe\">\n",
       "  <thead>\n",
       "    <tr style=\"text-align: right;\">\n",
       "      <th></th>\n",
       "      <th>artist_name</th>\n",
       "      <th>song_name</th>\n",
       "      <th>song_id</th>\n",
       "      <th>url</th>\n",
       "      <th>explicit</th>\n",
       "      <th>preview</th>\n",
       "      <th>image</th>\n",
       "    </tr>\n",
       "  </thead>\n",
       "  <tbody>\n",
       "    <tr>\n",
       "      <th>1</th>\n",
       "      <td>Georges Moustaki</td>\n",
       "      <td>Le facteur</td>\n",
       "      <td>758VqyHhAhzX6vmQ8h0exw</td>\n",
       "      <td>https://open.spotify.com/track/758VqyHhAhzX6vm...</td>\n",
       "      <td>False</td>\n",
       "      <td>http://bit.ly/2nXRRfX</td>\n",
       "      <td>https://i.scdn.co/image/ab67616d00001e02480094...</td>\n",
       "    </tr>\n",
       "    <tr>\n",
       "      <th>2</th>\n",
       "      <td>Yves Montand</td>\n",
       "      <td>Les feuilles mortes</td>\n",
       "      <td>4yKTDPH6iRBHmA44AipmIk</td>\n",
       "      <td>https://open.spotify.com/track/4yKTDPH6iRBHmA4...</td>\n",
       "      <td>False</td>\n",
       "      <td>http://bit.ly/2nXRRfX</td>\n",
       "      <td>https://i.scdn.co/image/ab67616d00001e021ea3cc...</td>\n",
       "    </tr>\n",
       "    <tr>\n",
       "      <th>3</th>\n",
       "      <td>Nino Ferrer</td>\n",
       "      <td>Si tu m'aimes encore</td>\n",
       "      <td>1EGjgdJadGF3q0aJ8RAHeV</td>\n",
       "      <td>https://open.spotify.com/track/1EGjgdJadGF3q0a...</td>\n",
       "      <td>False</td>\n",
       "      <td>http://bit.ly/2nXRRfX</td>\n",
       "      <td>https://i.scdn.co/image/ab67616d00001e02b5d839...</td>\n",
       "    </tr>\n",
       "    <tr>\n",
       "      <th>4</th>\n",
       "      <td>Julien Clerc</td>\n",
       "      <td>Ce n'est rien</td>\n",
       "      <td>0klbnFP6UwMYpUuKjhleKT</td>\n",
       "      <td>https://open.spotify.com/track/0klbnFP6UwMYpUu...</td>\n",
       "      <td>False</td>\n",
       "      <td>https://p.scdn.co/mp3-preview/a9dff6a2669a2153...</td>\n",
       "      <td>https://i.scdn.co/image/ab67616d00001e02f7dcbd...</td>\n",
       "    </tr>\n",
       "  </tbody>\n",
       "</table>\n",
       "</div>"
      ],
      "text/plain": [
       "        artist_name             song_name                 song_id  \\\n",
       "1  Georges Moustaki            Le facteur  758VqyHhAhzX6vmQ8h0exw   \n",
       "2      Yves Montand   Les feuilles mortes  4yKTDPH6iRBHmA44AipmIk   \n",
       "3       Nino Ferrer  Si tu m'aimes encore  1EGjgdJadGF3q0aJ8RAHeV   \n",
       "4      Julien Clerc         Ce n'est rien  0klbnFP6UwMYpUuKjhleKT   \n",
       "\n",
       "                                                 url  explicit  \\\n",
       "1  https://open.spotify.com/track/758VqyHhAhzX6vm...     False   \n",
       "2  https://open.spotify.com/track/4yKTDPH6iRBHmA4...     False   \n",
       "3  https://open.spotify.com/track/1EGjgdJadGF3q0a...     False   \n",
       "4  https://open.spotify.com/track/0klbnFP6UwMYpUu...     False   \n",
       "\n",
       "                                             preview  \\\n",
       "1                              http://bit.ly/2nXRRfX   \n",
       "2                              http://bit.ly/2nXRRfX   \n",
       "3                              http://bit.ly/2nXRRfX   \n",
       "4  https://p.scdn.co/mp3-preview/a9dff6a2669a2153...   \n",
       "\n",
       "                                               image  \n",
       "1  https://i.scdn.co/image/ab67616d00001e02480094...  \n",
       "2  https://i.scdn.co/image/ab67616d00001e021ea3cc...  \n",
       "3  https://i.scdn.co/image/ab67616d00001e02b5d839...  \n",
       "4  https://i.scdn.co/image/ab67616d00001e02f7dcbd...  "
      ]
     },
     "execution_count": 25,
     "metadata": {},
     "output_type": "execute_result"
    }
   ],
   "source": [
    "df_predict_tracks"
   ]
  },
  {
   "cell_type": "markdown",
   "metadata": {},
   "source": [
    "### Check the json print out"
   ]
  },
  {
   "cell_type": "code",
   "execution_count": 26,
   "metadata": {},
   "outputs": [
    {
     "name": "stdout",
     "output_type": "stream",
     "text": [
      "{\n",
      "  \"1\": {\n",
      "    \"artist_name\": \"Georges Moustaki\",\n",
      "    \"song_name\": \"Le facteur\",\n",
      "    \"song_id\": \"758VqyHhAhzX6vmQ8h0exw\",\n",
      "    \"url\": \"https://open.spotify.com/track/758VqyHhAhzX6vmQ8h0exw\",\n",
      "    \"explicit\": false,\n",
      "    \"preview\": \"http://bit.ly/2nXRRfX\",\n",
      "    \"image\": \"https://i.scdn.co/image/ab67616d00001e02480094ab52afdba5b0a93a65\"\n",
      "  },\n",
      "  \"2\": {\n",
      "    \"artist_name\": \"Yves Montand\",\n",
      "    \"song_name\": \"Les feuilles mortes\",\n",
      "    \"song_id\": \"4yKTDPH6iRBHmA44AipmIk\",\n",
      "    \"url\": \"https://open.spotify.com/track/4yKTDPH6iRBHmA44AipmIk\",\n",
      "    \"explicit\": false,\n",
      "    \"preview\": \"http://bit.ly/2nXRRfX\",\n",
      "    \"image\": \"https://i.scdn.co/image/ab67616d00001e021ea3cc67be2692a612e2bbf2\"\n",
      "  },\n",
      "  \"3\": {\n",
      "    \"artist_name\": \"Nino Ferrer\",\n",
      "    \"song_name\": \"Si tu m'aimes encore\",\n",
      "    \"song_id\": \"1EGjgdJadGF3q0aJ8RAHeV\",\n",
      "    \"url\": \"https://open.spotify.com/track/1EGjgdJadGF3q0aJ8RAHeV\",\n",
      "    \"explicit\": false,\n",
      "    \"preview\": \"http://bit.ly/2nXRRfX\",\n",
      "    \"image\": \"https://i.scdn.co/image/ab67616d00001e02b5d8391ce7df0c09ec7d738b\"\n",
      "  },\n",
      "  \"4\": {\n",
      "    \"artist_name\": \"Julien Clerc\",\n",
      "    \"song_name\": \"Ce n'est rien\",\n",
      "    \"song_id\": \"0klbnFP6UwMYpUuKjhleKT\",\n",
      "    \"url\": \"https://open.spotify.com/track/0klbnFP6UwMYpUuKjhleKT\",\n",
      "    \"explicit\": false,\n",
      "    \"preview\": \"https://p.scdn.co/mp3-preview/a9dff6a2669a2153a64506c065c5ee79256fdf6a?cid=1544e44f656f402894c4b6b4c0efdf9b\",\n",
      "    \"image\": \"https://i.scdn.co/image/ab67616d00001e02f7dcbd5b2e31aaa4e86577ac\"\n",
      "  }\n",
      "}\n"
     ]
    }
   ],
   "source": [
    "print(json.dumps(json.loads(df_predict_tracks.to_json(orient='index')), indent=2))"
   ]
  },
  {
   "cell_type": "code",
   "execution_count": null,
   "metadata": {},
   "outputs": [],
   "source": []
  }
 ],
 "metadata": {
  "kernelspec": {
   "display_name": "U4-S1-NLP (Python3)",
   "language": "python",
   "name": "u4-s1-nlp"
  },
  "language_info": {
   "codemirror_mode": {
    "name": "ipython",
    "version": 3
   },
   "file_extension": ".py",
   "mimetype": "text/x-python",
   "name": "python",
   "nbconvert_exporter": "python",
   "pygments_lexer": "ipython3",
   "version": "3.7.0"
  },
  "toc": {
   "base_numbering": 1,
   "nav_menu": {},
   "number_sections": true,
   "sideBar": true,
   "skip_h1_title": false,
   "title_cell": "Table of Contents",
   "title_sidebar": "Contents",
   "toc_cell": false,
   "toc_position": {},
   "toc_section_display": true,
   "toc_window_display": false
  },
  "varInspector": {
   "cols": {
    "lenName": 16,
    "lenType": 16,
    "lenVar": 40
   },
   "kernels_config": {
    "python": {
     "delete_cmd_postfix": "",
     "delete_cmd_prefix": "del ",
     "library": "var_list.py",
     "varRefreshCmd": "print(var_dic_list())"
    },
    "r": {
     "delete_cmd_postfix": ") ",
     "delete_cmd_prefix": "rm(",
     "library": "var_list.r",
     "varRefreshCmd": "cat(var_dic_list()) "
    }
   },
   "types_to_exclude": [
    "module",
    "function",
    "builtin_function_or_method",
    "instance",
    "_Feature"
   ],
   "window_display": false
  }
 },
 "nbformat": 4,
 "nbformat_minor": 2
}
