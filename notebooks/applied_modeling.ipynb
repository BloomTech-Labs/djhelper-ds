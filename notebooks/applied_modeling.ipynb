{
 "cells": [
  {
   "cell_type": "markdown",
   "metadata": {},
   "source": [
    "### Load Libraries"
   ]
  },
  {
   "cell_type": "code",
   "execution_count": 56,
   "metadata": {},
   "outputs": [],
   "source": [
    "import pandas as pd\n",
    "import numpy as np\n",
    "import sys\n",
    "import sqlite3\n",
    "\n",
    "from sklearn.preprocessing import StandardScaler\n",
    "from sklearn.neighbors import KDTree\n",
    "from sklearn.neighbors import NearestNeighbors\n",
    "\n",
    "import spotipy\n",
    "from spotipy.oauth2 import SpotifyClientCredentials\n",
    "import spotipy.util as util\n",
    "\n",
    "from dotenv import load_dotenv\n",
    "import os"
   ]
  },
  {
   "cell_type": "markdown",
   "metadata": {},
   "source": [
    "### Load databased"
   ]
  },
  {
   "cell_type": "code",
   "execution_count": 3,
   "metadata": {},
   "outputs": [],
   "source": [
    "df = pd.read_csv('data/df_prepare.csv')"
   ]
  },
  {
   "cell_type": "code",
   "execution_count": 5,
   "metadata": {},
   "outputs": [
    {
     "name": "stdout",
     "output_type": "stream",
     "text": [
      "(180223, 17)\n"
     ]
    },
    {
     "data": {
      "text/html": [
       "<div>\n",
       "<style scoped>\n",
       "    .dataframe tbody tr th:only-of-type {\n",
       "        vertical-align: middle;\n",
       "    }\n",
       "\n",
       "    .dataframe tbody tr th {\n",
       "        vertical-align: top;\n",
       "    }\n",
       "\n",
       "    .dataframe thead th {\n",
       "        text-align: right;\n",
       "    }\n",
       "</style>\n",
       "<table border=\"1\" class=\"dataframe\">\n",
       "  <thead>\n",
       "    <tr style=\"text-align: right;\">\n",
       "      <th></th>\n",
       "      <th>artist_name</th>\n",
       "      <th>track_name</th>\n",
       "      <th>track_id</th>\n",
       "      <th>popularity</th>\n",
       "      <th>acousticness</th>\n",
       "      <th>danceability</th>\n",
       "      <th>duration_ms</th>\n",
       "      <th>energy</th>\n",
       "      <th>instrumentalness</th>\n",
       "      <th>key</th>\n",
       "      <th>liveness</th>\n",
       "      <th>loudness</th>\n",
       "      <th>mode</th>\n",
       "      <th>speechiness</th>\n",
       "      <th>tempo</th>\n",
       "      <th>time_signature</th>\n",
       "      <th>valence</th>\n",
       "    </tr>\n",
       "  </thead>\n",
       "  <tbody>\n",
       "    <tr>\n",
       "      <th>0</th>\n",
       "      <td>Henri Salvador</td>\n",
       "      <td>C'est beau de faire un Show</td>\n",
       "      <td>0BRjO6ga9RKCKjfDqeFgWV</td>\n",
       "      <td>0</td>\n",
       "      <td>0.611</td>\n",
       "      <td>0.389</td>\n",
       "      <td>99373</td>\n",
       "      <td>0.910</td>\n",
       "      <td>0.000</td>\n",
       "      <td>2</td>\n",
       "      <td>0.3460</td>\n",
       "      <td>-1.828</td>\n",
       "      <td>1</td>\n",
       "      <td>0.0525</td>\n",
       "      <td>166.969</td>\n",
       "      <td>4</td>\n",
       "      <td>0.814</td>\n",
       "    </tr>\n",
       "    <tr>\n",
       "      <th>1</th>\n",
       "      <td>Martin &amp; les fées</td>\n",
       "      <td>Perdu d'avance (par Gad Elmaleh)</td>\n",
       "      <td>0BjC1NfoEOOusryehmNudP</td>\n",
       "      <td>1</td>\n",
       "      <td>0.246</td>\n",
       "      <td>0.590</td>\n",
       "      <td>137373</td>\n",
       "      <td>0.737</td>\n",
       "      <td>0.000</td>\n",
       "      <td>5</td>\n",
       "      <td>0.1510</td>\n",
       "      <td>-5.559</td>\n",
       "      <td>0</td>\n",
       "      <td>0.0868</td>\n",
       "      <td>174.003</td>\n",
       "      <td>4</td>\n",
       "      <td>0.816</td>\n",
       "    </tr>\n",
       "    <tr>\n",
       "      <th>2</th>\n",
       "      <td>Joseph Williams</td>\n",
       "      <td>Don't Let Me Be Lonely Tonight</td>\n",
       "      <td>0CoSDzoNIKCRs124s9uTVy</td>\n",
       "      <td>3</td>\n",
       "      <td>0.952</td>\n",
       "      <td>0.663</td>\n",
       "      <td>170267</td>\n",
       "      <td>0.131</td>\n",
       "      <td>0.000</td>\n",
       "      <td>2</td>\n",
       "      <td>0.1030</td>\n",
       "      <td>-13.879</td>\n",
       "      <td>0</td>\n",
       "      <td>0.0362</td>\n",
       "      <td>99.488</td>\n",
       "      <td>5</td>\n",
       "      <td>0.368</td>\n",
       "    </tr>\n",
       "    <tr>\n",
       "      <th>3</th>\n",
       "      <td>Henri Salvador</td>\n",
       "      <td>Dis-moi Monsieur Gordon Cooper</td>\n",
       "      <td>0Gc6TVm52BwZD07Ki6tIvf</td>\n",
       "      <td>0</td>\n",
       "      <td>0.703</td>\n",
       "      <td>0.240</td>\n",
       "      <td>152427</td>\n",
       "      <td>0.326</td>\n",
       "      <td>0.000</td>\n",
       "      <td>2</td>\n",
       "      <td>0.0985</td>\n",
       "      <td>-12.178</td>\n",
       "      <td>1</td>\n",
       "      <td>0.0395</td>\n",
       "      <td>171.758</td>\n",
       "      <td>4</td>\n",
       "      <td>0.227</td>\n",
       "    </tr>\n",
       "    <tr>\n",
       "      <th>4</th>\n",
       "      <td>Fabien Nataf</td>\n",
       "      <td>Ouverture</td>\n",
       "      <td>0IuslXpMROHdEPvSl1fTQK</td>\n",
       "      <td>4</td>\n",
       "      <td>0.950</td>\n",
       "      <td>0.331</td>\n",
       "      <td>82625</td>\n",
       "      <td>0.225</td>\n",
       "      <td>0.123</td>\n",
       "      <td>5</td>\n",
       "      <td>0.2020</td>\n",
       "      <td>-21.150</td>\n",
       "      <td>1</td>\n",
       "      <td>0.0456</td>\n",
       "      <td>140.576</td>\n",
       "      <td>4</td>\n",
       "      <td>0.390</td>\n",
       "    </tr>\n",
       "  </tbody>\n",
       "</table>\n",
       "</div>"
      ],
      "text/plain": [
       "         artist_name                        track_name  \\\n",
       "0     Henri Salvador       C'est beau de faire un Show   \n",
       "1  Martin & les fées  Perdu d'avance (par Gad Elmaleh)   \n",
       "2    Joseph Williams    Don't Let Me Be Lonely Tonight   \n",
       "3     Henri Salvador    Dis-moi Monsieur Gordon Cooper   \n",
       "4       Fabien Nataf                         Ouverture   \n",
       "\n",
       "                 track_id  popularity  acousticness  danceability  \\\n",
       "0  0BRjO6ga9RKCKjfDqeFgWV           0         0.611         0.389   \n",
       "1  0BjC1NfoEOOusryehmNudP           1         0.246         0.590   \n",
       "2  0CoSDzoNIKCRs124s9uTVy           3         0.952         0.663   \n",
       "3  0Gc6TVm52BwZD07Ki6tIvf           0         0.703         0.240   \n",
       "4  0IuslXpMROHdEPvSl1fTQK           4         0.950         0.331   \n",
       "\n",
       "   duration_ms  energy  instrumentalness  key  liveness  loudness  mode  \\\n",
       "0        99373   0.910             0.000    2    0.3460    -1.828     1   \n",
       "1       137373   0.737             0.000    5    0.1510    -5.559     0   \n",
       "2       170267   0.131             0.000    2    0.1030   -13.879     0   \n",
       "3       152427   0.326             0.000    2    0.0985   -12.178     1   \n",
       "4        82625   0.225             0.123    5    0.2020   -21.150     1   \n",
       "\n",
       "   speechiness    tempo  time_signature  valence  \n",
       "0       0.0525  166.969               4    0.814  \n",
       "1       0.0868  174.003               4    0.816  \n",
       "2       0.0362   99.488               5    0.368  \n",
       "3       0.0395  171.758               4    0.227  \n",
       "4       0.0456  140.576               4    0.390  "
      ]
     },
     "execution_count": 5,
     "metadata": {},
     "output_type": "execute_result"
    }
   ],
   "source": [
    "print(df.shape)\n",
    "df.head()"
   ]
  },
  {
   "cell_type": "markdown",
   "metadata": {},
   "source": [
    "### Look at the 5 nearest songs of all dataset"
   ]
  },
  {
   "cell_type": "code",
   "execution_count": 20,
   "metadata": {},
   "outputs": [],
   "source": [
    "\"\"\"\n",
    "Make a Function to find nearest song to existing database.\n",
    "\"\"\"\n",
    "def find_nearest_songs(df, number_of_songs):\n",
    "    # use number of desired songs\n",
    "    songs = 5\n",
    "    # remove categoricals\n",
    "    df_numerics =  df.drop(columns=['track_id', 'track_name', 'artist_name'])\n",
    "    \n",
    "    # Scale Data To Cluster More Accurately, and fit clustering model\n",
    "    df_scaled = StandardScaler().fit_transform(df_numerics)\n",
    "    df_modeled = KDTree(df_scaled)\n",
    "    \n",
    "    # Querying the model for the 5 Nearest Neighbors\n",
    "    dist, ind = df_modeled.query(df_scaled, k=(songs+1)) # can make a bigger or smaller number\n",
    "    \n",
    "    # Putting the Results into a Dataframe\n",
    "    dist_df = pd.DataFrame(dist)\n",
    "    \n",
    "    # Calculating the Distances\n",
    "    scores = (1 - ((dist - dist.min()) / (dist.max() - dist.min()))) * 100\n",
    "    \n",
    "    # Creating A New Dataframe for the Distances\n",
    "    columns = ['Searched_Song', 'Nearest_Song1', 'Nearest_Song2', 'Nearest_Song3', 'Nearest_Song4',\n",
    "               'Nearest_Song5']\n",
    "    \n",
    "    dist_score = pd.DataFrame(scores.tolist(), columns = columns)\n",
    "    \n",
    "    # An Array of all indices of the nearest neighbors\n",
    "    ind[:(songs+1)]\n",
    "    \n",
    "    # Making an array of the Track IDs\n",
    "    song_ids = np.array(df.track_id)\n",
    "    \n",
    "    # A function that creates list of the each song with its nearest neighbors\n",
    "    def find_similars(song_ids, ind):\n",
    "        similars = []\n",
    "        for row in ind:\n",
    "            ids = [song_ids[i] for i in row]\n",
    "            similars.append(ids)\n",
    "\n",
    "        return similars \n",
    "    \n",
    "    # using the above function\n",
    "    nearest_neighbors = find_similars(song_ids, ind)\n",
    "    \n",
    "    # putting the results into a dataframe\n",
    "    nearest_neighbors_df = pd.DataFrame(nearest_neighbors, columns=columns)\n",
    "    \n",
    "    return nearest_neighbors_df"
   ]
  },
  {
   "cell_type": "code",
   "execution_count": 21,
   "metadata": {},
   "outputs": [],
   "source": [
    "# this takes a while to process\n",
    "predicted = find_nearest_songs(df, 5)"
   ]
  },
  {
   "cell_type": "code",
   "execution_count": 26,
   "metadata": {},
   "outputs": [
    {
     "data": {
      "text/html": [
       "<div>\n",
       "<style scoped>\n",
       "    .dataframe tbody tr th:only-of-type {\n",
       "        vertical-align: middle;\n",
       "    }\n",
       "\n",
       "    .dataframe tbody tr th {\n",
       "        vertical-align: top;\n",
       "    }\n",
       "\n",
       "    .dataframe thead th {\n",
       "        text-align: right;\n",
       "    }\n",
       "</style>\n",
       "<table border=\"1\" class=\"dataframe\">\n",
       "  <thead>\n",
       "    <tr style=\"text-align: right;\">\n",
       "      <th></th>\n",
       "      <th>Searched_Song</th>\n",
       "      <th>Nearest_Song1</th>\n",
       "      <th>Nearest_Song2</th>\n",
       "      <th>Nearest_Song3</th>\n",
       "      <th>Nearest_Song4</th>\n",
       "      <th>Nearest_Song5</th>\n",
       "    </tr>\n",
       "  </thead>\n",
       "  <tbody>\n",
       "    <tr>\n",
       "      <th>0</th>\n",
       "      <td>0BRjO6ga9RKCKjfDqeFgWV</td>\n",
       "      <td>4qYvjzDgJQF7KphwFAlKlZ</td>\n",
       "      <td>4TCwm3oy4zIMFtBZguvF7J</td>\n",
       "      <td>3lEipzxuebyFlWe0OIbuR0</td>\n",
       "      <td>2VUFGKhLhfvqfWBgybcAnw</td>\n",
       "      <td>629Zo1tJvHVOFi8zvcmNqG</td>\n",
       "    </tr>\n",
       "    <tr>\n",
       "      <th>1</th>\n",
       "      <td>0BjC1NfoEOOusryehmNudP</td>\n",
       "      <td>1ntTfPXSUtzgPTSkLzxOFj</td>\n",
       "      <td>2EuLA7E5JCDxIpzdetGNik</td>\n",
       "      <td>341VzaGw3ldJwt7772pCwc</td>\n",
       "      <td>1rAFp6zSKI0sOnaEyzA4iY</td>\n",
       "      <td>1e5iT6ObKpbYb60lcrU6Lm</td>\n",
       "    </tr>\n",
       "    <tr>\n",
       "      <th>2</th>\n",
       "      <td>0CoSDzoNIKCRs124s9uTVy</td>\n",
       "      <td>4AKtZbuhxQ619802YUp302</td>\n",
       "      <td>3tILEcYwnSGGfhxgM2ShjV</td>\n",
       "      <td>3fxFMiYZumjDSwbPNUzjEn</td>\n",
       "      <td>3KNFjZZ2VjCA2YNYpkKZp0</td>\n",
       "      <td>2E7PbddVqiEuv1wEpFDjeh</td>\n",
       "    </tr>\n",
       "    <tr>\n",
       "      <th>3</th>\n",
       "      <td>0Gc6TVm52BwZD07Ki6tIvf</td>\n",
       "      <td>2Amnak31JcaMHfctAcQ80q</td>\n",
       "      <td>3gLXQYeRyFfsuvdCf1S1kw</td>\n",
       "      <td>0mA0xdshrfu1Tjq9dBjcjH</td>\n",
       "      <td>4UlpQlYSKB8zxpSm8XgSZW</td>\n",
       "      <td>3gIdeoFGQ5DRC8rPTXHBU5</td>\n",
       "    </tr>\n",
       "    <tr>\n",
       "      <th>4</th>\n",
       "      <td>0IuslXpMROHdEPvSl1fTQK</td>\n",
       "      <td>1XCd9bMw7DDpQCEVzCXpHF</td>\n",
       "      <td>6dyU17xMUusa3osHJTiipU</td>\n",
       "      <td>3EUjJmrfhUyDKC6PxAoXcT</td>\n",
       "      <td>2qcCtLs9NjDMElmkB0xQ0A</td>\n",
       "      <td>0bz6RRExXd1l6kCHGXMuBn</td>\n",
       "    </tr>\n",
       "  </tbody>\n",
       "</table>\n",
       "</div>"
      ],
      "text/plain": [
       "            Searched_Song           Nearest_Song1           Nearest_Song2  \\\n",
       "0  0BRjO6ga9RKCKjfDqeFgWV  4qYvjzDgJQF7KphwFAlKlZ  4TCwm3oy4zIMFtBZguvF7J   \n",
       "1  0BjC1NfoEOOusryehmNudP  1ntTfPXSUtzgPTSkLzxOFj  2EuLA7E5JCDxIpzdetGNik   \n",
       "2  0CoSDzoNIKCRs124s9uTVy  4AKtZbuhxQ619802YUp302  3tILEcYwnSGGfhxgM2ShjV   \n",
       "3  0Gc6TVm52BwZD07Ki6tIvf  2Amnak31JcaMHfctAcQ80q  3gLXQYeRyFfsuvdCf1S1kw   \n",
       "4  0IuslXpMROHdEPvSl1fTQK  1XCd9bMw7DDpQCEVzCXpHF  6dyU17xMUusa3osHJTiipU   \n",
       "\n",
       "            Nearest_Song3           Nearest_Song4           Nearest_Song5  \n",
       "0  3lEipzxuebyFlWe0OIbuR0  2VUFGKhLhfvqfWBgybcAnw  629Zo1tJvHVOFi8zvcmNqG  \n",
       "1  341VzaGw3ldJwt7772pCwc  1rAFp6zSKI0sOnaEyzA4iY  1e5iT6ObKpbYb60lcrU6Lm  \n",
       "2  3fxFMiYZumjDSwbPNUzjEn  3KNFjZZ2VjCA2YNYpkKZp0  2E7PbddVqiEuv1wEpFDjeh  \n",
       "3  0mA0xdshrfu1Tjq9dBjcjH  4UlpQlYSKB8zxpSm8XgSZW  3gIdeoFGQ5DRC8rPTXHBU5  \n",
       "4  3EUjJmrfhUyDKC6PxAoXcT  2qcCtLs9NjDMElmkB0xQ0A  0bz6RRExXd1l6kCHGXMuBn  "
      ]
     },
     "execution_count": 26,
     "metadata": {},
     "output_type": "execute_result"
    }
   ],
   "source": [
    "predicted.head()"
   ]
  },
  {
   "cell_type": "markdown",
   "metadata": {},
   "source": [
    "#### Save predicted dataset for later use"
   ]
  },
  {
   "cell_type": "markdown",
   "metadata": {},
   "source": [
    "### save CSV"
   ]
  },
  {
   "cell_type": "code",
   "execution_count": 27,
   "metadata": {},
   "outputs": [],
   "source": [
    "# save to csv\n",
    "predicted.to_csv('predicted.csv', index_label=False)"
   ]
  },
  {
   "cell_type": "markdown",
   "metadata": {},
   "source": [
    "### save JSON"
   ]
  },
  {
   "cell_type": "code",
   "execution_count": 50,
   "metadata": {},
   "outputs": [],
   "source": [
    "# save to json\n",
    "def save_data_frame_as_json(df=None, filename=None, orient=\"records\"):\n",
    "    \"\"\"\n",
    "    Saves data frame to JSON format\n",
    "    Parameters\n",
    "    ----------\n",
    "    df: Pandas DataFrame\n",
    "    filename: File path or name\n",
    "    Returns\n",
    "    -------\n",
    "    JSON file\n",
    "    \"\"\"\n",
    "    try:\n",
    "        if not filename.endswith('.json'):\n",
    "            filename += '.json'\n",
    "        df.to_json(filename, orient=orient)\n",
    "        print(f\"Data Frame saved @:{filename}\")\n",
    "    except Exception as e:\n",
    "        print(\"Data Frame couldn't be saved: \", sys.exc_info()[0])\n",
    "        raise"
   ]
  },
  {
   "cell_type": "code",
   "execution_count": 51,
   "metadata": {},
   "outputs": [
    {
     "name": "stdout",
     "output_type": "stream",
     "text": [
      "Data Frame saved @:data/predicted_df.json\n"
     ]
    }
   ],
   "source": [
    "save_data_frame_as_json(predicted, 'data/predicted_df.json', orient=\"records\")"
   ]
  },
  {
   "cell_type": "code",
   "execution_count": 53,
   "metadata": {},
   "outputs": [
    {
     "data": {
      "text/html": [
       "<div>\n",
       "<style scoped>\n",
       "    .dataframe tbody tr th:only-of-type {\n",
       "        vertical-align: middle;\n",
       "    }\n",
       "\n",
       "    .dataframe tbody tr th {\n",
       "        vertical-align: top;\n",
       "    }\n",
       "\n",
       "    .dataframe thead th {\n",
       "        text-align: right;\n",
       "    }\n",
       "</style>\n",
       "<table border=\"1\" class=\"dataframe\">\n",
       "  <thead>\n",
       "    <tr style=\"text-align: right;\">\n",
       "      <th></th>\n",
       "      <th>Searched_Song</th>\n",
       "      <th>Nearest_Song1</th>\n",
       "      <th>Nearest_Song2</th>\n",
       "      <th>Nearest_Song3</th>\n",
       "      <th>Nearest_Song4</th>\n",
       "      <th>Nearest_Song5</th>\n",
       "    </tr>\n",
       "  </thead>\n",
       "  <tbody>\n",
       "    <tr>\n",
       "      <th>0</th>\n",
       "      <td>0BRjO6ga9RKCKjfDqeFgWV</td>\n",
       "      <td>4qYvjzDgJQF7KphwFAlKlZ</td>\n",
       "      <td>4TCwm3oy4zIMFtBZguvF7J</td>\n",
       "      <td>3lEipzxuebyFlWe0OIbuR0</td>\n",
       "      <td>2VUFGKhLhfvqfWBgybcAnw</td>\n",
       "      <td>629Zo1tJvHVOFi8zvcmNqG</td>\n",
       "    </tr>\n",
       "    <tr>\n",
       "      <th>1</th>\n",
       "      <td>0BjC1NfoEOOusryehmNudP</td>\n",
       "      <td>1ntTfPXSUtzgPTSkLzxOFj</td>\n",
       "      <td>2EuLA7E5JCDxIpzdetGNik</td>\n",
       "      <td>341VzaGw3ldJwt7772pCwc</td>\n",
       "      <td>1rAFp6zSKI0sOnaEyzA4iY</td>\n",
       "      <td>1e5iT6ObKpbYb60lcrU6Lm</td>\n",
       "    </tr>\n",
       "    <tr>\n",
       "      <th>2</th>\n",
       "      <td>0CoSDzoNIKCRs124s9uTVy</td>\n",
       "      <td>4AKtZbuhxQ619802YUp302</td>\n",
       "      <td>3tILEcYwnSGGfhxgM2ShjV</td>\n",
       "      <td>3fxFMiYZumjDSwbPNUzjEn</td>\n",
       "      <td>3KNFjZZ2VjCA2YNYpkKZp0</td>\n",
       "      <td>2E7PbddVqiEuv1wEpFDjeh</td>\n",
       "    </tr>\n",
       "    <tr>\n",
       "      <th>3</th>\n",
       "      <td>0Gc6TVm52BwZD07Ki6tIvf</td>\n",
       "      <td>2Amnak31JcaMHfctAcQ80q</td>\n",
       "      <td>3gLXQYeRyFfsuvdCf1S1kw</td>\n",
       "      <td>0mA0xdshrfu1Tjq9dBjcjH</td>\n",
       "      <td>4UlpQlYSKB8zxpSm8XgSZW</td>\n",
       "      <td>3gIdeoFGQ5DRC8rPTXHBU5</td>\n",
       "    </tr>\n",
       "    <tr>\n",
       "      <th>4</th>\n",
       "      <td>0IuslXpMROHdEPvSl1fTQK</td>\n",
       "      <td>1XCd9bMw7DDpQCEVzCXpHF</td>\n",
       "      <td>6dyU17xMUusa3osHJTiipU</td>\n",
       "      <td>3EUjJmrfhUyDKC6PxAoXcT</td>\n",
       "      <td>2qcCtLs9NjDMElmkB0xQ0A</td>\n",
       "      <td>0bz6RRExXd1l6kCHGXMuBn</td>\n",
       "    </tr>\n",
       "  </tbody>\n",
       "</table>\n",
       "</div>"
      ],
      "text/plain": [
       "            Searched_Song           Nearest_Song1           Nearest_Song2  \\\n",
       "0  0BRjO6ga9RKCKjfDqeFgWV  4qYvjzDgJQF7KphwFAlKlZ  4TCwm3oy4zIMFtBZguvF7J   \n",
       "1  0BjC1NfoEOOusryehmNudP  1ntTfPXSUtzgPTSkLzxOFj  2EuLA7E5JCDxIpzdetGNik   \n",
       "2  0CoSDzoNIKCRs124s9uTVy  4AKtZbuhxQ619802YUp302  3tILEcYwnSGGfhxgM2ShjV   \n",
       "3  0Gc6TVm52BwZD07Ki6tIvf  2Amnak31JcaMHfctAcQ80q  3gLXQYeRyFfsuvdCf1S1kw   \n",
       "4  0IuslXpMROHdEPvSl1fTQK  1XCd9bMw7DDpQCEVzCXpHF  6dyU17xMUusa3osHJTiipU   \n",
       "\n",
       "            Nearest_Song3           Nearest_Song4           Nearest_Song5  \n",
       "0  3lEipzxuebyFlWe0OIbuR0  2VUFGKhLhfvqfWBgybcAnw  629Zo1tJvHVOFi8zvcmNqG  \n",
       "1  341VzaGw3ldJwt7772pCwc  1rAFp6zSKI0sOnaEyzA4iY  1e5iT6ObKpbYb60lcrU6Lm  \n",
       "2  3fxFMiYZumjDSwbPNUzjEn  3KNFjZZ2VjCA2YNYpkKZp0  2E7PbddVqiEuv1wEpFDjeh  \n",
       "3  0mA0xdshrfu1Tjq9dBjcjH  4UlpQlYSKB8zxpSm8XgSZW  3gIdeoFGQ5DRC8rPTXHBU5  \n",
       "4  3EUjJmrfhUyDKC6PxAoXcT  2qcCtLs9NjDMElmkB0xQ0A  0bz6RRExXd1l6kCHGXMuBn  "
      ]
     },
     "execution_count": 53,
     "metadata": {},
     "output_type": "execute_result"
    }
   ],
   "source": [
    "# check the successful data record\n",
    "json_df = pd.read_json('data/predicted_df.json')\n",
    "json_df.head()"
   ]
  },
  {
   "cell_type": "markdown",
   "metadata": {},
   "source": [
    "### save SQL db"
   ]
  },
  {
   "cell_type": "code",
   "execution_count": 57,
   "metadata": {},
   "outputs": [],
   "source": [
    "# Prepare for the df to sql transfer\n",
    "connection = sqlite3.connect('data/predicted_db.sqlite3')\n",
    "curs = connection.cursor()\n",
    "table_name = 'recommendations'"
   ]
  },
  {
   "cell_type": "code",
   "execution_count": 58,
   "metadata": {},
   "outputs": [],
   "source": [
    "json_df.to_sql(table_name, con=connection, if_exists = 'replace')"
   ]
  },
  {
   "cell_type": "code",
   "execution_count": 62,
   "metadata": {},
   "outputs": [
    {
     "name": "stdout",
     "output_type": "stream",
     "text": [
      "(180135,) RECORDS\n"
     ]
    }
   ],
   "source": [
    "# check the successful data record\n",
    "curs.execute(f\"SELECT count(distinct Searched_Song) as review_count FROM {table_name};\")\n",
    "results = curs.fetchone()\n",
    "print(results, \"RECORDS\")"
   ]
  },
  {
   "cell_type": "markdown",
   "metadata": {},
   "source": [
    "## Function for finding similar songs using Spotify API"
   ]
  },
  {
   "cell_type": "code",
   "execution_count": 31,
   "metadata": {},
   "outputs": [
    {
     "data": {
      "text/plain": [
       "True"
      ]
     },
     "execution_count": 31,
     "metadata": {},
     "output_type": "execute_result"
    }
   ],
   "source": [
    "load_dotenv()"
   ]
  },
  {
   "cell_type": "markdown",
   "metadata": {},
   "source": [
    "### Load spotipy credentials"
   ]
  },
  {
   "cell_type": "code",
   "execution_count": 32,
   "metadata": {},
   "outputs": [],
   "source": [
    "client_credentials_manager = SpotifyClientCredentials()\n",
    "sp = spotipy.Spotify(client_credentials_manager=client_credentials_manager)"
   ]
  },
  {
   "cell_type": "markdown",
   "metadata": {},
   "source": [
    "### Run the function"
   ]
  },
  {
   "cell_type": "code",
   "execution_count": 85,
   "metadata": {},
   "outputs": [],
   "source": [
    "# Function for finding similar songs using Spotify API\n",
    "\n",
    "def dj_rec(track_id, max_distance=6.5, neighbors=3):\n",
    "    \"\"\"\n",
    "    Prints the ids of relevant songs, along with their distance from the input song.\n",
    "\n",
    "    Parameters:\n",
    "    track_id (string): Spotify track id.\n",
    "    max_distance (float): maximum euclidean distance a song can be \n",
    "                          from the input song for it to be returned.\n",
    "    neighbors (int): number of song recommendations returned.\n",
    "    \"\"\"\n",
    "\n",
    "    rel_artists = sp.artist_related_artists(sp.track(track_id=track_id)['artists'][0]['id'])['artists']\n",
    "    artist_log = []\n",
    "    for a in rel_artists:\n",
    "        artist_log.append(a['id'])\n",
    "    feat_log = []\n",
    "    for artist in artist_log:\n",
    "        for track in sp.artist_top_tracks(artist)['tracks']:\n",
    "            feat_log.append(sp.audio_features(track['id'])[0])\n",
    "    \n",
    "    catalog = pd.DataFrame.from_dict(feat_log)\n",
    "    \n",
    "    root = pd.DataFrame.from_dict(sp.audio_features(tracks=[track_id]))\n",
    "\n",
    "    merged_df = root.append(catalog, ignore_index=True)\n",
    "    \n",
    "    dropped_df = merged_df.drop(columns=['uri', 'track_href', 'id', 'duration_ms', 'time_signature', 'mode', 'loudness', 'type', 'analysis_url'])\n",
    "    scaled_df = StandardScaler().fit_transform(dropped_df)\n",
    "    trans_array = scaled_df.copy()\n",
    "    trans_array[:,0] = [u*2.4 for u in trans_array[:,0]] # acousticness\n",
    "    trans_array[:,1] = [((u*u)**0.5)*u for u in trans_array[:,1]] # danceability\n",
    "    trans_array[:,2] = [u*1.7 for u in trans_array[:,2]] # energy\n",
    "    trans_array[:,3] = [u*1.4 for u in trans_array[:,3]] # instrumentalness\n",
    "    trans_array[:,4] = [u*0.9 for u in trans_array[:,4]] # key\n",
    "    trans_array[:,5] = [u*1.0 for u in trans_array[:,5]] # liveness\n",
    "    trans_array[:,6] = [u*1.0 for u in trans_array[:,6]] # speechiness\n",
    "    trans_array[:,7] = [u*1.1 for u in trans_array[:,7]] # tempo\n",
    "    trans_array[:,8] = [u*2.5 for u in trans_array[:,8]] # valence\n",
    "\n",
    "    knn = NearestNeighbors()\n",
    "    knn.fit(trans_array)\n",
    "\n",
    "    rec = knn.kneighbors(trans_array[[0]], n_neighbors=neighbors+1)\n",
    "\n",
    "    print('Seed')\n",
    "    print('ID:     ', root.loc[0,'id'], '\\n')\n",
    "    print('Energy: ', root.loc[0, 'energy']) # add/change/remove\n",
    "    print('Danceability: ', root.loc[0, 'danceability']) # ? add/change/remove\n",
    "    print('\\nRecommendations')\n",
    "\n",
    "    for n in range(1,neighbors+1):\n",
    "        if rec[0][0][n] <= max_distance:\n",
    "            print('ID:      ', merged_df.loc[rec[1][0][n],'id'])\n",
    "            print('Distance:', rec[0][0][n], '\\n')\n",
    "            print('Energy:', merged_df.loc[rec[1][0][n],'energy']) # add/change/remove\n",
    "            print('Danceability:', merged_df.loc[rec[1][0][n],'danceability']) # add/remove/change\n",
    "            print('\\n')\n",
    "            \n",
    "    if rec[0][0][1] > max_distance:\n",
    "        print('No matches in catalog')"
   ]
  },
  {
   "cell_type": "code",
   "execution_count": 86,
   "metadata": {},
   "outputs": [
    {
     "name": "stdout",
     "output_type": "stream",
     "text": [
      "Seed\n",
      "ID:      0Gc6TVm52BwZD07Ki6tIvf \n",
      "\n",
      "Energy:  0.326\n",
      "Danceability:  0.24\n",
      "\n",
      "Recommendations\n",
      "ID:       758VqyHhAhzX6vmQ8h0exw\n",
      "Distance: 3.486360493216998 \n",
      "\n",
      "Energy: 0.303\n",
      "Danceability: 0.273\n",
      "\n",
      "\n",
      "ID:       0PnSFrAr48J5cF6Sf0ZkQa\n",
      "Distance: 3.6727053102290093 \n",
      "\n",
      "Energy: 0.186\n",
      "Danceability: 0.209\n",
      "\n",
      "\n",
      "ID:       4yKTDPH6iRBHmA44AipmIk\n",
      "Distance: 3.6871322332566416 \n",
      "\n",
      "Energy: 0.0743\n",
      "Danceability: 0.353\n",
      "\n",
      "\n"
     ]
    }
   ],
   "source": [
    "# Example\n",
    "\n",
    "dj_rec('0Gc6TVm52BwZD07Ki6tIvf', max_distance=5.0, neighbors=3)"
   ]
  },
  {
   "cell_type": "code",
   "execution_count": 87,
   "metadata": {},
   "outputs": [
    {
     "data": {
      "text/plain": [
       "[{'external_urls': {'spotify': 'https://open.spotify.com/artist/0TQUgpZqEnfluYEfKQBYB6'},\n",
       "  'href': 'https://api.spotify.com/v1/artists/0TQUgpZqEnfluYEfKQBYB6',\n",
       "  'id': '0TQUgpZqEnfluYEfKQBYB6',\n",
       "  'name': 'Henri Salvador',\n",
       "  'type': 'artist',\n",
       "  'uri': 'spotify:artist:0TQUgpZqEnfluYEfKQBYB6'}]"
      ]
     },
     "execution_count": 87,
     "metadata": {},
     "output_type": "execute_result"
    }
   ],
   "source": [
    "# Find artist name from track id\n",
    "\n",
    "sp.track('0Gc6TVm52BwZD07Ki6tIvf')['artists']"
   ]
  },
  {
   "cell_type": "code",
   "execution_count": 88,
   "metadata": {},
   "outputs": [
    {
     "data": {
      "text/plain": [
       "'Dis-moi monsieur Gordon Cooper'"
      ]
     },
     "execution_count": 88,
     "metadata": {},
     "output_type": "execute_result"
    }
   ],
   "source": [
    "# Find song name from track id\n",
    "\n",
    "sp.track('0Gc6TVm52BwZD07Ki6tIvf')['name']"
   ]
  },
  {
   "cell_type": "code",
   "execution_count": null,
   "metadata": {},
   "outputs": [],
   "source": []
  }
 ],
 "metadata": {
  "kernelspec": {
   "display_name": "U4-S1-NLP (Python3)",
   "language": "python",
   "name": "u4-s1-nlp"
  },
  "language_info": {
   "codemirror_mode": {
    "name": "ipython",
    "version": 3
   },
   "file_extension": ".py",
   "mimetype": "text/x-python",
   "name": "python",
   "nbconvert_exporter": "python",
   "pygments_lexer": "ipython3",
   "version": "3.7.0"
  }
 },
 "nbformat": 4,
 "nbformat_minor": 2
}
