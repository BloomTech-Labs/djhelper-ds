{
 "cells": [
  {
   "cell_type": "markdown",
   "metadata": {},
   "source": [
    "## Load existing dataset, collect Data from Spotify API, join the data."
   ]
  },
  {
   "cell_type": "code",
   "execution_count": 1,
   "metadata": {},
   "outputs": [],
   "source": [
    "import pandas as pd"
   ]
  },
  {
   "cell_type": "markdown",
   "metadata": {},
   "source": [
    "### Load the dataset used by previous DS team"
   ]
  },
  {
   "cell_type": "code",
   "execution_count": 2,
   "metadata": {},
   "outputs": [],
   "source": [
    "df = pd.read_csv('https://raw.githubusercontent.com/Lambda-School-Labs/djhelper-ds/visuals_canvas/Data/SpotifyFeatures.csv')"
   ]
  },
  {
   "cell_type": "markdown",
   "metadata": {},
   "source": [
    "### Look at the data"
   ]
  },
  {
   "cell_type": "code",
   "execution_count": 3,
   "metadata": {},
   "outputs": [
    {
     "data": {
      "text/html": [
       "<div>\n",
       "<style scoped>\n",
       "    .dataframe tbody tr th:only-of-type {\n",
       "        vertical-align: middle;\n",
       "    }\n",
       "\n",
       "    .dataframe tbody tr th {\n",
       "        vertical-align: top;\n",
       "    }\n",
       "\n",
       "    .dataframe thead th {\n",
       "        text-align: right;\n",
       "    }\n",
       "</style>\n",
       "<table border=\"1\" class=\"dataframe\">\n",
       "  <thead>\n",
       "    <tr style=\"text-align: right;\">\n",
       "      <th></th>\n",
       "      <th>genre</th>\n",
       "      <th>artist_name</th>\n",
       "      <th>track_name</th>\n",
       "      <th>track_id</th>\n",
       "      <th>popularity</th>\n",
       "      <th>acousticness</th>\n",
       "      <th>danceability</th>\n",
       "      <th>duration_ms</th>\n",
       "      <th>energy</th>\n",
       "      <th>instrumentalness</th>\n",
       "      <th>key</th>\n",
       "      <th>liveness</th>\n",
       "      <th>loudness</th>\n",
       "      <th>mode</th>\n",
       "      <th>speechiness</th>\n",
       "      <th>tempo</th>\n",
       "      <th>time_signature</th>\n",
       "      <th>valence</th>\n",
       "    </tr>\n",
       "  </thead>\n",
       "  <tbody>\n",
       "    <tr>\n",
       "      <th>0</th>\n",
       "      <td>Movie</td>\n",
       "      <td>Henri Salvador</td>\n",
       "      <td>C'est beau de faire un Show</td>\n",
       "      <td>0BRjO6ga9RKCKjfDqeFgWV</td>\n",
       "      <td>0</td>\n",
       "      <td>0.611</td>\n",
       "      <td>0.389</td>\n",
       "      <td>99373</td>\n",
       "      <td>0.910</td>\n",
       "      <td>0.000</td>\n",
       "      <td>C#</td>\n",
       "      <td>0.3460</td>\n",
       "      <td>-1.828</td>\n",
       "      <td>Major</td>\n",
       "      <td>0.0525</td>\n",
       "      <td>166.969</td>\n",
       "      <td>4/4</td>\n",
       "      <td>0.814</td>\n",
       "    </tr>\n",
       "    <tr>\n",
       "      <th>1</th>\n",
       "      <td>Movie</td>\n",
       "      <td>Martin &amp; les fées</td>\n",
       "      <td>Perdu d'avance (par Gad Elmaleh)</td>\n",
       "      <td>0BjC1NfoEOOusryehmNudP</td>\n",
       "      <td>1</td>\n",
       "      <td>0.246</td>\n",
       "      <td>0.590</td>\n",
       "      <td>137373</td>\n",
       "      <td>0.737</td>\n",
       "      <td>0.000</td>\n",
       "      <td>F#</td>\n",
       "      <td>0.1510</td>\n",
       "      <td>-5.559</td>\n",
       "      <td>Minor</td>\n",
       "      <td>0.0868</td>\n",
       "      <td>174.003</td>\n",
       "      <td>4/4</td>\n",
       "      <td>0.816</td>\n",
       "    </tr>\n",
       "    <tr>\n",
       "      <th>2</th>\n",
       "      <td>Movie</td>\n",
       "      <td>Joseph Williams</td>\n",
       "      <td>Don't Let Me Be Lonely Tonight</td>\n",
       "      <td>0CoSDzoNIKCRs124s9uTVy</td>\n",
       "      <td>3</td>\n",
       "      <td>0.952</td>\n",
       "      <td>0.663</td>\n",
       "      <td>170267</td>\n",
       "      <td>0.131</td>\n",
       "      <td>0.000</td>\n",
       "      <td>C</td>\n",
       "      <td>0.1030</td>\n",
       "      <td>-13.879</td>\n",
       "      <td>Minor</td>\n",
       "      <td>0.0362</td>\n",
       "      <td>99.488</td>\n",
       "      <td>5/4</td>\n",
       "      <td>0.368</td>\n",
       "    </tr>\n",
       "    <tr>\n",
       "      <th>3</th>\n",
       "      <td>Movie</td>\n",
       "      <td>Henri Salvador</td>\n",
       "      <td>Dis-moi Monsieur Gordon Cooper</td>\n",
       "      <td>0Gc6TVm52BwZD07Ki6tIvf</td>\n",
       "      <td>0</td>\n",
       "      <td>0.703</td>\n",
       "      <td>0.240</td>\n",
       "      <td>152427</td>\n",
       "      <td>0.326</td>\n",
       "      <td>0.000</td>\n",
       "      <td>C#</td>\n",
       "      <td>0.0985</td>\n",
       "      <td>-12.178</td>\n",
       "      <td>Major</td>\n",
       "      <td>0.0395</td>\n",
       "      <td>171.758</td>\n",
       "      <td>4/4</td>\n",
       "      <td>0.227</td>\n",
       "    </tr>\n",
       "    <tr>\n",
       "      <th>4</th>\n",
       "      <td>Movie</td>\n",
       "      <td>Fabien Nataf</td>\n",
       "      <td>Ouverture</td>\n",
       "      <td>0IuslXpMROHdEPvSl1fTQK</td>\n",
       "      <td>4</td>\n",
       "      <td>0.950</td>\n",
       "      <td>0.331</td>\n",
       "      <td>82625</td>\n",
       "      <td>0.225</td>\n",
       "      <td>0.123</td>\n",
       "      <td>F</td>\n",
       "      <td>0.2020</td>\n",
       "      <td>-21.150</td>\n",
       "      <td>Major</td>\n",
       "      <td>0.0456</td>\n",
       "      <td>140.576</td>\n",
       "      <td>4/4</td>\n",
       "      <td>0.390</td>\n",
       "    </tr>\n",
       "  </tbody>\n",
       "</table>\n",
       "</div>"
      ],
      "text/plain": [
       "   genre        artist_name                        track_name  \\\n",
       "0  Movie     Henri Salvador       C'est beau de faire un Show   \n",
       "1  Movie  Martin & les fées  Perdu d'avance (par Gad Elmaleh)   \n",
       "2  Movie    Joseph Williams    Don't Let Me Be Lonely Tonight   \n",
       "3  Movie     Henri Salvador    Dis-moi Monsieur Gordon Cooper   \n",
       "4  Movie       Fabien Nataf                         Ouverture   \n",
       "\n",
       "                 track_id  popularity  acousticness  danceability  \\\n",
       "0  0BRjO6ga9RKCKjfDqeFgWV           0         0.611         0.389   \n",
       "1  0BjC1NfoEOOusryehmNudP           1         0.246         0.590   \n",
       "2  0CoSDzoNIKCRs124s9uTVy           3         0.952         0.663   \n",
       "3  0Gc6TVm52BwZD07Ki6tIvf           0         0.703         0.240   \n",
       "4  0IuslXpMROHdEPvSl1fTQK           4         0.950         0.331   \n",
       "\n",
       "   duration_ms  energy  instrumentalness key  liveness  loudness   mode  \\\n",
       "0        99373   0.910             0.000  C#    0.3460    -1.828  Major   \n",
       "1       137373   0.737             0.000  F#    0.1510    -5.559  Minor   \n",
       "2       170267   0.131             0.000   C    0.1030   -13.879  Minor   \n",
       "3       152427   0.326             0.000  C#    0.0985   -12.178  Major   \n",
       "4        82625   0.225             0.123   F    0.2020   -21.150  Major   \n",
       "\n",
       "   speechiness    tempo time_signature  valence  \n",
       "0       0.0525  166.969            4/4    0.814  \n",
       "1       0.0868  174.003            4/4    0.816  \n",
       "2       0.0362   99.488            5/4    0.368  \n",
       "3       0.0395  171.758            4/4    0.227  \n",
       "4       0.0456  140.576            4/4    0.390  "
      ]
     },
     "execution_count": 3,
     "metadata": {},
     "output_type": "execute_result"
    }
   ],
   "source": [
    "df.head()"
   ]
  },
  {
   "cell_type": "code",
   "execution_count": 4,
   "metadata": {},
   "outputs": [
    {
     "data": {
      "text/plain": [
       "(232725, 18)"
      ]
     },
     "execution_count": 4,
     "metadata": {},
     "output_type": "execute_result"
    }
   ],
   "source": [
    "df.shape"
   ]
  },
  {
   "cell_type": "code",
   "execution_count": 5,
   "metadata": {},
   "outputs": [
    {
     "data": {
      "text/plain": [
       "Comedy              9681\n",
       "Soundtrack          9646\n",
       "Indie               9543\n",
       "Jazz                9441\n",
       "Pop                 9386\n",
       "Electronic          9377\n",
       "Children’s Music    9353\n",
       "Folk                9299\n",
       "Hip-Hop             9295\n",
       "Rock                9272\n",
       "Alternative         9263\n",
       "Classical           9256\n",
       "Rap                 9232\n",
       "World               9096\n",
       "Soul                9089\n",
       "Blues               9023\n",
       "R&B                 8992\n",
       "Anime               8936\n",
       "Reggaeton           8927\n",
       "Ska                 8874\n",
       "Reggae              8771\n",
       "Dance               8701\n",
       "Country             8664\n",
       "Opera               8280\n",
       "Movie               7806\n",
       "Children's Music    5403\n",
       "A Capella            119\n",
       "Name: genre, dtype: int64"
      ]
     },
     "execution_count": 5,
     "metadata": {},
     "output_type": "execute_result"
    }
   ],
   "source": [
    "df['genre'].value_counts()"
   ]
  },
  {
   "cell_type": "code",
   "execution_count": 6,
   "metadata": {},
   "outputs": [
    {
     "data": {
      "text/plain": [
       "Giuseppe Verdi              1394\n",
       "Giacomo Puccini             1137\n",
       "Kimbo Children's Music       971\n",
       "Nobuo Uematsu                825\n",
       "Richard Wagner               804\n",
       "Wolfgang Amadeus Mozart      800\n",
       "Randy Newman                 757\n",
       "Georges Bizet                701\n",
       "Juice Music                  684\n",
       "Johann Sebastian Bach        632\n",
       "Ludwig van Beethoven         596\n",
       "Hans Zimmer                  559\n",
       "Gioachino Rossini            491\n",
       "Chorus                       480\n",
       "Howard Shore                 479\n",
       "Drake                        477\n",
       "Henri Salvador               474\n",
       "John Williams                450\n",
       "Frédéric Chopin              436\n",
       "Alan Menken                  420\n",
       "Chris Brown                  392\n",
       "Bob Marley & The Wailers     380\n",
       "Dorothée                     378\n",
       "Gaetano Donizetti            377\n",
       "Children Songs Company       371\n",
       "Max Richter                  365\n",
       "Capcom Sound Team            326\n",
       "Future                       317\n",
       "Yuki Hayashi                 309\n",
       "Sublime                      306\n",
       "Name: artist_name, dtype: int64"
      ]
     },
     "execution_count": 6,
     "metadata": {},
     "output_type": "execute_result"
    }
   ],
   "source": [
    "df['artist_name'].value_counts()[:30]"
   ]
  },
  {
   "cell_type": "markdown",
   "metadata": {},
   "source": [
    "### As we can see from the data, not a lot of popular songs are there"
   ]
  },
  {
   "cell_type": "code",
   "execution_count": 7,
   "metadata": {},
   "outputs": [
    {
     "data": {
      "text/plain": [
       "0     6312\n",
       "50    5415\n",
       "53    5414\n",
       "51    5401\n",
       "52    5342\n",
       "49    5266\n",
       "48    5068\n",
       "54    5013\n",
       "47    4944\n",
       "55    4696\n",
       "46    4657\n",
       "56    4632\n",
       "44    4605\n",
       "43    4573\n",
       "45    4525\n",
       "42    4472\n",
       "57    4461\n",
       "41    4414\n",
       "40    4261\n",
       "38    4253\n",
       "58    4208\n",
       "36    4175\n",
       "39    4151\n",
       "33    4096\n",
       "35    4089\n",
       "37    4079\n",
       "32    4041\n",
       "59    3981\n",
       "29    3929\n",
       "31    3924\n",
       "Name: popularity, dtype: int64"
      ]
     },
     "execution_count": 7,
     "metadata": {},
     "output_type": "execute_result"
    }
   ],
   "source": [
    "df['popularity'].value_counts()[:30]"
   ]
  },
  {
   "cell_type": "markdown",
   "metadata": {},
   "source": [
    "### Let's add some 2019 - 2020 songs from Spotify by setting up Spotipy for querying the API endpoint."
   ]
  },
  {
   "cell_type": "code",
   "execution_count": 8,
   "metadata": {},
   "outputs": [],
   "source": [
    "# Load Spotify API\n",
    "import spotipy\n",
    "from spotipy.oauth2 import SpotifyClientCredentials\n",
    "import spotipy.util as util"
   ]
  },
  {
   "cell_type": "markdown",
   "metadata": {},
   "source": [
    "### Safety first. Keep your keys private"
   ]
  },
  {
   "cell_type": "code",
   "execution_count": 9,
   "metadata": {},
   "outputs": [],
   "source": [
    "# First create .env file with the key values in your folder\n",
    "from dotenv import load_dotenv\n",
    "import os"
   ]
  },
  {
   "cell_type": "code",
   "execution_count": 10,
   "metadata": {},
   "outputs": [
    {
     "data": {
      "text/plain": [
       "True"
      ]
     },
     "execution_count": 10,
     "metadata": {},
     "output_type": "execute_result"
    }
   ],
   "source": [
    "load_dotenv() # load environment variables"
   ]
  },
  {
   "cell_type": "code",
   "execution_count": 12,
   "metadata": {},
   "outputs": [],
   "source": [
    "# you can check your variables before running API client credentials.\n",
    "# print(\"CLIENT ID:\", os.environ.get(\"SPOTIPY_CLIENT_ID\"))\n",
    "# print(\"CLIENT SECRET:\", os.environ.get(\"SPOTIPY_CLIENT_SECRET\"))"
   ]
  },
  {
   "cell_type": "code",
   "execution_count": 13,
   "metadata": {},
   "outputs": [],
   "source": [
    "client_credentials_manager = SpotifyClientCredentials()\n",
    "sp = spotipy.Spotify(client_credentials_manager=client_credentials_manager)"
   ]
  },
  {
   "cell_type": "markdown",
   "metadata": {},
   "source": [
    "### We will be quiring the data with the same features as the existing dataset"
   ]
  },
  {
   "cell_type": "code",
   "execution_count": 18,
   "metadata": {},
   "outputs": [
    {
     "name": "stdout",
     "output_type": "stream",
     "text": [
      "Time to run this code (in seconds): 11.551806449999958\n"
     ]
    }
   ],
   "source": [
    "import timeit\n",
    "start = timeit.default_timer()\n",
    "\n",
    "# create empty lists where the results are going to be stored\n",
    "artist_name = []\n",
    "track_name = []\n",
    "popularity = []\n",
    "track_id = []\n",
    "\n",
    "# the maximum query for Spotify API is 2000 with the max \n",
    "for i in range(0,2000,50):\n",
    "    track_results = sp.search(q='year:2019', type='track', limit=50,offset=i)\n",
    "    for i, t in enumerate(track_results['tracks']['items']):\n",
    "        artist_name.append(t['artists'][0]['name'])\n",
    "        track_name.append(t['name'])\n",
    "        track_id.append(t['id'])\n",
    "        popularity.append(t['popularity'])\n",
    "      \n",
    "\n",
    "stop = timeit.default_timer()\n",
    "print ('Time to run this code (in seconds):', stop - start)"
   ]
  },
  {
   "cell_type": "markdown",
   "metadata": {},
   "source": [
    "### Let's do the same for the 2020 songs"
   ]
  },
  {
   "cell_type": "code",
   "execution_count": 59,
   "metadata": {},
   "outputs": [
    {
     "name": "stdout",
     "output_type": "stream",
     "text": [
      "Time to run this code (in seconds): 6.909060673000113\n"
     ]
    }
   ],
   "source": [
    "import timeit\n",
    "start = timeit.default_timer()\n",
    "\n",
    "# create empty lists where the results are going to be stored\n",
    "artist_name_20 = []\n",
    "track_name_20 = []\n",
    "popularity_20 = []\n",
    "track_id_20 = []\n",
    "\n",
    "# the maximum query for Spotify API is 2000 with the max \n",
    "for i in range(0,2000,50):\n",
    "    track_results = sp.search(q='year:2020', type='track', limit=50,offset=i)\n",
    "    for i, t in enumerate(track_results['tracks']['items']):\n",
    "        artist_name_20.append(t['artists'][0]['name'])\n",
    "        track_name_20.append(t['name'])\n",
    "        track_id_20.append(t['id'])\n",
    "        popularity_20.append(t['popularity'])\n",
    "      \n",
    "\n",
    "stop = timeit.default_timer()\n",
    "print ('Time to run this code (in seconds):', stop - start)"
   ]
  },
  {
   "cell_type": "code",
   "execution_count": 19,
   "metadata": {},
   "outputs": [
    {
     "name": "stdout",
     "output_type": "stream",
     "text": [
      "number of elements in the 2019 track_id list: 2000\n"
     ]
    }
   ],
   "source": [
    "print('number of elements in the 2019 track_id list:', len(track_id))"
   ]
  },
  {
   "cell_type": "code",
   "execution_count": 60,
   "metadata": {},
   "outputs": [
    {
     "name": "stdout",
     "output_type": "stream",
     "text": [
      "number of elements in the 2020 track_id list: 2000\n"
     ]
    }
   ],
   "source": [
    "print('number of elements in the 2020 track_id list:', len(track_id_20))"
   ]
  },
  {
   "cell_type": "markdown",
   "metadata": {},
   "source": [
    "### Now we need to prepare the data"
   ]
  },
  {
   "cell_type": "code",
   "execution_count": 40,
   "metadata": {},
   "outputs": [
    {
     "name": "stdout",
     "output_type": "stream",
     "text": [
      "(2000, 4)\n"
     ]
    },
    {
     "data": {
      "text/html": [
       "<div>\n",
       "<style scoped>\n",
       "    .dataframe tbody tr th:only-of-type {\n",
       "        vertical-align: middle;\n",
       "    }\n",
       "\n",
       "    .dataframe tbody tr th {\n",
       "        vertical-align: top;\n",
       "    }\n",
       "\n",
       "    .dataframe thead th {\n",
       "        text-align: right;\n",
       "    }\n",
       "</style>\n",
       "<table border=\"1\" class=\"dataframe\">\n",
       "  <thead>\n",
       "    <tr style=\"text-align: right;\">\n",
       "      <th></th>\n",
       "      <th>artist_name</th>\n",
       "      <th>track_name</th>\n",
       "      <th>track_id</th>\n",
       "      <th>popularity</th>\n",
       "    </tr>\n",
       "  </thead>\n",
       "  <tbody>\n",
       "    <tr>\n",
       "      <th>0</th>\n",
       "      <td>Roddy Ricch</td>\n",
       "      <td>The Box</td>\n",
       "      <td>0nbXyq5TXYPCO7pr3N8S4I</td>\n",
       "      <td>97</td>\n",
       "    </tr>\n",
       "    <tr>\n",
       "      <th>1</th>\n",
       "      <td>SAINt JHN</td>\n",
       "      <td>Roses - Imanbek Remix</td>\n",
       "      <td>7fPuWrlpwDcHm5aHCH5D9t</td>\n",
       "      <td>87</td>\n",
       "    </tr>\n",
       "    <tr>\n",
       "      <th>2</th>\n",
       "      <td>Doja Cat</td>\n",
       "      <td>Say So</td>\n",
       "      <td>3Dv1eDb0MEgF93GpLXlucZ</td>\n",
       "      <td>95</td>\n",
       "    </tr>\n",
       "    <tr>\n",
       "      <th>3</th>\n",
       "      <td>Post Malone</td>\n",
       "      <td>Circles</td>\n",
       "      <td>21jGcNKet2qwijlDFuPiPb</td>\n",
       "      <td>93</td>\n",
       "    </tr>\n",
       "    <tr>\n",
       "      <th>4</th>\n",
       "      <td>Surfaces</td>\n",
       "      <td>Sunday Best</td>\n",
       "      <td>1Cv1YLb4q0RzL6pybtaMLo</td>\n",
       "      <td>94</td>\n",
       "    </tr>\n",
       "  </tbody>\n",
       "</table>\n",
       "</div>"
      ],
      "text/plain": [
       "   artist_name             track_name                track_id  popularity\n",
       "0  Roddy Ricch                The Box  0nbXyq5TXYPCO7pr3N8S4I          97\n",
       "1    SAINt JHN  Roses - Imanbek Remix  7fPuWrlpwDcHm5aHCH5D9t          87\n",
       "2     Doja Cat                 Say So  3Dv1eDb0MEgF93GpLXlucZ          95\n",
       "3  Post Malone                Circles  21jGcNKet2qwijlDFuPiPb          93\n",
       "4     Surfaces            Sunday Best  1Cv1YLb4q0RzL6pybtaMLo          94"
      ]
     },
     "execution_count": 40,
     "metadata": {},
     "output_type": "execute_result"
    }
   ],
   "source": [
    "# 2019\n",
    "df_tracks_19 = pd.DataFrame({'artist_name':artist_name,'track_name':track_name,'track_id':track_id,'popularity':popularity})\n",
    "print(df_tracks_19.shape)\n",
    "df_tracks_19.head()"
   ]
  },
  {
   "cell_type": "code",
   "execution_count": 61,
   "metadata": {},
   "outputs": [
    {
     "name": "stdout",
     "output_type": "stream",
     "text": [
      "(2000, 4)\n"
     ]
    },
    {
     "data": {
      "text/html": [
       "<div>\n",
       "<style scoped>\n",
       "    .dataframe tbody tr th:only-of-type {\n",
       "        vertical-align: middle;\n",
       "    }\n",
       "\n",
       "    .dataframe tbody tr th {\n",
       "        vertical-align: top;\n",
       "    }\n",
       "\n",
       "    .dataframe thead th {\n",
       "        text-align: right;\n",
       "    }\n",
       "</style>\n",
       "<table border=\"1\" class=\"dataframe\">\n",
       "  <thead>\n",
       "    <tr style=\"text-align: right;\">\n",
       "      <th></th>\n",
       "      <th>artist_name</th>\n",
       "      <th>track_name</th>\n",
       "      <th>track_id</th>\n",
       "      <th>popularity</th>\n",
       "    </tr>\n",
       "  </thead>\n",
       "  <tbody>\n",
       "    <tr>\n",
       "      <th>0</th>\n",
       "      <td>DaBaby</td>\n",
       "      <td>ROCKSTAR (feat. Roddy Ricch)</td>\n",
       "      <td>7ytR5pFWmSjzHJIeQkgog4</td>\n",
       "      <td>96</td>\n",
       "    </tr>\n",
       "    <tr>\n",
       "      <th>1</th>\n",
       "      <td>THE SCOTTS</td>\n",
       "      <td>THE SCOTTS</td>\n",
       "      <td>39Yp9wwQiSRIDOvrVg7mbk</td>\n",
       "      <td>97</td>\n",
       "    </tr>\n",
       "    <tr>\n",
       "      <th>2</th>\n",
       "      <td>The Weeknd</td>\n",
       "      <td>Blinding Lights</td>\n",
       "      <td>0VjIjW4GlUZAMYd2vXMi3b</td>\n",
       "      <td>100</td>\n",
       "    </tr>\n",
       "    <tr>\n",
       "      <th>3</th>\n",
       "      <td>Drake</td>\n",
       "      <td>Toosie Slide</td>\n",
       "      <td>127QTOFJsJQp5LbJbu3A1y</td>\n",
       "      <td>97</td>\n",
       "    </tr>\n",
       "    <tr>\n",
       "      <th>4</th>\n",
       "      <td>Lil Mosey</td>\n",
       "      <td>Blueberry Faygo</td>\n",
       "      <td>6wJYhPfqk3KGhHRG76WzOh</td>\n",
       "      <td>93</td>\n",
       "    </tr>\n",
       "  </tbody>\n",
       "</table>\n",
       "</div>"
      ],
      "text/plain": [
       "  artist_name                    track_name                track_id  \\\n",
       "0      DaBaby  ROCKSTAR (feat. Roddy Ricch)  7ytR5pFWmSjzHJIeQkgog4   \n",
       "1  THE SCOTTS                    THE SCOTTS  39Yp9wwQiSRIDOvrVg7mbk   \n",
       "2  The Weeknd               Blinding Lights  0VjIjW4GlUZAMYd2vXMi3b   \n",
       "3       Drake                  Toosie Slide  127QTOFJsJQp5LbJbu3A1y   \n",
       "4   Lil Mosey               Blueberry Faygo  6wJYhPfqk3KGhHRG76WzOh   \n",
       "\n",
       "   popularity  \n",
       "0          96  \n",
       "1          97  \n",
       "2         100  \n",
       "3          97  \n",
       "4          93  "
      ]
     },
     "execution_count": 61,
     "metadata": {},
     "output_type": "execute_result"
    }
   ],
   "source": [
    "# 2020\n",
    "df_tracks_20 = pd.DataFrame({'artist_name':artist_name_20,'track_name':track_name_20,'track_id':track_id_20,'popularity':popularity_20})\n",
    "print(df_tracks_20.shape)\n",
    "df_tracks_20.head()"
   ]
  },
  {
   "cell_type": "code",
   "execution_count": 62,
   "metadata": {},
   "outputs": [
    {
     "name": "stdout",
     "output_type": "stream",
     "text": [
      "<class 'pandas.core.frame.DataFrame'>\n",
      "RangeIndex: 2000 entries, 0 to 1999\n",
      "Data columns (total 4 columns):\n",
      "artist_name    2000 non-null object\n",
      "track_name     2000 non-null object\n",
      "track_id       2000 non-null object\n",
      "popularity     2000 non-null int64\n",
      "dtypes: int64(1), object(3)\n",
      "memory usage: 62.6+ KB\n",
      "\n",
      "\n",
      "<class 'pandas.core.frame.DataFrame'>\n",
      "RangeIndex: 2000 entries, 0 to 1999\n",
      "Data columns (total 4 columns):\n",
      "artist_name    2000 non-null object\n",
      "track_name     2000 non-null object\n",
      "track_id       2000 non-null object\n",
      "popularity     2000 non-null int64\n",
      "dtypes: int64(1), object(3)\n",
      "memory usage: 62.6+ KB\n"
     ]
    }
   ],
   "source": [
    "df_tracks_19.info() \n",
    "print('\\n')\n",
    "df_tracks_20.info()"
   ]
  },
  {
   "cell_type": "code",
   "execution_count": 56,
   "metadata": {},
   "outputs": [
    {
     "data": {
      "text/plain": [
       "67    158\n",
       "66    131\n",
       "68    127\n",
       "65    123\n",
       "69    121\n",
       "64    115\n",
       "63    113\n",
       "70    110\n",
       "72    104\n",
       "71    100\n",
       "Name: popularity, dtype: int64"
      ]
     },
     "execution_count": 56,
     "metadata": {},
     "output_type": "execute_result"
    }
   ],
   "source": [
    "df_tracks_19['popularity'].value_counts()[:10]"
   ]
  },
  {
   "cell_type": "markdown",
   "metadata": {},
   "source": [
    "### Group the entries by artist_name and track_name and check for duplicates"
   ]
  },
  {
   "cell_type": "code",
   "execution_count": 57,
   "metadata": {},
   "outputs": [
    {
     "data": {
      "text/plain": [
       "56"
      ]
     },
     "execution_count": 57,
     "metadata": {},
     "output_type": "execute_result"
    }
   ],
   "source": [
    "grouped_19 = df_tracks_19.groupby(['artist_name','track_name'], as_index=True).size()\n",
    "grouped_19[grouped_19 > 1].count()"
   ]
  },
  {
   "cell_type": "code",
   "execution_count": 63,
   "metadata": {},
   "outputs": [
    {
     "data": {
      "text/plain": [
       "240"
      ]
     },
     "execution_count": 63,
     "metadata": {},
     "output_type": "execute_result"
    }
   ],
   "source": [
    "grouped_20 = df_tracks_20.groupby(['artist_name','track_name'], as_index=True).size()\n",
    "grouped_20[grouped_20 > 1].count()"
   ]
  },
  {
   "cell_type": "markdown",
   "metadata": {},
   "source": [
    "### There are 56 duplicate entries in 2019 dataset and 240 in 2020 which we will drop"
   ]
  },
  {
   "cell_type": "code",
   "execution_count": 64,
   "metadata": {},
   "outputs": [],
   "source": [
    "df_tracks_19.drop_duplicates(subset=['artist_name','track_name'], inplace=True)"
   ]
  },
  {
   "cell_type": "code",
   "execution_count": 65,
   "metadata": {},
   "outputs": [],
   "source": [
    "df_tracks_20.drop_duplicates(subset=['artist_name','track_name'], inplace=True)"
   ]
  },
  {
   "cell_type": "code",
   "execution_count": 66,
   "metadata": {},
   "outputs": [
    {
     "data": {
      "text/plain": [
       "0"
      ]
     },
     "execution_count": 66,
     "metadata": {},
     "output_type": "execute_result"
    }
   ],
   "source": [
    "# doing the same grouping as before to verify the solution\n",
    "grouped_after_dropping_19 = df_tracks_19.groupby(['artist_name','track_name'], as_index=True).size()\n",
    "grouped_after_dropping_19[grouped_after_dropping_19 > 1].count()"
   ]
  },
  {
   "cell_type": "code",
   "execution_count": 67,
   "metadata": {},
   "outputs": [
    {
     "data": {
      "text/plain": [
       "0"
      ]
     },
     "execution_count": 67,
     "metadata": {},
     "output_type": "execute_result"
    }
   ],
   "source": [
    "grouped_after_dropping_20 = df_tracks_20.groupby(['artist_name','track_name'], as_index=True).size()\n",
    "grouped_after_dropping_20[grouped_after_dropping_20 > 1].count()"
   ]
  },
  {
   "cell_type": "markdown",
   "metadata": {},
   "source": [
    "### This time the results are empty. Another way of checking this:"
   ]
  },
  {
   "cell_type": "code",
   "execution_count": 68,
   "metadata": {},
   "outputs": [
    {
     "data": {
      "text/plain": [
       "artist_name    0\n",
       "track_name     0\n",
       "track_id       0\n",
       "popularity     0\n",
       "dtype: int64"
      ]
     },
     "execution_count": 68,
     "metadata": {},
     "output_type": "execute_result"
    }
   ],
   "source": [
    "df_tracks_19[df_tracks_19.duplicated(subset=['artist_name','track_name'],keep=False)].count()"
   ]
  },
  {
   "cell_type": "code",
   "execution_count": 69,
   "metadata": {},
   "outputs": [
    {
     "data": {
      "text/plain": [
       "((1943, 4), (1685, 4))"
      ]
     },
     "execution_count": 69,
     "metadata": {},
     "output_type": "execute_result"
    }
   ],
   "source": [
    "df_tracks_19.shape, df_tracks_20.shape"
   ]
  },
  {
   "cell_type": "markdown",
   "metadata": {},
   "source": [
    "### Get the Audio Features Data"
   ]
  },
  {
   "cell_type": "code",
   "execution_count": 70,
   "metadata": {},
   "outputs": [
    {
     "name": "stdout",
     "output_type": "stream",
     "text": [
      "Number of 2019 tracks where no audio features were available: 0\n",
      "Time to run this code (in seconds): 2.7506848000000446\n"
     ]
    }
   ],
   "source": [
    "# 2019\n",
    "# again measuring the time\n",
    "start = timeit.default_timer()\n",
    "\n",
    "# empty list, batchsize and the counter for None results\n",
    "rows = []\n",
    "batchsize = 100\n",
    "None_counter = 0\n",
    "\n",
    "for i in range(0,len(df_tracks_19['track_id']),batchsize):\n",
    "    batch = df_tracks_19['track_id'][i:i+batchsize]\n",
    "    feature_results = sp.audio_features(batch)\n",
    "    for i, t in enumerate(feature_results):\n",
    "        if t == None:\n",
    "            None_counter = None_counter + 1\n",
    "        else:\n",
    "            rows.append(t)\n",
    "            \n",
    "print('Number of 2019 tracks where no audio features were available:',None_counter)\n",
    "\n",
    "stop = timeit.default_timer()\n",
    "print ('Time to run this code (in seconds):',stop - start)\n"
   ]
  },
  {
   "cell_type": "code",
   "execution_count": 71,
   "metadata": {},
   "outputs": [
    {
     "name": "stdout",
     "output_type": "stream",
     "text": [
      "number of elements in the 2019 track_id list: 1943\n"
     ]
    }
   ],
   "source": [
    "print('number of elements in the 2019 track_id list:', len(rows))"
   ]
  },
  {
   "cell_type": "code",
   "execution_count": 72,
   "metadata": {},
   "outputs": [
    {
     "name": "stdout",
     "output_type": "stream",
     "text": [
      "Number of 2019 tracks where no audio features were available: 2\n",
      "Time to run this code (in seconds): 2.2479318939999757\n"
     ]
    }
   ],
   "source": [
    "# 2020\n",
    "# again measuring the time\n",
    "start = timeit.default_timer()\n",
    "\n",
    "# empty list, batchsize and the counter for None results\n",
    "rows_20 = []\n",
    "batchsize = 100\n",
    "None_counter = 0\n",
    "\n",
    "for i in range(0,len(df_tracks_20['track_id']),batchsize):\n",
    "    batch = df_tracks_20['track_id'][i:i+batchsize]\n",
    "    feature_results = sp.audio_features(batch)\n",
    "    for i, t in enumerate(feature_results):\n",
    "        if t == None:\n",
    "            None_counter = None_counter + 1\n",
    "        else:\n",
    "            rows_20.append(t)\n",
    "            \n",
    "print('Number of 2019 tracks where no audio features were available:',None_counter)\n",
    "\n",
    "stop = timeit.default_timer()\n",
    "print ('Time to run this code (in seconds):',stop - start)\n"
   ]
  },
  {
   "cell_type": "code",
   "execution_count": 73,
   "metadata": {},
   "outputs": [
    {
     "name": "stdout",
     "output_type": "stream",
     "text": [
      "number of elements in the 2020 track_id list: 1683\n"
     ]
    }
   ],
   "source": [
    "print('number of elements in the 2020 track_id list:', len(rows_20))"
   ]
  },
  {
   "cell_type": "markdown",
   "metadata": {},
   "source": [
    "### Load Audio features in a dataframe"
   ]
  },
  {
   "cell_type": "code",
   "execution_count": 74,
   "metadata": {},
   "outputs": [
    {
     "name": "stdout",
     "output_type": "stream",
     "text": [
      "Shape of the 2019 dataset: (1943, 18)\n"
     ]
    },
    {
     "data": {
      "text/html": [
       "<div>\n",
       "<style scoped>\n",
       "    .dataframe tbody tr th:only-of-type {\n",
       "        vertical-align: middle;\n",
       "    }\n",
       "\n",
       "    .dataframe tbody tr th {\n",
       "        vertical-align: top;\n",
       "    }\n",
       "\n",
       "    .dataframe thead th {\n",
       "        text-align: right;\n",
       "    }\n",
       "</style>\n",
       "<table border=\"1\" class=\"dataframe\">\n",
       "  <thead>\n",
       "    <tr style=\"text-align: right;\">\n",
       "      <th></th>\n",
       "      <th>acousticness</th>\n",
       "      <th>analysis_url</th>\n",
       "      <th>danceability</th>\n",
       "      <th>duration_ms</th>\n",
       "      <th>energy</th>\n",
       "      <th>id</th>\n",
       "      <th>instrumentalness</th>\n",
       "      <th>key</th>\n",
       "      <th>liveness</th>\n",
       "      <th>loudness</th>\n",
       "      <th>mode</th>\n",
       "      <th>speechiness</th>\n",
       "      <th>tempo</th>\n",
       "      <th>time_signature</th>\n",
       "      <th>track_href</th>\n",
       "      <th>type</th>\n",
       "      <th>uri</th>\n",
       "      <th>valence</th>\n",
       "    </tr>\n",
       "  </thead>\n",
       "  <tbody>\n",
       "    <tr>\n",
       "      <th>0</th>\n",
       "      <td>0.1040</td>\n",
       "      <td>https://api.spotify.com/v1/audio-analysis/0nbX...</td>\n",
       "      <td>0.896</td>\n",
       "      <td>196653</td>\n",
       "      <td>0.586</td>\n",
       "      <td>0nbXyq5TXYPCO7pr3N8S4I</td>\n",
       "      <td>0.000000</td>\n",
       "      <td>10</td>\n",
       "      <td>0.7900</td>\n",
       "      <td>-6.687</td>\n",
       "      <td>0</td>\n",
       "      <td>0.0559</td>\n",
       "      <td>116.971</td>\n",
       "      <td>4</td>\n",
       "      <td>https://api.spotify.com/v1/tracks/0nbXyq5TXYPC...</td>\n",
       "      <td>audio_features</td>\n",
       "      <td>spotify:track:0nbXyq5TXYPCO7pr3N8S4I</td>\n",
       "      <td>0.642</td>\n",
       "    </tr>\n",
       "    <tr>\n",
       "      <th>1</th>\n",
       "      <td>0.0149</td>\n",
       "      <td>https://api.spotify.com/v1/audio-analysis/7fPu...</td>\n",
       "      <td>0.784</td>\n",
       "      <td>176219</td>\n",
       "      <td>0.721</td>\n",
       "      <td>7fPuWrlpwDcHm5aHCH5D9t</td>\n",
       "      <td>0.004240</td>\n",
       "      <td>8</td>\n",
       "      <td>0.2850</td>\n",
       "      <td>-5.457</td>\n",
       "      <td>1</td>\n",
       "      <td>0.0506</td>\n",
       "      <td>121.966</td>\n",
       "      <td>4</td>\n",
       "      <td>https://api.spotify.com/v1/tracks/7fPuWrlpwDcH...</td>\n",
       "      <td>audio_features</td>\n",
       "      <td>spotify:track:7fPuWrlpwDcHm5aHCH5D9t</td>\n",
       "      <td>0.895</td>\n",
       "    </tr>\n",
       "    <tr>\n",
       "      <th>2</th>\n",
       "      <td>0.2560</td>\n",
       "      <td>https://api.spotify.com/v1/audio-analysis/3Dv1...</td>\n",
       "      <td>0.787</td>\n",
       "      <td>237893</td>\n",
       "      <td>0.673</td>\n",
       "      <td>3Dv1eDb0MEgF93GpLXlucZ</td>\n",
       "      <td>0.000004</td>\n",
       "      <td>11</td>\n",
       "      <td>0.0904</td>\n",
       "      <td>-4.577</td>\n",
       "      <td>0</td>\n",
       "      <td>0.1580</td>\n",
       "      <td>110.962</td>\n",
       "      <td>4</td>\n",
       "      <td>https://api.spotify.com/v1/tracks/3Dv1eDb0MEgF...</td>\n",
       "      <td>audio_features</td>\n",
       "      <td>spotify:track:3Dv1eDb0MEgF93GpLXlucZ</td>\n",
       "      <td>0.786</td>\n",
       "    </tr>\n",
       "    <tr>\n",
       "      <th>3</th>\n",
       "      <td>0.1920</td>\n",
       "      <td>https://api.spotify.com/v1/audio-analysis/21jG...</td>\n",
       "      <td>0.695</td>\n",
       "      <td>215280</td>\n",
       "      <td>0.762</td>\n",
       "      <td>21jGcNKet2qwijlDFuPiPb</td>\n",
       "      <td>0.002440</td>\n",
       "      <td>0</td>\n",
       "      <td>0.0863</td>\n",
       "      <td>-3.497</td>\n",
       "      <td>1</td>\n",
       "      <td>0.0395</td>\n",
       "      <td>120.042</td>\n",
       "      <td>4</td>\n",
       "      <td>https://api.spotify.com/v1/tracks/21jGcNKet2qw...</td>\n",
       "      <td>audio_features</td>\n",
       "      <td>spotify:track:21jGcNKet2qwijlDFuPiPb</td>\n",
       "      <td>0.553</td>\n",
       "    </tr>\n",
       "    <tr>\n",
       "      <th>4</th>\n",
       "      <td>0.1830</td>\n",
       "      <td>https://api.spotify.com/v1/audio-analysis/1Cv1...</td>\n",
       "      <td>0.878</td>\n",
       "      <td>158571</td>\n",
       "      <td>0.525</td>\n",
       "      <td>1Cv1YLb4q0RzL6pybtaMLo</td>\n",
       "      <td>0.000000</td>\n",
       "      <td>5</td>\n",
       "      <td>0.0714</td>\n",
       "      <td>-6.832</td>\n",
       "      <td>1</td>\n",
       "      <td>0.0578</td>\n",
       "      <td>112.022</td>\n",
       "      <td>4</td>\n",
       "      <td>https://api.spotify.com/v1/tracks/1Cv1YLb4q0Rz...</td>\n",
       "      <td>audio_features</td>\n",
       "      <td>spotify:track:1Cv1YLb4q0RzL6pybtaMLo</td>\n",
       "      <td>0.694</td>\n",
       "    </tr>\n",
       "  </tbody>\n",
       "</table>\n",
       "</div>"
      ],
      "text/plain": [
       "   acousticness                                       analysis_url  \\\n",
       "0        0.1040  https://api.spotify.com/v1/audio-analysis/0nbX...   \n",
       "1        0.0149  https://api.spotify.com/v1/audio-analysis/7fPu...   \n",
       "2        0.2560  https://api.spotify.com/v1/audio-analysis/3Dv1...   \n",
       "3        0.1920  https://api.spotify.com/v1/audio-analysis/21jG...   \n",
       "4        0.1830  https://api.spotify.com/v1/audio-analysis/1Cv1...   \n",
       "\n",
       "   danceability  duration_ms  energy                      id  \\\n",
       "0         0.896       196653   0.586  0nbXyq5TXYPCO7pr3N8S4I   \n",
       "1         0.784       176219   0.721  7fPuWrlpwDcHm5aHCH5D9t   \n",
       "2         0.787       237893   0.673  3Dv1eDb0MEgF93GpLXlucZ   \n",
       "3         0.695       215280   0.762  21jGcNKet2qwijlDFuPiPb   \n",
       "4         0.878       158571   0.525  1Cv1YLb4q0RzL6pybtaMLo   \n",
       "\n",
       "   instrumentalness  key  liveness  loudness  mode  speechiness    tempo  \\\n",
       "0          0.000000   10    0.7900    -6.687     0       0.0559  116.971   \n",
       "1          0.004240    8    0.2850    -5.457     1       0.0506  121.966   \n",
       "2          0.000004   11    0.0904    -4.577     0       0.1580  110.962   \n",
       "3          0.002440    0    0.0863    -3.497     1       0.0395  120.042   \n",
       "4          0.000000    5    0.0714    -6.832     1       0.0578  112.022   \n",
       "\n",
       "   time_signature                                         track_href  \\\n",
       "0               4  https://api.spotify.com/v1/tracks/0nbXyq5TXYPC...   \n",
       "1               4  https://api.spotify.com/v1/tracks/7fPuWrlpwDcH...   \n",
       "2               4  https://api.spotify.com/v1/tracks/3Dv1eDb0MEgF...   \n",
       "3               4  https://api.spotify.com/v1/tracks/21jGcNKet2qw...   \n",
       "4               4  https://api.spotify.com/v1/tracks/1Cv1YLb4q0Rz...   \n",
       "\n",
       "             type                                   uri  valence  \n",
       "0  audio_features  spotify:track:0nbXyq5TXYPCO7pr3N8S4I    0.642  \n",
       "1  audio_features  spotify:track:7fPuWrlpwDcHm5aHCH5D9t    0.895  \n",
       "2  audio_features  spotify:track:3Dv1eDb0MEgF93GpLXlucZ    0.786  \n",
       "3  audio_features  spotify:track:21jGcNKet2qwijlDFuPiPb    0.553  \n",
       "4  audio_features  spotify:track:1Cv1YLb4q0RzL6pybtaMLo    0.694  "
      ]
     },
     "execution_count": 74,
     "metadata": {},
     "output_type": "execute_result"
    }
   ],
   "source": [
    "# 2019\n",
    "df_audio_features_19 = pd.DataFrame.from_dict(rows,orient='columns')\n",
    "print(\"Shape of the 2019 dataset:\", df_audio_features_19.shape)\n",
    "df_audio_features_19.head()"
   ]
  },
  {
   "cell_type": "code",
   "execution_count": 75,
   "metadata": {},
   "outputs": [
    {
     "name": "stdout",
     "output_type": "stream",
     "text": [
      "Shape of the 2020 dataset: (1683, 18)\n"
     ]
    },
    {
     "data": {
      "text/html": [
       "<div>\n",
       "<style scoped>\n",
       "    .dataframe tbody tr th:only-of-type {\n",
       "        vertical-align: middle;\n",
       "    }\n",
       "\n",
       "    .dataframe tbody tr th {\n",
       "        vertical-align: top;\n",
       "    }\n",
       "\n",
       "    .dataframe thead th {\n",
       "        text-align: right;\n",
       "    }\n",
       "</style>\n",
       "<table border=\"1\" class=\"dataframe\">\n",
       "  <thead>\n",
       "    <tr style=\"text-align: right;\">\n",
       "      <th></th>\n",
       "      <th>acousticness</th>\n",
       "      <th>analysis_url</th>\n",
       "      <th>danceability</th>\n",
       "      <th>duration_ms</th>\n",
       "      <th>energy</th>\n",
       "      <th>id</th>\n",
       "      <th>instrumentalness</th>\n",
       "      <th>key</th>\n",
       "      <th>liveness</th>\n",
       "      <th>loudness</th>\n",
       "      <th>mode</th>\n",
       "      <th>speechiness</th>\n",
       "      <th>tempo</th>\n",
       "      <th>time_signature</th>\n",
       "      <th>track_href</th>\n",
       "      <th>type</th>\n",
       "      <th>uri</th>\n",
       "      <th>valence</th>\n",
       "    </tr>\n",
       "  </thead>\n",
       "  <tbody>\n",
       "    <tr>\n",
       "      <th>0</th>\n",
       "      <td>0.24700</td>\n",
       "      <td>https://api.spotify.com/v1/audio-analysis/7ytR...</td>\n",
       "      <td>0.746</td>\n",
       "      <td>181733</td>\n",
       "      <td>0.690</td>\n",
       "      <td>7ytR5pFWmSjzHJIeQkgog4</td>\n",
       "      <td>0.000000</td>\n",
       "      <td>11</td>\n",
       "      <td>0.1010</td>\n",
       "      <td>-7.956</td>\n",
       "      <td>1</td>\n",
       "      <td>0.1640</td>\n",
       "      <td>89.977</td>\n",
       "      <td>4</td>\n",
       "      <td>https://api.spotify.com/v1/tracks/7ytR5pFWmSjz...</td>\n",
       "      <td>audio_features</td>\n",
       "      <td>spotify:track:7ytR5pFWmSjzHJIeQkgog4</td>\n",
       "      <td>0.497</td>\n",
       "    </tr>\n",
       "    <tr>\n",
       "      <th>1</th>\n",
       "      <td>0.23300</td>\n",
       "      <td>https://api.spotify.com/v1/audio-analysis/39Yp...</td>\n",
       "      <td>0.716</td>\n",
       "      <td>165978</td>\n",
       "      <td>0.537</td>\n",
       "      <td>39Yp9wwQiSRIDOvrVg7mbk</td>\n",
       "      <td>0.000000</td>\n",
       "      <td>0</td>\n",
       "      <td>0.1570</td>\n",
       "      <td>-7.648</td>\n",
       "      <td>0</td>\n",
       "      <td>0.0514</td>\n",
       "      <td>129.979</td>\n",
       "      <td>4</td>\n",
       "      <td>https://api.spotify.com/v1/tracks/39Yp9wwQiSRI...</td>\n",
       "      <td>audio_features</td>\n",
       "      <td>spotify:track:39Yp9wwQiSRIDOvrVg7mbk</td>\n",
       "      <td>0.280</td>\n",
       "    </tr>\n",
       "    <tr>\n",
       "      <th>2</th>\n",
       "      <td>0.00146</td>\n",
       "      <td>https://api.spotify.com/v1/audio-analysis/0VjI...</td>\n",
       "      <td>0.514</td>\n",
       "      <td>200040</td>\n",
       "      <td>0.730</td>\n",
       "      <td>0VjIjW4GlUZAMYd2vXMi3b</td>\n",
       "      <td>0.000095</td>\n",
       "      <td>1</td>\n",
       "      <td>0.0897</td>\n",
       "      <td>-5.934</td>\n",
       "      <td>1</td>\n",
       "      <td>0.0598</td>\n",
       "      <td>171.005</td>\n",
       "      <td>4</td>\n",
       "      <td>https://api.spotify.com/v1/tracks/0VjIjW4GlUZA...</td>\n",
       "      <td>audio_features</td>\n",
       "      <td>spotify:track:0VjIjW4GlUZAMYd2vXMi3b</td>\n",
       "      <td>0.334</td>\n",
       "    </tr>\n",
       "    <tr>\n",
       "      <th>3</th>\n",
       "      <td>0.32100</td>\n",
       "      <td>https://api.spotify.com/v1/audio-analysis/127Q...</td>\n",
       "      <td>0.834</td>\n",
       "      <td>247059</td>\n",
       "      <td>0.454</td>\n",
       "      <td>127QTOFJsJQp5LbJbu3A1y</td>\n",
       "      <td>0.000006</td>\n",
       "      <td>1</td>\n",
       "      <td>0.1140</td>\n",
       "      <td>-9.750</td>\n",
       "      <td>0</td>\n",
       "      <td>0.2010</td>\n",
       "      <td>81.618</td>\n",
       "      <td>4</td>\n",
       "      <td>https://api.spotify.com/v1/tracks/127QTOFJsJQp...</td>\n",
       "      <td>audio_features</td>\n",
       "      <td>spotify:track:127QTOFJsJQp5LbJbu3A1y</td>\n",
       "      <td>0.837</td>\n",
       "    </tr>\n",
       "    <tr>\n",
       "      <th>4</th>\n",
       "      <td>0.20700</td>\n",
       "      <td>https://api.spotify.com/v1/audio-analysis/6wJY...</td>\n",
       "      <td>0.774</td>\n",
       "      <td>162547</td>\n",
       "      <td>0.554</td>\n",
       "      <td>6wJYhPfqk3KGhHRG76WzOh</td>\n",
       "      <td>0.000000</td>\n",
       "      <td>0</td>\n",
       "      <td>0.1320</td>\n",
       "      <td>-7.909</td>\n",
       "      <td>1</td>\n",
       "      <td>0.0383</td>\n",
       "      <td>99.034</td>\n",
       "      <td>4</td>\n",
       "      <td>https://api.spotify.com/v1/tracks/6wJYhPfqk3KG...</td>\n",
       "      <td>audio_features</td>\n",
       "      <td>spotify:track:6wJYhPfqk3KGhHRG76WzOh</td>\n",
       "      <td>0.349</td>\n",
       "    </tr>\n",
       "  </tbody>\n",
       "</table>\n",
       "</div>"
      ],
      "text/plain": [
       "   acousticness                                       analysis_url  \\\n",
       "0       0.24700  https://api.spotify.com/v1/audio-analysis/7ytR...   \n",
       "1       0.23300  https://api.spotify.com/v1/audio-analysis/39Yp...   \n",
       "2       0.00146  https://api.spotify.com/v1/audio-analysis/0VjI...   \n",
       "3       0.32100  https://api.spotify.com/v1/audio-analysis/127Q...   \n",
       "4       0.20700  https://api.spotify.com/v1/audio-analysis/6wJY...   \n",
       "\n",
       "   danceability  duration_ms  energy                      id  \\\n",
       "0         0.746       181733   0.690  7ytR5pFWmSjzHJIeQkgog4   \n",
       "1         0.716       165978   0.537  39Yp9wwQiSRIDOvrVg7mbk   \n",
       "2         0.514       200040   0.730  0VjIjW4GlUZAMYd2vXMi3b   \n",
       "3         0.834       247059   0.454  127QTOFJsJQp5LbJbu3A1y   \n",
       "4         0.774       162547   0.554  6wJYhPfqk3KGhHRG76WzOh   \n",
       "\n",
       "   instrumentalness  key  liveness  loudness  mode  speechiness    tempo  \\\n",
       "0          0.000000   11    0.1010    -7.956     1       0.1640   89.977   \n",
       "1          0.000000    0    0.1570    -7.648     0       0.0514  129.979   \n",
       "2          0.000095    1    0.0897    -5.934     1       0.0598  171.005   \n",
       "3          0.000006    1    0.1140    -9.750     0       0.2010   81.618   \n",
       "4          0.000000    0    0.1320    -7.909     1       0.0383   99.034   \n",
       "\n",
       "   time_signature                                         track_href  \\\n",
       "0               4  https://api.spotify.com/v1/tracks/7ytR5pFWmSjz...   \n",
       "1               4  https://api.spotify.com/v1/tracks/39Yp9wwQiSRI...   \n",
       "2               4  https://api.spotify.com/v1/tracks/0VjIjW4GlUZA...   \n",
       "3               4  https://api.spotify.com/v1/tracks/127QTOFJsJQp...   \n",
       "4               4  https://api.spotify.com/v1/tracks/6wJYhPfqk3KG...   \n",
       "\n",
       "             type                                   uri  valence  \n",
       "0  audio_features  spotify:track:7ytR5pFWmSjzHJIeQkgog4    0.497  \n",
       "1  audio_features  spotify:track:39Yp9wwQiSRIDOvrVg7mbk    0.280  \n",
       "2  audio_features  spotify:track:0VjIjW4GlUZAMYd2vXMi3b    0.334  \n",
       "3  audio_features  spotify:track:127QTOFJsJQp5LbJbu3A1y    0.837  \n",
       "4  audio_features  spotify:track:6wJYhPfqk3KGhHRG76WzOh    0.349  "
      ]
     },
     "execution_count": 75,
     "metadata": {},
     "output_type": "execute_result"
    }
   ],
   "source": [
    "# 2020\n",
    "df_audio_features_20 = pd.DataFrame.from_dict(rows_20,orient='columns')\n",
    "print(\"Shape of the 2020 dataset:\", df_audio_features_20.shape)\n",
    "df_audio_features_20.head()"
   ]
  },
  {
   "cell_type": "code",
   "execution_count": 76,
   "metadata": {},
   "outputs": [
    {
     "name": "stdout",
     "output_type": "stream",
     "text": [
      "<class 'pandas.core.frame.DataFrame'>\n",
      "RangeIndex: 1683 entries, 0 to 1682\n",
      "Data columns (total 18 columns):\n",
      "acousticness        1683 non-null float64\n",
      "analysis_url        1683 non-null object\n",
      "danceability        1683 non-null float64\n",
      "duration_ms         1683 non-null int64\n",
      "energy              1683 non-null float64\n",
      "id                  1683 non-null object\n",
      "instrumentalness    1683 non-null float64\n",
      "key                 1683 non-null int64\n",
      "liveness            1683 non-null float64\n",
      "loudness            1683 non-null float64\n",
      "mode                1683 non-null int64\n",
      "speechiness         1683 non-null float64\n",
      "tempo               1683 non-null float64\n",
      "time_signature      1683 non-null int64\n",
      "track_href          1683 non-null object\n",
      "type                1683 non-null object\n",
      "uri                 1683 non-null object\n",
      "valence             1683 non-null float64\n",
      "dtypes: float64(9), int64(4), object(5)\n",
      "memory usage: 236.8+ KB\n"
     ]
    }
   ],
   "source": [
    "df_audio_features_20.info()"
   ]
  },
  {
   "cell_type": "markdown",
   "metadata": {},
   "source": [
    "### Drop the features which we will not be use"
   ]
  },
  {
   "cell_type": "code",
   "execution_count": 77,
   "metadata": {},
   "outputs": [
    {
     "data": {
      "text/plain": [
       "((1943, 14), (1683, 14))"
      ]
     },
     "execution_count": 77,
     "metadata": {},
     "output_type": "execute_result"
    }
   ],
   "source": [
    "columns_to_drop = ['analysis_url','track_href','type','uri']\n",
    "df_audio_features_19.drop(columns_to_drop, axis=1,inplace=True)\n",
    "df_audio_features_20.drop(columns_to_drop, axis=1,inplace=True)\n",
    "\n",
    "\n",
    "df_audio_features_19.rename(columns={'id': 'track_id'}, inplace=True)\n",
    "df_audio_features_20.rename(columns={'id': 'track_id'}, inplace=True)\n",
    "\n",
    "\n",
    "df_audio_features_19.shape, df_audio_features_20.shape"
   ]
  },
  {
   "cell_type": "markdown",
   "metadata": {},
   "source": [
    "#### we ended up with df_tracks_19, df_audio_features_19 and df_tracks_20, df_audio_features_20"
   ]
  },
  {
   "cell_type": "code",
   "execution_count": 78,
   "metadata": {},
   "outputs": [
    {
     "name": "stdout",
     "output_type": "stream",
     "text": [
      "Shape of the 2019 dataset: (1943, 14)\n"
     ]
    },
    {
     "data": {
      "text/html": [
       "<div>\n",
       "<style scoped>\n",
       "    .dataframe tbody tr th:only-of-type {\n",
       "        vertical-align: middle;\n",
       "    }\n",
       "\n",
       "    .dataframe tbody tr th {\n",
       "        vertical-align: top;\n",
       "    }\n",
       "\n",
       "    .dataframe thead th {\n",
       "        text-align: right;\n",
       "    }\n",
       "</style>\n",
       "<table border=\"1\" class=\"dataframe\">\n",
       "  <thead>\n",
       "    <tr style=\"text-align: right;\">\n",
       "      <th></th>\n",
       "      <th>artist_name</th>\n",
       "      <th>track_name</th>\n",
       "      <th>track_id</th>\n",
       "      <th>popularity</th>\n",
       "      <th>acousticness</th>\n",
       "      <th>danceability</th>\n",
       "      <th>duration_ms</th>\n",
       "      <th>energy</th>\n",
       "      <th>instrumentalness</th>\n",
       "      <th>key</th>\n",
       "      <th>liveness</th>\n",
       "      <th>loudness</th>\n",
       "      <th>mode</th>\n",
       "      <th>speechiness</th>\n",
       "      <th>tempo</th>\n",
       "      <th>time_signature</th>\n",
       "      <th>valence</th>\n",
       "    </tr>\n",
       "  </thead>\n",
       "  <tbody>\n",
       "    <tr>\n",
       "      <th>0</th>\n",
       "      <td>Roddy Ricch</td>\n",
       "      <td>The Box</td>\n",
       "      <td>0nbXyq5TXYPCO7pr3N8S4I</td>\n",
       "      <td>97</td>\n",
       "      <td>0.1040</td>\n",
       "      <td>0.896</td>\n",
       "      <td>196653</td>\n",
       "      <td>0.586</td>\n",
       "      <td>0.000000</td>\n",
       "      <td>10</td>\n",
       "      <td>0.7900</td>\n",
       "      <td>-6.687</td>\n",
       "      <td>0</td>\n",
       "      <td>0.0559</td>\n",
       "      <td>116.971</td>\n",
       "      <td>4</td>\n",
       "      <td>0.642</td>\n",
       "    </tr>\n",
       "    <tr>\n",
       "      <th>1</th>\n",
       "      <td>SAINt JHN</td>\n",
       "      <td>Roses - Imanbek Remix</td>\n",
       "      <td>7fPuWrlpwDcHm5aHCH5D9t</td>\n",
       "      <td>87</td>\n",
       "      <td>0.0149</td>\n",
       "      <td>0.784</td>\n",
       "      <td>176219</td>\n",
       "      <td>0.721</td>\n",
       "      <td>0.004240</td>\n",
       "      <td>8</td>\n",
       "      <td>0.2850</td>\n",
       "      <td>-5.457</td>\n",
       "      <td>1</td>\n",
       "      <td>0.0506</td>\n",
       "      <td>121.966</td>\n",
       "      <td>4</td>\n",
       "      <td>0.895</td>\n",
       "    </tr>\n",
       "    <tr>\n",
       "      <th>2</th>\n",
       "      <td>Doja Cat</td>\n",
       "      <td>Say So</td>\n",
       "      <td>3Dv1eDb0MEgF93GpLXlucZ</td>\n",
       "      <td>95</td>\n",
       "      <td>0.2560</td>\n",
       "      <td>0.787</td>\n",
       "      <td>237893</td>\n",
       "      <td>0.673</td>\n",
       "      <td>0.000004</td>\n",
       "      <td>11</td>\n",
       "      <td>0.0904</td>\n",
       "      <td>-4.577</td>\n",
       "      <td>0</td>\n",
       "      <td>0.1580</td>\n",
       "      <td>110.962</td>\n",
       "      <td>4</td>\n",
       "      <td>0.786</td>\n",
       "    </tr>\n",
       "    <tr>\n",
       "      <th>3</th>\n",
       "      <td>Post Malone</td>\n",
       "      <td>Circles</td>\n",
       "      <td>21jGcNKet2qwijlDFuPiPb</td>\n",
       "      <td>93</td>\n",
       "      <td>0.1920</td>\n",
       "      <td>0.695</td>\n",
       "      <td>215280</td>\n",
       "      <td>0.762</td>\n",
       "      <td>0.002440</td>\n",
       "      <td>0</td>\n",
       "      <td>0.0863</td>\n",
       "      <td>-3.497</td>\n",
       "      <td>1</td>\n",
       "      <td>0.0395</td>\n",
       "      <td>120.042</td>\n",
       "      <td>4</td>\n",
       "      <td>0.553</td>\n",
       "    </tr>\n",
       "    <tr>\n",
       "      <th>4</th>\n",
       "      <td>Surfaces</td>\n",
       "      <td>Sunday Best</td>\n",
       "      <td>1Cv1YLb4q0RzL6pybtaMLo</td>\n",
       "      <td>94</td>\n",
       "      <td>0.1830</td>\n",
       "      <td>0.878</td>\n",
       "      <td>158571</td>\n",
       "      <td>0.525</td>\n",
       "      <td>0.000000</td>\n",
       "      <td>5</td>\n",
       "      <td>0.0714</td>\n",
       "      <td>-6.832</td>\n",
       "      <td>1</td>\n",
       "      <td>0.0578</td>\n",
       "      <td>112.022</td>\n",
       "      <td>4</td>\n",
       "      <td>0.694</td>\n",
       "    </tr>\n",
       "  </tbody>\n",
       "</table>\n",
       "</div>"
      ],
      "text/plain": [
       "   artist_name             track_name                track_id  popularity  \\\n",
       "0  Roddy Ricch                The Box  0nbXyq5TXYPCO7pr3N8S4I          97   \n",
       "1    SAINt JHN  Roses - Imanbek Remix  7fPuWrlpwDcHm5aHCH5D9t          87   \n",
       "2     Doja Cat                 Say So  3Dv1eDb0MEgF93GpLXlucZ          95   \n",
       "3  Post Malone                Circles  21jGcNKet2qwijlDFuPiPb          93   \n",
       "4     Surfaces            Sunday Best  1Cv1YLb4q0RzL6pybtaMLo          94   \n",
       "\n",
       "   acousticness  danceability  duration_ms  energy  instrumentalness  key  \\\n",
       "0        0.1040         0.896       196653   0.586          0.000000   10   \n",
       "1        0.0149         0.784       176219   0.721          0.004240    8   \n",
       "2        0.2560         0.787       237893   0.673          0.000004   11   \n",
       "3        0.1920         0.695       215280   0.762          0.002440    0   \n",
       "4        0.1830         0.878       158571   0.525          0.000000    5   \n",
       "\n",
       "   liveness  loudness  mode  speechiness    tempo  time_signature  valence  \n",
       "0    0.7900    -6.687     0       0.0559  116.971               4    0.642  \n",
       "1    0.2850    -5.457     1       0.0506  121.966               4    0.895  \n",
       "2    0.0904    -4.577     0       0.1580  110.962               4    0.786  \n",
       "3    0.0863    -3.497     1       0.0395  120.042               4    0.553  \n",
       "4    0.0714    -6.832     1       0.0578  112.022               4    0.694  "
      ]
     },
     "execution_count": 78,
     "metadata": {},
     "output_type": "execute_result"
    }
   ],
   "source": [
    "# merge both dataframes\n",
    "# the 'inner' method will make sure that we only keep track IDs present in both datasets\n",
    "df_19 = pd.merge(df_tracks_19,df_audio_features_19,on='track_id',how='inner')\n",
    "print(\"Shape of the 2019 dataset:\", df_audio_features_19.shape)\n",
    "df_19.head()"
   ]
  },
  {
   "cell_type": "code",
   "execution_count": 79,
   "metadata": {},
   "outputs": [
    {
     "name": "stdout",
     "output_type": "stream",
     "text": [
      "Shape of the 2019 dataset: (1683, 14)\n"
     ]
    },
    {
     "data": {
      "text/html": [
       "<div>\n",
       "<style scoped>\n",
       "    .dataframe tbody tr th:only-of-type {\n",
       "        vertical-align: middle;\n",
       "    }\n",
       "\n",
       "    .dataframe tbody tr th {\n",
       "        vertical-align: top;\n",
       "    }\n",
       "\n",
       "    .dataframe thead th {\n",
       "        text-align: right;\n",
       "    }\n",
       "</style>\n",
       "<table border=\"1\" class=\"dataframe\">\n",
       "  <thead>\n",
       "    <tr style=\"text-align: right;\">\n",
       "      <th></th>\n",
       "      <th>artist_name</th>\n",
       "      <th>track_name</th>\n",
       "      <th>track_id</th>\n",
       "      <th>popularity</th>\n",
       "      <th>acousticness</th>\n",
       "      <th>danceability</th>\n",
       "      <th>duration_ms</th>\n",
       "      <th>energy</th>\n",
       "      <th>instrumentalness</th>\n",
       "      <th>key</th>\n",
       "      <th>liveness</th>\n",
       "      <th>loudness</th>\n",
       "      <th>mode</th>\n",
       "      <th>speechiness</th>\n",
       "      <th>tempo</th>\n",
       "      <th>time_signature</th>\n",
       "      <th>valence</th>\n",
       "    </tr>\n",
       "  </thead>\n",
       "  <tbody>\n",
       "    <tr>\n",
       "      <th>0</th>\n",
       "      <td>DaBaby</td>\n",
       "      <td>ROCKSTAR (feat. Roddy Ricch)</td>\n",
       "      <td>7ytR5pFWmSjzHJIeQkgog4</td>\n",
       "      <td>96</td>\n",
       "      <td>0.24700</td>\n",
       "      <td>0.746</td>\n",
       "      <td>181733</td>\n",
       "      <td>0.690</td>\n",
       "      <td>0.000000</td>\n",
       "      <td>11</td>\n",
       "      <td>0.1010</td>\n",
       "      <td>-7.956</td>\n",
       "      <td>1</td>\n",
       "      <td>0.1640</td>\n",
       "      <td>89.977</td>\n",
       "      <td>4</td>\n",
       "      <td>0.497</td>\n",
       "    </tr>\n",
       "    <tr>\n",
       "      <th>1</th>\n",
       "      <td>THE SCOTTS</td>\n",
       "      <td>THE SCOTTS</td>\n",
       "      <td>39Yp9wwQiSRIDOvrVg7mbk</td>\n",
       "      <td>97</td>\n",
       "      <td>0.23300</td>\n",
       "      <td>0.716</td>\n",
       "      <td>165978</td>\n",
       "      <td>0.537</td>\n",
       "      <td>0.000000</td>\n",
       "      <td>0</td>\n",
       "      <td>0.1570</td>\n",
       "      <td>-7.648</td>\n",
       "      <td>0</td>\n",
       "      <td>0.0514</td>\n",
       "      <td>129.979</td>\n",
       "      <td>4</td>\n",
       "      <td>0.280</td>\n",
       "    </tr>\n",
       "    <tr>\n",
       "      <th>2</th>\n",
       "      <td>The Weeknd</td>\n",
       "      <td>Blinding Lights</td>\n",
       "      <td>0VjIjW4GlUZAMYd2vXMi3b</td>\n",
       "      <td>100</td>\n",
       "      <td>0.00146</td>\n",
       "      <td>0.514</td>\n",
       "      <td>200040</td>\n",
       "      <td>0.730</td>\n",
       "      <td>0.000095</td>\n",
       "      <td>1</td>\n",
       "      <td>0.0897</td>\n",
       "      <td>-5.934</td>\n",
       "      <td>1</td>\n",
       "      <td>0.0598</td>\n",
       "      <td>171.005</td>\n",
       "      <td>4</td>\n",
       "      <td>0.334</td>\n",
       "    </tr>\n",
       "    <tr>\n",
       "      <th>3</th>\n",
       "      <td>Drake</td>\n",
       "      <td>Toosie Slide</td>\n",
       "      <td>127QTOFJsJQp5LbJbu3A1y</td>\n",
       "      <td>97</td>\n",
       "      <td>0.32100</td>\n",
       "      <td>0.834</td>\n",
       "      <td>247059</td>\n",
       "      <td>0.454</td>\n",
       "      <td>0.000006</td>\n",
       "      <td>1</td>\n",
       "      <td>0.1140</td>\n",
       "      <td>-9.750</td>\n",
       "      <td>0</td>\n",
       "      <td>0.2010</td>\n",
       "      <td>81.618</td>\n",
       "      <td>4</td>\n",
       "      <td>0.837</td>\n",
       "    </tr>\n",
       "    <tr>\n",
       "      <th>4</th>\n",
       "      <td>Lil Mosey</td>\n",
       "      <td>Blueberry Faygo</td>\n",
       "      <td>6wJYhPfqk3KGhHRG76WzOh</td>\n",
       "      <td>93</td>\n",
       "      <td>0.20700</td>\n",
       "      <td>0.774</td>\n",
       "      <td>162547</td>\n",
       "      <td>0.554</td>\n",
       "      <td>0.000000</td>\n",
       "      <td>0</td>\n",
       "      <td>0.1320</td>\n",
       "      <td>-7.909</td>\n",
       "      <td>1</td>\n",
       "      <td>0.0383</td>\n",
       "      <td>99.034</td>\n",
       "      <td>4</td>\n",
       "      <td>0.349</td>\n",
       "    </tr>\n",
       "  </tbody>\n",
       "</table>\n",
       "</div>"
      ],
      "text/plain": [
       "  artist_name                    track_name                track_id  \\\n",
       "0      DaBaby  ROCKSTAR (feat. Roddy Ricch)  7ytR5pFWmSjzHJIeQkgog4   \n",
       "1  THE SCOTTS                    THE SCOTTS  39Yp9wwQiSRIDOvrVg7mbk   \n",
       "2  The Weeknd               Blinding Lights  0VjIjW4GlUZAMYd2vXMi3b   \n",
       "3       Drake                  Toosie Slide  127QTOFJsJQp5LbJbu3A1y   \n",
       "4   Lil Mosey               Blueberry Faygo  6wJYhPfqk3KGhHRG76WzOh   \n",
       "\n",
       "   popularity  acousticness  danceability  duration_ms  energy  \\\n",
       "0          96       0.24700         0.746       181733   0.690   \n",
       "1          97       0.23300         0.716       165978   0.537   \n",
       "2         100       0.00146         0.514       200040   0.730   \n",
       "3          97       0.32100         0.834       247059   0.454   \n",
       "4          93       0.20700         0.774       162547   0.554   \n",
       "\n",
       "   instrumentalness  key  liveness  loudness  mode  speechiness    tempo  \\\n",
       "0          0.000000   11    0.1010    -7.956     1       0.1640   89.977   \n",
       "1          0.000000    0    0.1570    -7.648     0       0.0514  129.979   \n",
       "2          0.000095    1    0.0897    -5.934     1       0.0598  171.005   \n",
       "3          0.000006    1    0.1140    -9.750     0       0.2010   81.618   \n",
       "4          0.000000    0    0.1320    -7.909     1       0.0383   99.034   \n",
       "\n",
       "   time_signature  valence  \n",
       "0               4    0.497  \n",
       "1               4    0.280  \n",
       "2               4    0.334  \n",
       "3               4    0.837  \n",
       "4               4    0.349  "
      ]
     },
     "execution_count": 79,
     "metadata": {},
     "output_type": "execute_result"
    }
   ],
   "source": [
    "df_20 = pd.merge(df_tracks_20,df_audio_features_20,on='track_id',how='inner')\n",
    "print(\"Shape of the 2019 dataset:\", df_audio_features_20.shape)\n",
    "df_20.head()"
   ]
  },
  {
   "cell_type": "code",
   "execution_count": 81,
   "metadata": {},
   "outputs": [
    {
     "name": "stdout",
     "output_type": "stream",
     "text": [
      "<class 'pandas.core.frame.DataFrame'>\n",
      "Int64Index: 1943 entries, 0 to 1942\n",
      "Data columns (total 17 columns):\n",
      "artist_name         1943 non-null object\n",
      "track_name          1943 non-null object\n",
      "track_id            1943 non-null object\n",
      "popularity          1943 non-null int64\n",
      "acousticness        1943 non-null float64\n",
      "danceability        1943 non-null float64\n",
      "duration_ms         1943 non-null int64\n",
      "energy              1943 non-null float64\n",
      "instrumentalness    1943 non-null float64\n",
      "key                 1943 non-null int64\n",
      "liveness            1943 non-null float64\n",
      "loudness            1943 non-null float64\n",
      "mode                1943 non-null int64\n",
      "speechiness         1943 non-null float64\n",
      "tempo               1943 non-null float64\n",
      "time_signature      1943 non-null int64\n",
      "valence             1943 non-null float64\n",
      "dtypes: float64(9), int64(5), object(3)\n",
      "memory usage: 273.2+ KB\n",
      "\n",
      "\n",
      "<class 'pandas.core.frame.DataFrame'>\n",
      "Int64Index: 1683 entries, 0 to 1682\n",
      "Data columns (total 17 columns):\n",
      "artist_name         1683 non-null object\n",
      "track_name          1683 non-null object\n",
      "track_id            1683 non-null object\n",
      "popularity          1683 non-null int64\n",
      "acousticness        1683 non-null float64\n",
      "danceability        1683 non-null float64\n",
      "duration_ms         1683 non-null int64\n",
      "energy              1683 non-null float64\n",
      "instrumentalness    1683 non-null float64\n",
      "key                 1683 non-null int64\n",
      "liveness            1683 non-null float64\n",
      "loudness            1683 non-null float64\n",
      "mode                1683 non-null int64\n",
      "speechiness         1683 non-null float64\n",
      "tempo               1683 non-null float64\n",
      "time_signature      1683 non-null int64\n",
      "valence             1683 non-null float64\n",
      "dtypes: float64(9), int64(5), object(3)\n",
      "memory usage: 236.7+ KB\n"
     ]
    }
   ],
   "source": [
    "df_19.info()\n",
    "print('\\n')\n",
    "df_20.info()"
   ]
  },
  {
   "cell_type": "markdown",
   "metadata": {},
   "source": [
    "### check for duplicates"
   ]
  },
  {
   "cell_type": "code",
   "execution_count": 82,
   "metadata": {},
   "outputs": [
    {
     "data": {
      "text/html": [
       "<div>\n",
       "<style scoped>\n",
       "    .dataframe tbody tr th:only-of-type {\n",
       "        vertical-align: middle;\n",
       "    }\n",
       "\n",
       "    .dataframe tbody tr th {\n",
       "        vertical-align: top;\n",
       "    }\n",
       "\n",
       "    .dataframe thead th {\n",
       "        text-align: right;\n",
       "    }\n",
       "</style>\n",
       "<table border=\"1\" class=\"dataframe\">\n",
       "  <thead>\n",
       "    <tr style=\"text-align: right;\">\n",
       "      <th></th>\n",
       "      <th>artist_name</th>\n",
       "      <th>track_name</th>\n",
       "      <th>track_id</th>\n",
       "      <th>popularity</th>\n",
       "      <th>acousticness</th>\n",
       "      <th>danceability</th>\n",
       "      <th>duration_ms</th>\n",
       "      <th>energy</th>\n",
       "      <th>instrumentalness</th>\n",
       "      <th>key</th>\n",
       "      <th>liveness</th>\n",
       "      <th>loudness</th>\n",
       "      <th>mode</th>\n",
       "      <th>speechiness</th>\n",
       "      <th>tempo</th>\n",
       "      <th>time_signature</th>\n",
       "      <th>valence</th>\n",
       "    </tr>\n",
       "  </thead>\n",
       "  <tbody>\n",
       "  </tbody>\n",
       "</table>\n",
       "</div>"
      ],
      "text/plain": [
       "Empty DataFrame\n",
       "Columns: [artist_name, track_name, track_id, popularity, acousticness, danceability, duration_ms, energy, instrumentalness, key, liveness, loudness, mode, speechiness, tempo, time_signature, valence]\n",
       "Index: []"
      ]
     },
     "execution_count": 82,
     "metadata": {},
     "output_type": "execute_result"
    }
   ],
   "source": [
    "df_19[df_19.duplicated(subset=['artist_name','track_name'],keep=False)]"
   ]
  },
  {
   "cell_type": "code",
   "execution_count": 83,
   "metadata": {},
   "outputs": [
    {
     "data": {
      "text/html": [
       "<div>\n",
       "<style scoped>\n",
       "    .dataframe tbody tr th:only-of-type {\n",
       "        vertical-align: middle;\n",
       "    }\n",
       "\n",
       "    .dataframe tbody tr th {\n",
       "        vertical-align: top;\n",
       "    }\n",
       "\n",
       "    .dataframe thead th {\n",
       "        text-align: right;\n",
       "    }\n",
       "</style>\n",
       "<table border=\"1\" class=\"dataframe\">\n",
       "  <thead>\n",
       "    <tr style=\"text-align: right;\">\n",
       "      <th></th>\n",
       "      <th>artist_name</th>\n",
       "      <th>track_name</th>\n",
       "      <th>track_id</th>\n",
       "      <th>popularity</th>\n",
       "      <th>acousticness</th>\n",
       "      <th>danceability</th>\n",
       "      <th>duration_ms</th>\n",
       "      <th>energy</th>\n",
       "      <th>instrumentalness</th>\n",
       "      <th>key</th>\n",
       "      <th>liveness</th>\n",
       "      <th>loudness</th>\n",
       "      <th>mode</th>\n",
       "      <th>speechiness</th>\n",
       "      <th>tempo</th>\n",
       "      <th>time_signature</th>\n",
       "      <th>valence</th>\n",
       "    </tr>\n",
       "  </thead>\n",
       "  <tbody>\n",
       "  </tbody>\n",
       "</table>\n",
       "</div>"
      ],
      "text/plain": [
       "Empty DataFrame\n",
       "Columns: [artist_name, track_name, track_id, popularity, acousticness, danceability, duration_ms, energy, instrumentalness, key, liveness, loudness, mode, speechiness, tempo, time_signature, valence]\n",
       "Index: []"
      ]
     },
     "execution_count": 83,
     "metadata": {},
     "output_type": "execute_result"
    }
   ],
   "source": [
    "df_20[df_20.duplicated(subset=['artist_name','track_name'],keep=False)]"
   ]
  },
  {
   "cell_type": "markdown",
   "metadata": {},
   "source": [
    "### Now we can create the .csv files for both dataframes"
   ]
  },
  {
   "cell_type": "code",
   "execution_count": 84,
   "metadata": {},
   "outputs": [],
   "source": [
    "df_19.to_csv('Spotify2019.csv')"
   ]
  },
  {
   "cell_type": "code",
   "execution_count": 85,
   "metadata": {},
   "outputs": [],
   "source": [
    "df_20.to_csv('Spotify2020.csv')"
   ]
  },
  {
   "cell_type": "code",
   "execution_count": 88,
   "metadata": {},
   "outputs": [
    {
     "data": {
      "text/plain": [
       "((232725, 18), (1943, 17), (1683, 17))"
      ]
     },
     "execution_count": 88,
     "metadata": {},
     "output_type": "execute_result"
    }
   ],
   "source": [
    "df.shape, df_19.shape, df_20.shape"
   ]
  },
  {
   "cell_type": "markdown",
   "metadata": {},
   "source": [
    "### It's time to merge the dataset together"
   ]
  },
  {
   "cell_type": "code",
   "execution_count": 89,
   "metadata": {},
   "outputs": [
    {
     "data": {
      "text/html": [
       "<div>\n",
       "<style scoped>\n",
       "    .dataframe tbody tr th:only-of-type {\n",
       "        vertical-align: middle;\n",
       "    }\n",
       "\n",
       "    .dataframe tbody tr th {\n",
       "        vertical-align: top;\n",
       "    }\n",
       "\n",
       "    .dataframe thead th {\n",
       "        text-align: right;\n",
       "    }\n",
       "</style>\n",
       "<table border=\"1\" class=\"dataframe\">\n",
       "  <thead>\n",
       "    <tr style=\"text-align: right;\">\n",
       "      <th></th>\n",
       "      <th>genre</th>\n",
       "      <th>artist_name</th>\n",
       "      <th>track_name</th>\n",
       "      <th>track_id</th>\n",
       "      <th>popularity</th>\n",
       "      <th>acousticness</th>\n",
       "      <th>danceability</th>\n",
       "      <th>duration_ms</th>\n",
       "      <th>energy</th>\n",
       "      <th>instrumentalness</th>\n",
       "      <th>key</th>\n",
       "      <th>liveness</th>\n",
       "      <th>loudness</th>\n",
       "      <th>mode</th>\n",
       "      <th>speechiness</th>\n",
       "      <th>tempo</th>\n",
       "      <th>time_signature</th>\n",
       "      <th>valence</th>\n",
       "    </tr>\n",
       "  </thead>\n",
       "  <tbody>\n",
       "    <tr>\n",
       "      <th>0</th>\n",
       "      <td>Movie</td>\n",
       "      <td>Henri Salvador</td>\n",
       "      <td>C'est beau de faire un Show</td>\n",
       "      <td>0BRjO6ga9RKCKjfDqeFgWV</td>\n",
       "      <td>0</td>\n",
       "      <td>0.611</td>\n",
       "      <td>0.389</td>\n",
       "      <td>99373</td>\n",
       "      <td>0.910</td>\n",
       "      <td>0.000</td>\n",
       "      <td>C#</td>\n",
       "      <td>0.3460</td>\n",
       "      <td>-1.828</td>\n",
       "      <td>Major</td>\n",
       "      <td>0.0525</td>\n",
       "      <td>166.969</td>\n",
       "      <td>4/4</td>\n",
       "      <td>0.814</td>\n",
       "    </tr>\n",
       "    <tr>\n",
       "      <th>1</th>\n",
       "      <td>Movie</td>\n",
       "      <td>Martin &amp; les fées</td>\n",
       "      <td>Perdu d'avance (par Gad Elmaleh)</td>\n",
       "      <td>0BjC1NfoEOOusryehmNudP</td>\n",
       "      <td>1</td>\n",
       "      <td>0.246</td>\n",
       "      <td>0.590</td>\n",
       "      <td>137373</td>\n",
       "      <td>0.737</td>\n",
       "      <td>0.000</td>\n",
       "      <td>F#</td>\n",
       "      <td>0.1510</td>\n",
       "      <td>-5.559</td>\n",
       "      <td>Minor</td>\n",
       "      <td>0.0868</td>\n",
       "      <td>174.003</td>\n",
       "      <td>4/4</td>\n",
       "      <td>0.816</td>\n",
       "    </tr>\n",
       "    <tr>\n",
       "      <th>2</th>\n",
       "      <td>Movie</td>\n",
       "      <td>Joseph Williams</td>\n",
       "      <td>Don't Let Me Be Lonely Tonight</td>\n",
       "      <td>0CoSDzoNIKCRs124s9uTVy</td>\n",
       "      <td>3</td>\n",
       "      <td>0.952</td>\n",
       "      <td>0.663</td>\n",
       "      <td>170267</td>\n",
       "      <td>0.131</td>\n",
       "      <td>0.000</td>\n",
       "      <td>C</td>\n",
       "      <td>0.1030</td>\n",
       "      <td>-13.879</td>\n",
       "      <td>Minor</td>\n",
       "      <td>0.0362</td>\n",
       "      <td>99.488</td>\n",
       "      <td>5/4</td>\n",
       "      <td>0.368</td>\n",
       "    </tr>\n",
       "    <tr>\n",
       "      <th>3</th>\n",
       "      <td>Movie</td>\n",
       "      <td>Henri Salvador</td>\n",
       "      <td>Dis-moi Monsieur Gordon Cooper</td>\n",
       "      <td>0Gc6TVm52BwZD07Ki6tIvf</td>\n",
       "      <td>0</td>\n",
       "      <td>0.703</td>\n",
       "      <td>0.240</td>\n",
       "      <td>152427</td>\n",
       "      <td>0.326</td>\n",
       "      <td>0.000</td>\n",
       "      <td>C#</td>\n",
       "      <td>0.0985</td>\n",
       "      <td>-12.178</td>\n",
       "      <td>Major</td>\n",
       "      <td>0.0395</td>\n",
       "      <td>171.758</td>\n",
       "      <td>4/4</td>\n",
       "      <td>0.227</td>\n",
       "    </tr>\n",
       "    <tr>\n",
       "      <th>4</th>\n",
       "      <td>Movie</td>\n",
       "      <td>Fabien Nataf</td>\n",
       "      <td>Ouverture</td>\n",
       "      <td>0IuslXpMROHdEPvSl1fTQK</td>\n",
       "      <td>4</td>\n",
       "      <td>0.950</td>\n",
       "      <td>0.331</td>\n",
       "      <td>82625</td>\n",
       "      <td>0.225</td>\n",
       "      <td>0.123</td>\n",
       "      <td>F</td>\n",
       "      <td>0.2020</td>\n",
       "      <td>-21.150</td>\n",
       "      <td>Major</td>\n",
       "      <td>0.0456</td>\n",
       "      <td>140.576</td>\n",
       "      <td>4/4</td>\n",
       "      <td>0.390</td>\n",
       "    </tr>\n",
       "  </tbody>\n",
       "</table>\n",
       "</div>"
      ],
      "text/plain": [
       "   genre        artist_name                        track_name  \\\n",
       "0  Movie     Henri Salvador       C'est beau de faire un Show   \n",
       "1  Movie  Martin & les fées  Perdu d'avance (par Gad Elmaleh)   \n",
       "2  Movie    Joseph Williams    Don't Let Me Be Lonely Tonight   \n",
       "3  Movie     Henri Salvador    Dis-moi Monsieur Gordon Cooper   \n",
       "4  Movie       Fabien Nataf                         Ouverture   \n",
       "\n",
       "                 track_id  popularity  acousticness  danceability  \\\n",
       "0  0BRjO6ga9RKCKjfDqeFgWV           0         0.611         0.389   \n",
       "1  0BjC1NfoEOOusryehmNudP           1         0.246         0.590   \n",
       "2  0CoSDzoNIKCRs124s9uTVy           3         0.952         0.663   \n",
       "3  0Gc6TVm52BwZD07Ki6tIvf           0         0.703         0.240   \n",
       "4  0IuslXpMROHdEPvSl1fTQK           4         0.950         0.331   \n",
       "\n",
       "   duration_ms  energy  instrumentalness key  liveness  loudness   mode  \\\n",
       "0        99373   0.910             0.000  C#    0.3460    -1.828  Major   \n",
       "1       137373   0.737             0.000  F#    0.1510    -5.559  Minor   \n",
       "2       170267   0.131             0.000   C    0.1030   -13.879  Minor   \n",
       "3       152427   0.326             0.000  C#    0.0985   -12.178  Major   \n",
       "4        82625   0.225             0.123   F    0.2020   -21.150  Major   \n",
       "\n",
       "   speechiness    tempo time_signature  valence  \n",
       "0       0.0525  166.969            4/4    0.814  \n",
       "1       0.0868  174.003            4/4    0.816  \n",
       "2       0.0362   99.488            5/4    0.368  \n",
       "3       0.0395  171.758            4/4    0.227  \n",
       "4       0.0456  140.576            4/4    0.390  "
      ]
     },
     "execution_count": 89,
     "metadata": {},
     "output_type": "execute_result"
    }
   ],
   "source": [
    "df.head()"
   ]
  },
  {
   "cell_type": "markdown",
   "metadata": {},
   "source": [
    "#### Drop 'genre' column from df, we'll not be using it"
   ]
  },
  {
   "cell_type": "code",
   "execution_count": 91,
   "metadata": {},
   "outputs": [],
   "source": [
    "df = df.drop(columns=['genre'])"
   ]
  },
  {
   "cell_type": "code",
   "execution_count": 92,
   "metadata": {},
   "outputs": [
    {
     "data": {
      "text/html": [
       "<div>\n",
       "<style scoped>\n",
       "    .dataframe tbody tr th:only-of-type {\n",
       "        vertical-align: middle;\n",
       "    }\n",
       "\n",
       "    .dataframe tbody tr th {\n",
       "        vertical-align: top;\n",
       "    }\n",
       "\n",
       "    .dataframe thead th {\n",
       "        text-align: right;\n",
       "    }\n",
       "</style>\n",
       "<table border=\"1\" class=\"dataframe\">\n",
       "  <thead>\n",
       "    <tr style=\"text-align: right;\">\n",
       "      <th></th>\n",
       "      <th>artist_name</th>\n",
       "      <th>track_name</th>\n",
       "      <th>track_id</th>\n",
       "      <th>popularity</th>\n",
       "      <th>acousticness</th>\n",
       "      <th>danceability</th>\n",
       "      <th>duration_ms</th>\n",
       "      <th>energy</th>\n",
       "      <th>instrumentalness</th>\n",
       "      <th>key</th>\n",
       "      <th>liveness</th>\n",
       "      <th>loudness</th>\n",
       "      <th>mode</th>\n",
       "      <th>speechiness</th>\n",
       "      <th>tempo</th>\n",
       "      <th>time_signature</th>\n",
       "      <th>valence</th>\n",
       "    </tr>\n",
       "  </thead>\n",
       "  <tbody>\n",
       "    <tr>\n",
       "      <th>0</th>\n",
       "      <td>Henri Salvador</td>\n",
       "      <td>C'est beau de faire un Show</td>\n",
       "      <td>0BRjO6ga9RKCKjfDqeFgWV</td>\n",
       "      <td>0</td>\n",
       "      <td>0.611</td>\n",
       "      <td>0.389</td>\n",
       "      <td>99373</td>\n",
       "      <td>0.910</td>\n",
       "      <td>0.000</td>\n",
       "      <td>C#</td>\n",
       "      <td>0.3460</td>\n",
       "      <td>-1.828</td>\n",
       "      <td>Major</td>\n",
       "      <td>0.0525</td>\n",
       "      <td>166.969</td>\n",
       "      <td>4/4</td>\n",
       "      <td>0.814</td>\n",
       "    </tr>\n",
       "    <tr>\n",
       "      <th>1</th>\n",
       "      <td>Martin &amp; les fées</td>\n",
       "      <td>Perdu d'avance (par Gad Elmaleh)</td>\n",
       "      <td>0BjC1NfoEOOusryehmNudP</td>\n",
       "      <td>1</td>\n",
       "      <td>0.246</td>\n",
       "      <td>0.590</td>\n",
       "      <td>137373</td>\n",
       "      <td>0.737</td>\n",
       "      <td>0.000</td>\n",
       "      <td>F#</td>\n",
       "      <td>0.1510</td>\n",
       "      <td>-5.559</td>\n",
       "      <td>Minor</td>\n",
       "      <td>0.0868</td>\n",
       "      <td>174.003</td>\n",
       "      <td>4/4</td>\n",
       "      <td>0.816</td>\n",
       "    </tr>\n",
       "    <tr>\n",
       "      <th>2</th>\n",
       "      <td>Joseph Williams</td>\n",
       "      <td>Don't Let Me Be Lonely Tonight</td>\n",
       "      <td>0CoSDzoNIKCRs124s9uTVy</td>\n",
       "      <td>3</td>\n",
       "      <td>0.952</td>\n",
       "      <td>0.663</td>\n",
       "      <td>170267</td>\n",
       "      <td>0.131</td>\n",
       "      <td>0.000</td>\n",
       "      <td>C</td>\n",
       "      <td>0.1030</td>\n",
       "      <td>-13.879</td>\n",
       "      <td>Minor</td>\n",
       "      <td>0.0362</td>\n",
       "      <td>99.488</td>\n",
       "      <td>5/4</td>\n",
       "      <td>0.368</td>\n",
       "    </tr>\n",
       "    <tr>\n",
       "      <th>3</th>\n",
       "      <td>Henri Salvador</td>\n",
       "      <td>Dis-moi Monsieur Gordon Cooper</td>\n",
       "      <td>0Gc6TVm52BwZD07Ki6tIvf</td>\n",
       "      <td>0</td>\n",
       "      <td>0.703</td>\n",
       "      <td>0.240</td>\n",
       "      <td>152427</td>\n",
       "      <td>0.326</td>\n",
       "      <td>0.000</td>\n",
       "      <td>C#</td>\n",
       "      <td>0.0985</td>\n",
       "      <td>-12.178</td>\n",
       "      <td>Major</td>\n",
       "      <td>0.0395</td>\n",
       "      <td>171.758</td>\n",
       "      <td>4/4</td>\n",
       "      <td>0.227</td>\n",
       "    </tr>\n",
       "    <tr>\n",
       "      <th>4</th>\n",
       "      <td>Fabien Nataf</td>\n",
       "      <td>Ouverture</td>\n",
       "      <td>0IuslXpMROHdEPvSl1fTQK</td>\n",
       "      <td>4</td>\n",
       "      <td>0.950</td>\n",
       "      <td>0.331</td>\n",
       "      <td>82625</td>\n",
       "      <td>0.225</td>\n",
       "      <td>0.123</td>\n",
       "      <td>F</td>\n",
       "      <td>0.2020</td>\n",
       "      <td>-21.150</td>\n",
       "      <td>Major</td>\n",
       "      <td>0.0456</td>\n",
       "      <td>140.576</td>\n",
       "      <td>4/4</td>\n",
       "      <td>0.390</td>\n",
       "    </tr>\n",
       "  </tbody>\n",
       "</table>\n",
       "</div>"
      ],
      "text/plain": [
       "         artist_name                        track_name  \\\n",
       "0     Henri Salvador       C'est beau de faire un Show   \n",
       "1  Martin & les fées  Perdu d'avance (par Gad Elmaleh)   \n",
       "2    Joseph Williams    Don't Let Me Be Lonely Tonight   \n",
       "3     Henri Salvador    Dis-moi Monsieur Gordon Cooper   \n",
       "4       Fabien Nataf                         Ouverture   \n",
       "\n",
       "                 track_id  popularity  acousticness  danceability  \\\n",
       "0  0BRjO6ga9RKCKjfDqeFgWV           0         0.611         0.389   \n",
       "1  0BjC1NfoEOOusryehmNudP           1         0.246         0.590   \n",
       "2  0CoSDzoNIKCRs124s9uTVy           3         0.952         0.663   \n",
       "3  0Gc6TVm52BwZD07Ki6tIvf           0         0.703         0.240   \n",
       "4  0IuslXpMROHdEPvSl1fTQK           4         0.950         0.331   \n",
       "\n",
       "   duration_ms  energy  instrumentalness key  liveness  loudness   mode  \\\n",
       "0        99373   0.910             0.000  C#    0.3460    -1.828  Major   \n",
       "1       137373   0.737             0.000  F#    0.1510    -5.559  Minor   \n",
       "2       170267   0.131             0.000   C    0.1030   -13.879  Minor   \n",
       "3       152427   0.326             0.000  C#    0.0985   -12.178  Major   \n",
       "4        82625   0.225             0.123   F    0.2020   -21.150  Major   \n",
       "\n",
       "   speechiness    tempo time_signature  valence  \n",
       "0       0.0525  166.969            4/4    0.814  \n",
       "1       0.0868  174.003            4/4    0.816  \n",
       "2       0.0362   99.488            5/4    0.368  \n",
       "3       0.0395  171.758            4/4    0.227  \n",
       "4       0.0456  140.576            4/4    0.390  "
      ]
     },
     "execution_count": 92,
     "metadata": {},
     "output_type": "execute_result"
    }
   ],
   "source": [
    "df.head()"
   ]
  },
  {
   "cell_type": "markdown",
   "metadata": {},
   "source": [
    "### Concat all three datasets to get a single .csv file"
   ]
  },
  {
   "cell_type": "code",
   "execution_count": 120,
   "metadata": {},
   "outputs": [],
   "source": [
    "df_final = pd.concat([df, df_19, df_20], ignore_index=True)"
   ]
  },
  {
   "cell_type": "code",
   "execution_count": 121,
   "metadata": {},
   "outputs": [
    {
     "name": "stdout",
     "output_type": "stream",
     "text": [
      "(236351, 17)\n"
     ]
    },
    {
     "data": {
      "text/html": [
       "<div>\n",
       "<style scoped>\n",
       "    .dataframe tbody tr th:only-of-type {\n",
       "        vertical-align: middle;\n",
       "    }\n",
       "\n",
       "    .dataframe tbody tr th {\n",
       "        vertical-align: top;\n",
       "    }\n",
       "\n",
       "    .dataframe thead th {\n",
       "        text-align: right;\n",
       "    }\n",
       "</style>\n",
       "<table border=\"1\" class=\"dataframe\">\n",
       "  <thead>\n",
       "    <tr style=\"text-align: right;\">\n",
       "      <th></th>\n",
       "      <th>artist_name</th>\n",
       "      <th>track_name</th>\n",
       "      <th>track_id</th>\n",
       "      <th>popularity</th>\n",
       "      <th>acousticness</th>\n",
       "      <th>danceability</th>\n",
       "      <th>duration_ms</th>\n",
       "      <th>energy</th>\n",
       "      <th>instrumentalness</th>\n",
       "      <th>key</th>\n",
       "      <th>liveness</th>\n",
       "      <th>loudness</th>\n",
       "      <th>mode</th>\n",
       "      <th>speechiness</th>\n",
       "      <th>tempo</th>\n",
       "      <th>time_signature</th>\n",
       "      <th>valence</th>\n",
       "    </tr>\n",
       "  </thead>\n",
       "  <tbody>\n",
       "    <tr>\n",
       "      <th>0</th>\n",
       "      <td>Henri Salvador</td>\n",
       "      <td>C'est beau de faire un Show</td>\n",
       "      <td>0BRjO6ga9RKCKjfDqeFgWV</td>\n",
       "      <td>0</td>\n",
       "      <td>0.611</td>\n",
       "      <td>0.389</td>\n",
       "      <td>99373</td>\n",
       "      <td>0.910</td>\n",
       "      <td>0.000</td>\n",
       "      <td>C#</td>\n",
       "      <td>0.3460</td>\n",
       "      <td>-1.828</td>\n",
       "      <td>Major</td>\n",
       "      <td>0.0525</td>\n",
       "      <td>166.969</td>\n",
       "      <td>4/4</td>\n",
       "      <td>0.814</td>\n",
       "    </tr>\n",
       "    <tr>\n",
       "      <th>1</th>\n",
       "      <td>Martin &amp; les fées</td>\n",
       "      <td>Perdu d'avance (par Gad Elmaleh)</td>\n",
       "      <td>0BjC1NfoEOOusryehmNudP</td>\n",
       "      <td>1</td>\n",
       "      <td>0.246</td>\n",
       "      <td>0.590</td>\n",
       "      <td>137373</td>\n",
       "      <td>0.737</td>\n",
       "      <td>0.000</td>\n",
       "      <td>F#</td>\n",
       "      <td>0.1510</td>\n",
       "      <td>-5.559</td>\n",
       "      <td>Minor</td>\n",
       "      <td>0.0868</td>\n",
       "      <td>174.003</td>\n",
       "      <td>4/4</td>\n",
       "      <td>0.816</td>\n",
       "    </tr>\n",
       "    <tr>\n",
       "      <th>2</th>\n",
       "      <td>Joseph Williams</td>\n",
       "      <td>Don't Let Me Be Lonely Tonight</td>\n",
       "      <td>0CoSDzoNIKCRs124s9uTVy</td>\n",
       "      <td>3</td>\n",
       "      <td>0.952</td>\n",
       "      <td>0.663</td>\n",
       "      <td>170267</td>\n",
       "      <td>0.131</td>\n",
       "      <td>0.000</td>\n",
       "      <td>C</td>\n",
       "      <td>0.1030</td>\n",
       "      <td>-13.879</td>\n",
       "      <td>Minor</td>\n",
       "      <td>0.0362</td>\n",
       "      <td>99.488</td>\n",
       "      <td>5/4</td>\n",
       "      <td>0.368</td>\n",
       "    </tr>\n",
       "    <tr>\n",
       "      <th>3</th>\n",
       "      <td>Henri Salvador</td>\n",
       "      <td>Dis-moi Monsieur Gordon Cooper</td>\n",
       "      <td>0Gc6TVm52BwZD07Ki6tIvf</td>\n",
       "      <td>0</td>\n",
       "      <td>0.703</td>\n",
       "      <td>0.240</td>\n",
       "      <td>152427</td>\n",
       "      <td>0.326</td>\n",
       "      <td>0.000</td>\n",
       "      <td>C#</td>\n",
       "      <td>0.0985</td>\n",
       "      <td>-12.178</td>\n",
       "      <td>Major</td>\n",
       "      <td>0.0395</td>\n",
       "      <td>171.758</td>\n",
       "      <td>4/4</td>\n",
       "      <td>0.227</td>\n",
       "    </tr>\n",
       "    <tr>\n",
       "      <th>4</th>\n",
       "      <td>Fabien Nataf</td>\n",
       "      <td>Ouverture</td>\n",
       "      <td>0IuslXpMROHdEPvSl1fTQK</td>\n",
       "      <td>4</td>\n",
       "      <td>0.950</td>\n",
       "      <td>0.331</td>\n",
       "      <td>82625</td>\n",
       "      <td>0.225</td>\n",
       "      <td>0.123</td>\n",
       "      <td>F</td>\n",
       "      <td>0.2020</td>\n",
       "      <td>-21.150</td>\n",
       "      <td>Major</td>\n",
       "      <td>0.0456</td>\n",
       "      <td>140.576</td>\n",
       "      <td>4/4</td>\n",
       "      <td>0.390</td>\n",
       "    </tr>\n",
       "  </tbody>\n",
       "</table>\n",
       "</div>"
      ],
      "text/plain": [
       "         artist_name                        track_name  \\\n",
       "0     Henri Salvador       C'est beau de faire un Show   \n",
       "1  Martin & les fées  Perdu d'avance (par Gad Elmaleh)   \n",
       "2    Joseph Williams    Don't Let Me Be Lonely Tonight   \n",
       "3     Henri Salvador    Dis-moi Monsieur Gordon Cooper   \n",
       "4       Fabien Nataf                         Ouverture   \n",
       "\n",
       "                 track_id  popularity  acousticness  danceability  \\\n",
       "0  0BRjO6ga9RKCKjfDqeFgWV           0         0.611         0.389   \n",
       "1  0BjC1NfoEOOusryehmNudP           1         0.246         0.590   \n",
       "2  0CoSDzoNIKCRs124s9uTVy           3         0.952         0.663   \n",
       "3  0Gc6TVm52BwZD07Ki6tIvf           0         0.703         0.240   \n",
       "4  0IuslXpMROHdEPvSl1fTQK           4         0.950         0.331   \n",
       "\n",
       "   duration_ms  energy  instrumentalness key  liveness  loudness   mode  \\\n",
       "0        99373   0.910             0.000  C#    0.3460    -1.828  Major   \n",
       "1       137373   0.737             0.000  F#    0.1510    -5.559  Minor   \n",
       "2       170267   0.131             0.000   C    0.1030   -13.879  Minor   \n",
       "3       152427   0.326             0.000  C#    0.0985   -12.178  Major   \n",
       "4        82625   0.225             0.123   F    0.2020   -21.150  Major   \n",
       "\n",
       "   speechiness    tempo time_signature  valence  \n",
       "0       0.0525  166.969            4/4    0.814  \n",
       "1       0.0868  174.003            4/4    0.816  \n",
       "2       0.0362   99.488            5/4    0.368  \n",
       "3       0.0395  171.758            4/4    0.227  \n",
       "4       0.0456  140.576            4/4    0.390  "
      ]
     },
     "execution_count": 121,
     "metadata": {},
     "output_type": "execute_result"
    }
   ],
   "source": [
    "print(df_final.shape)\n",
    "df_final.head()"
   ]
  },
  {
   "cell_type": "markdown",
   "metadata": {},
   "source": [
    "### Double check for duplicates"
   ]
  },
  {
   "cell_type": "code",
   "execution_count": 122,
   "metadata": {},
   "outputs": [
    {
     "data": {
      "text/plain": [
       "35448"
      ]
     },
     "execution_count": 122,
     "metadata": {},
     "output_type": "execute_result"
    }
   ],
   "source": [
    "grouped = df_final.groupby(['artist_name','track_name'], as_index=True).size()\n",
    "grouped[grouped > 1].count()"
   ]
  },
  {
   "cell_type": "code",
   "execution_count": 123,
   "metadata": {},
   "outputs": [
    {
     "data": {
      "text/plain": [
       "(236351, 17)"
      ]
     },
     "execution_count": 123,
     "metadata": {},
     "output_type": "execute_result"
    }
   ],
   "source": [
    "df_final.shape"
   ]
  },
  {
   "cell_type": "code",
   "execution_count": 130,
   "metadata": {},
   "outputs": [
    {
     "data": {
      "text/plain": [
       "artist_name         92127\n",
       "track_name          92127\n",
       "track_id            92127\n",
       "popularity          92127\n",
       "acousticness        92127\n",
       "danceability        92127\n",
       "duration_ms         92127\n",
       "energy              92127\n",
       "instrumentalness    92127\n",
       "key                 92127\n",
       "liveness            92127\n",
       "loudness            92127\n",
       "mode                92127\n",
       "speechiness         92127\n",
       "tempo               92127\n",
       "time_signature      92127\n",
       "valence             92127\n",
       "dtype: int64"
      ]
     },
     "execution_count": 130,
     "metadata": {},
     "output_type": "execute_result"
    }
   ],
   "source": [
    "df_final[df_final.duplicated(subset=['artist_name','track_name'],keep=False)].count()"
   ]
  },
  {
   "cell_type": "code",
   "execution_count": 131,
   "metadata": {},
   "outputs": [
    {
     "data": {
      "text/plain": [
       "artist_name         41669\n",
       "track_name          41669\n",
       "track_id            41669\n",
       "popularity          41669\n",
       "acousticness        41669\n",
       "danceability        41669\n",
       "duration_ms         41669\n",
       "energy              41669\n",
       "instrumentalness    41669\n",
       "key                 41669\n",
       "liveness            41669\n",
       "loudness            41669\n",
       "mode                41669\n",
       "speechiness         41669\n",
       "tempo               41669\n",
       "time_signature      41669\n",
       "valence             41669\n",
       "dtype: int64"
      ]
     },
     "execution_count": 131,
     "metadata": {},
     "output_type": "execute_result"
    }
   ],
   "source": [
    "df_final[df_final.duplicated()].count()"
   ]
  },
  {
   "cell_type": "code",
   "execution_count": 132,
   "metadata": {
    "scrolled": true
   },
   "outputs": [],
   "source": [
    "df_final = df_final.drop_duplicates()"
   ]
  },
  {
   "cell_type": "code",
   "execution_count": 134,
   "metadata": {},
   "outputs": [
    {
     "data": {
      "text/plain": [
       "(194682, 17)"
      ]
     },
     "execution_count": 134,
     "metadata": {},
     "output_type": "execute_result"
    }
   ],
   "source": [
    "df_final.shape"
   ]
  },
  {
   "cell_type": "markdown",
   "metadata": {},
   "source": [
    "### Create the .csv file"
   ]
  },
  {
   "cell_type": "code",
   "execution_count": 136,
   "metadata": {},
   "outputs": [],
   "source": [
    "df_final.to_csv('df_final.csv')"
   ]
  },
  {
   "cell_type": "code",
   "execution_count": null,
   "metadata": {},
   "outputs": [],
   "source": []
  }
 ],
 "metadata": {
  "kernelspec": {
   "display_name": "Python 3.7.5 64-bit ('Unit_2_Linear_Models': conda)",
   "language": "python",
   "name": "python37564bitunit2linearmodelsconda4ddc633d733a4999941ddee73d4778c5"
  },
  "language_info": {
   "codemirror_mode": {
    "name": "ipython",
    "version": 3
   },
   "file_extension": ".py",
   "mimetype": "text/x-python",
   "name": "python",
   "nbconvert_exporter": "python",
   "pygments_lexer": "ipython3",
   "version": "3.7.5"
  }
 },
 "nbformat": 4,
 "nbformat_minor": 2
}
